{
 "cells": [
  {
   "cell_type": "markdown",
   "metadata": {
    "id": "NXDXEOm8T2wd"
   },
   "source": [
    "# Welcome to the session 8 Introduction to Julia!\n",
    "This jupyter notebook will contains examples, tutorials and execises.\n",
    "\n",
    "The order of the code cell is refering to the text tutorials and lecture video. Please execute the cells one-by-one \n",
    "(Shift + Enter) instead of run the whole notebook"
   ]
  },
  {
   "cell_type": "markdown",
   "metadata": {
    "id": "X7QFSd5TT2wg"
   },
   "source": [
    "## 1.1 Get started on Julia Programming\n",
    "### 1.1.1 First interactive session\n",
    "It is the example of using jupyter notebook for julia programming. \n",
    "\n",
    "When you enter an expression in the cell and press Run, the jupyter notebook will output the result."
   ]
  },
  {
   "cell_type": "code",
   "execution_count": 15,
   "metadata": {
    "executionInfo": {
     "elapsed": 230,
     "status": "ok",
     "timestamp": 1625804299064,
     "user": {
      "displayName": "William Mui",
      "photoUrl": "https://lh3.googleusercontent.com/a-/AOh14GhKyDhPBx2kSu6u1mJFldBmEQxJVleS-P-fcJZV=s64",
      "userId": "12558185108127254278"
     },
     "user_tz": -480
    },
    "id": "C6xJTgO2T2wg",
    "scrolled": true
   },
   "outputs": [
    {
     "data": {
      "text/plain": [
       "3"
      ]
     },
     "execution_count": 15,
     "metadata": {},
     "output_type": "execute_result"
    }
   ],
   "source": [
    "1+2\n"
   ]
  },
  {
   "cell_type": "markdown",
   "metadata": {
    "id": "h6Gn2o82T2wh"
   },
   "source": [
    "The result will stored to variable ans automatically, same as the Julia command line"
   ]
  },
  {
   "cell_type": "code",
   "execution_count": 3,
   "metadata": {
    "colab": {
     "base_uri": "https://localhost:8080/"
    },
    "executionInfo": {
     "elapsed": 602,
     "status": "ok",
     "timestamp": 1625804302250,
     "user": {
      "displayName": "William Mui",
      "photoUrl": "https://lh3.googleusercontent.com/a-/AOh14GhKyDhPBx2kSu6u1mJFldBmEQxJVleS-P-fcJZV=s64",
      "userId": "12558185108127254278"
     },
     "user_tz": -480
    },
    "id": "w3KGqMORT2wh",
    "outputId": "9c73968c-3771-4788-fbb6-3c45c72cd5c8"
   },
   "outputs": [
    {
     "name": "stdout",
     "output_type": "stream",
     "text": [
      "nothing"
     ]
    }
   ],
   "source": [
    "\n",
    "print(ans)"
   ]
  },
  {
   "cell_type": "markdown",
   "metadata": {
    "id": "l1UscDt3T2wh"
   },
   "source": [
    "## 1.2 Basic Concept of Julia\n",
    "### 1.2.1 \"Hello World\" Program\n",
    "\"Hello, World!\" program is a computer program that outputs or displays the message \"Hello, World!\". It is the very simple program in most programming languages.\n",
    "\n",
    "The following is the \"Hello World\" program in Julia"
   ]
  },
  {
   "cell_type": "code",
   "execution_count": 4,
   "metadata": {
    "id": "trSC6CnUT2wi",
    "scrolled": true
   },
   "outputs": [
    {
     "name": "stdout",
     "output_type": "stream",
     "text": [
      "Hello World"
     ]
    }
   ],
   "source": [
    "print(\"Hello World\")"
   ]
  },
  {
   "cell_type": "markdown",
   "metadata": {
    "id": "nsf7gIiRT2wi"
   },
   "source": [
    "### 1.2.2 Valid and Invalid name in Julia\n",
    "Julia supports using non-english characters(in UTF-8 encoding) as the variblear names. The following are the examples of valid and invalid names in Julia"
   ]
  },
  {
   "cell_type": "markdown",
   "metadata": {
    "id": "VEDMnJuKT2wj"
   },
   "source": [
    "Valid variables"
   ]
  },
  {
   "cell_type": "code",
   "execution_count": 5,
   "metadata": {
    "id": "PnM3Yxb2T2wj"
   },
   "outputs": [
    {
     "data": {
      "text/plain": [
       "1"
      ]
     },
     "execution_count": 5,
     "metadata": {},
     "output_type": "execute_result"
    }
   ],
   "source": [
    "abc = 1"
   ]
  },
  {
   "cell_type": "code",
   "execution_count": 6,
   "metadata": {
    "id": "BDIwoHsQT2wj"
   },
   "outputs": [
    {
     "data": {
      "text/plain": [
       "2"
      ]
     },
     "execution_count": 6,
     "metadata": {},
     "output_type": "execute_result"
    }
   ],
   "source": [
    "_abc = 2"
   ]
  },
  {
   "cell_type": "code",
   "execution_count": 7,
   "metadata": {
    "id": "wXiHOJSYT2wj"
   },
   "outputs": [
    {
     "data": {
      "text/plain": [
       "3"
      ]
     },
     "execution_count": 7,
     "metadata": {},
     "output_type": "execute_result"
    }
   ],
   "source": [
    "abc!123 = 3"
   ]
  },
  {
   "cell_type": "code",
   "execution_count": 8,
   "metadata": {
    "id": "6y-srlyET2wk"
   },
   "outputs": [
    {
     "data": {
      "text/plain": [
       "4"
      ]
     },
     "execution_count": 8,
     "metadata": {},
     "output_type": "execute_result"
    }
   ],
   "source": [
    "δ = 4"
   ]
  },
  {
   "cell_type": "code",
   "execution_count": 9,
   "metadata": {
    "id": "EXu1jnGdT2wk"
   },
   "outputs": [
    {
     "data": {
      "text/plain": [
       "5"
      ]
     },
     "execution_count": 9,
     "metadata": {},
     "output_type": "execute_result"
    }
   ],
   "source": [
    "안녕하세요abc123!δ = 5"
   ]
  },
  {
   "cell_type": "markdown",
   "metadata": {
    "id": "UHImEw10T2wk"
   },
   "source": [
    "Invalid variables"
   ]
  },
  {
   "cell_type": "code",
   "execution_count": 16,
   "metadata": {
    "id": "YMumgxgoT2wk"
   },
   "outputs": [
    {
     "ename": "LoadError",
     "evalue": "error in method definition: function Base.! must be explicitly imported to be extended",
     "output_type": "error",
     "traceback": [
      "error in method definition: function Base.! must be explicitly imported to be extended",
      "",
      "Stacktrace:",
      " [1] top-level scope",
      "   @ none:0",
      " [2] top-level scope",
      "   @ In[16]:1",
      " [3] eval",
      "   @ .\\boot.jl:360 [inlined]",
      " [4] include_string(mapexpr::typeof(REPL.softscope), mod::Module, code::String, filename::String)",
      "   @ Base .\\loading.jl:1116"
     ]
    }
   ],
   "source": [
    "!abc = 1"
   ]
  },
  {
   "cell_type": "code",
   "execution_count": 17,
   "metadata": {
    "id": "Fxs3dZl6T2wl"
   },
   "outputs": [
    {
     "ename": "LoadError",
     "evalue": "syntax: \"123\" is not a valid function argument name around In[17]:1",
     "output_type": "error",
     "traceback": [
      "syntax: \"123\" is not a valid function argument name around In[17]:1",
      "",
      "Stacktrace:",
      " [1] top-level scope",
      "   @ In[17]:1",
      " [2] eval",
      "   @ .\\boot.jl:360 [inlined]",
      " [3] include_string(mapexpr::typeof(REPL.softscope), mod::Module, code::String, filename::String)",
      "   @ Base .\\loading.jl:1116"
     ]
    }
   ],
   "source": [
    "123abc = 2"
   ]
  },
  {
   "cell_type": "code",
   "execution_count": 18,
   "metadata": {
    "id": "7WGgfAkpT2wl"
   },
   "outputs": [
    {
     "ename": "LoadError",
     "evalue": "syntax: unexpected \"=\"",
     "output_type": "error",
     "traceback": [
      "syntax: unexpected \"=\"",
      "",
      "Stacktrace:",
      " [1] top-level scope",
      "   @ In[18]:1",
      " [2] eval",
      "   @ .\\boot.jl:360 [inlined]",
      " [3] include_string(mapexpr::typeof(REPL.softscope), mod::Module, code::String, filename::String)",
      "   @ Base .\\loading.jl:1116"
     ]
    }
   ],
   "source": [
    "try = 3"
   ]
  },
  {
   "cell_type": "markdown",
   "metadata": {
    "id": "cfgxeXatT2wl"
   },
   "source": [
    "#### Execise:\n",
    "Try to create a variable, and run the cell to check the answer"
   ]
  },
  {
   "cell_type": "code",
   "execution_count": null,
   "metadata": {
    "id": "u36yz2lyT2wl"
   },
   "outputs": [],
   "source": []
  },
  {
   "cell_type": "markdown",
   "metadata": {
    "id": "LYTVBCv0T2wl"
   },
   "source": [
    "## 1.3 Operators in Julia\n",
    "There are three types of operators in Julia:\n",
    "1. Arithmetic Operators\n",
    "2. Bitwise Operators\n",
    "3. Updating operators\n",
    "\n",
    "#### Exercise: Use Julia as the calculator and calculate the following question"
   ]
  },
  {
   "cell_type": "markdown",
   "metadata": {
    "id": "MELc2BkRT2wm"
   },
   "source": [
    "Q1. How many seconds are there in 42 minutes 42 seconds?"
   ]
  },
  {
   "cell_type": "code",
   "execution_count": null,
   "metadata": {
    "id": "L2fz-11mT2wm"
   },
   "outputs": [],
   "source": []
  },
  {
   "cell_type": "markdown",
   "metadata": {
    "id": "7WwOPZcwT2wm"
   },
   "source": [
    "Q2. If you run a 10-kilometer race in 40 minutes, What is your average speed in kilometer per hour?\n",
    "Please store the result to the variable speed."
   ]
  },
  {
   "cell_type": "code",
   "execution_count": null,
   "metadata": {
    "id": "t3-E-x-iT2wm"
   },
   "outputs": [],
   "source": []
  },
  {
   "cell_type": "markdown",
   "metadata": {
    "id": "vGqc-nvFT2wm"
   },
   "source": [
    "You may execute this cell to check your answer and variable assignment"
   ]
  },
  {
   "cell_type": "code",
   "execution_count": null,
   "metadata": {
    "id": "0c-5FCaQT2wm"
   },
   "outputs": [],
   "source": [
    "print(speed == 15.0 ? \"You are correct\" : \"Try again\";)"
   ]
  },
  {
   "cell_type": "markdown",
   "metadata": {
    "id": "8uuJaSYBT2wn"
   },
   "source": [
    "## 1.4 Data Types in Julia\n",
    "### 1.4.1 Primitive Types\n",
    "Each variable has their own data type. Julia is a dynamically typed language and the language will decide the data type of a variable.\n",
    "\n",
    "The following are the examples of different data types"
   ]
  },
  {
   "cell_type": "code",
   "execution_count": null,
   "metadata": {
    "id": "_7XR5yciT2wn"
   },
   "outputs": [],
   "source": [
    "println(\"Signed Integer example: 123\")\n",
    "println(typeof(123))\n",
    "println(\"Float example: 123.0\")\n",
    "println(typeof(123.0))\n",
    "println(\"String example: \\\"123\\\"\")\n",
    "println(typeof(\"123\"))\n",
    "println(\"Character example: 我\")\n",
    "println(typeof('我'))\n",
    "println(\"Boolean example: true\")\n",
    "println(typeof(true))"
   ]
  },
  {
   "cell_type": "markdown",
   "metadata": {
    "id": "m8wnByK1T2wn"
   },
   "source": [
    "The example of convert function"
   ]
  },
  {
   "cell_type": "code",
   "execution_count": null,
   "metadata": {
    "id": "N7atlhgdT2wn"
   },
   "outputs": [],
   "source": [
    "a = 123\n",
    "println(\"The original type of a:\")\n",
    "println(typeof(a))\n",
    "println(\"The type of a after convert:\")\n",
    "a = convert(Float64,a)\n",
    "println(typeof(a))"
   ]
  },
  {
   "cell_type": "markdown",
   "metadata": {
    "id": "kYgzjGzBT2wo"
   },
   "source": [
    "### 1.4.2 Composite Types\n",
    "Composite type is one of the user-defined types in Julia. Composite type is a collection of variables, which means that it groups items of variant types into a single type.\n",
    "\n",
    "It is usaully to represent subordinate relationship or attributes of a object, For example:\n",
    "A student have the name and id. Name and id are belongs to the student"
   ]
  },
  {
   "cell_type": "markdown",
   "metadata": {
    "id": "zk1X9X6mT2wo"
   },
   "source": [
    "We will use the keyword \"struct\" to define a composite type"
   ]
  },
  {
   "cell_type": "markdown",
   "metadata": {
    "id": "qQj0qpLNT2wo"
   },
   "source": [
    "It is the example to create a composite called Student and create the variable called alice which is the type of Student:"
   ]
  },
  {
   "cell_type": "code",
   "execution_count": null,
   "metadata": {
    "id": "zGhGtmSlT2wo"
   },
   "outputs": [],
   "source": [
    "struct Student\n",
    "name\n",
    "id\n",
    "end"
   ]
  },
  {
   "cell_type": "code",
   "execution_count": null,
   "metadata": {
    "id": "CxfYZor_T2wo"
   },
   "outputs": [],
   "source": [
    "alice = Student(\"Alice\",1)"
   ]
  },
  {
   "cell_type": "markdown",
   "metadata": {
    "id": "E-6gzfPdT2wp"
   },
   "source": [
    "If we need to access the variable inside the composite type, use dot"
   ]
  },
  {
   "cell_type": "code",
   "execution_count": null,
   "metadata": {
    "id": "byRNJ16YT2wp"
   },
   "outputs": [],
   "source": [
    "println(\"Name:\")\n",
    "println(alice.name)\n",
    "println(\"ID:\")\n",
    "println(alice.id)"
   ]
  },
  {
   "cell_type": "markdown",
   "metadata": {
    "id": "BwiG8Ea2T2wp"
   },
   "source": [
    "The composite type is immutable, we cannot change the value after we create the variable"
   ]
  },
  {
   "cell_type": "code",
   "execution_count": null,
   "metadata": {
    "id": "JLb5zdRvT2wp"
   },
   "outputs": [],
   "source": [
    "alice.id=2"
   ]
  },
  {
   "cell_type": "markdown",
   "metadata": {
    "id": "2vLMrsOQT2wp"
   },
   "source": [
    "If you need to mutable composite type, you can add the keyword \"mutable\".\n",
    "Also, you may restrict the type of variable using :: operator."
   ]
  },
  {
   "cell_type": "code",
   "execution_count": null,
   "metadata": {
    "id": "GM3ptgAsT2wq"
   },
   "outputs": [],
   "source": [
    "mutable struct MutableStudent\n",
    "name::String\n",
    "id\n",
    "end"
   ]
  },
  {
   "cell_type": "code",
   "execution_count": null,
   "metadata": {
    "id": "qZhNuJD4T2wq"
   },
   "outputs": [],
   "source": [
    "bob = MutableStudent(\"Alice\",2)"
   ]
  },
  {
   "cell_type": "code",
   "execution_count": null,
   "metadata": {
    "id": "dFINX4OAT2wq"
   },
   "outputs": [],
   "source": [
    "bob.name = \"Bob\""
   ]
  },
  {
   "cell_type": "markdown",
   "metadata": {
    "id": "pIOTlmUdT2wq"
   },
   "source": [
    "and it will cause error if  the type is not match"
   ]
  },
  {
   "cell_type": "code",
   "execution_count": null,
   "metadata": {
    "id": "mNRMY7OXT2wq"
   },
   "outputs": [],
   "source": [
    "bob.name=123"
   ]
  },
  {
   "cell_type": "markdown",
   "metadata": {
    "id": "RBrXuINwT2wq"
   },
   "source": [
    "#### Exercise:"
   ]
  },
  {
   "cell_type": "markdown",
   "metadata": {
    "id": "RW5cS4fjT2wr"
   },
   "source": [
    "Create a mutable composite type called Class, with 2 variables name(which should be a String) and class_size(should be a Int8)"
   ]
  },
  {
   "cell_type": "code",
   "execution_count": null,
   "metadata": {
    "id": "RdtIehFzT2wr"
   },
   "outputs": [],
   "source": []
  },
  {
   "cell_type": "markdown",
   "metadata": {
    "id": "LaPiKk3GT2wr"
   },
   "source": [
    "Try to execute the following cell and check the result"
   ]
  },
  {
   "cell_type": "code",
   "execution_count": null,
   "metadata": {
    "id": "eRqNIV8eT2wr"
   },
   "outputs": [],
   "source": [
    "class = Class(\"1A\",30)\n",
    "class.class_size = 20\n",
    "println(\"The mutable composite type is correct\")\n",
    "try\n",
    "    class.name = 123\n",
    "    class.class_size = \"abc\"\n",
    "    println(\"Type checking is missing\")\n",
    "catch e\n",
    "    println(\"Type checking is correct\")\n",
    "end"
   ]
  },
  {
   "cell_type": "markdown",
   "metadata": {
    "id": "8csAtbmGT2wr"
   },
   "source": [
    "## 1.5 Character & String in Julia\n",
    "### 1.5.1 Character\n",
    "In Julia, the type Char is defined for storing a single character. The character is encoded with ASCII or UTF-8. \n",
    "\n",
    "We will use a pair of single quote to wrap the character\n"
   ]
  },
  {
   "cell_type": "code",
   "execution_count": null,
   "metadata": {
    "id": "L6AGMacTT2ws"
   },
   "outputs": [],
   "source": [
    "println(\"Character example: a\")\n",
    "println(typeof('a'))\n",
    "\n",
    "println(\"Character example: 我\")\n",
    "println(typeof('我'))\n",
    "\n",
    "println(\"Character example: 😋\")\n",
    "println(typeof('😋'))"
   ]
  },
  {
   "cell_type": "markdown",
   "metadata": {
    "id": "nZCH0CosT2ws"
   },
   "source": [
    "### 1.5.2 String\n",
    "String is a sequence of characters. In Julia, string is wrapped by double quotes or triple double quotes."
   ]
  },
  {
   "cell_type": "code",
   "execution_count": null,
   "metadata": {
    "id": "MiWPMaXXT2ws"
   },
   "outputs": [],
   "source": [
    "println(\"String example: a\")\n",
    "println(typeof(\"a\"))\n",
    "\n",
    "println(\"String example: Hello World\")\n",
    "println(typeof(\"Hello World\"))\n",
    "\n",
    "println(\"String example: Hello World😋\")\n",
    "println(typeof(\"Hello World😋\"))"
   ]
  },
  {
   "cell_type": "markdown",
   "metadata": {
    "id": "E7-OPoB5T2wt"
   },
   "source": [
    "If we need to print multi lines for a single string, we need to use '\\n'(New line character)"
   ]
  },
  {
   "cell_type": "code",
   "execution_count": null,
   "metadata": {
    "id": "GyElw0iFT2wt"
   },
   "outputs": [],
   "source": [
    "print(\"Hello\\n\\n\\n\\nWorld\")"
   ]
  },
  {
   "cell_type": "markdown",
   "metadata": {
    "id": "7V7LcLJXT2wt"
   },
   "source": [
    "To Access one of the character in a string, we use the following statement:\n",
    "(name)[(position)]\n",
    "\n",
    "Expression is allowed in the square backet"
   ]
  },
  {
   "cell_type": "code",
   "execution_count": null,
   "metadata": {
    "id": "QE0bkaS7T2wt"
   },
   "outputs": [],
   "source": [
    "str = \"Hello world\"\n",
    "println(\"The first character\")\n",
    "println(str[1])\n",
    "println(\"The last character\")\n",
    "println(str[11])\n",
    "println(\"The last character\")\n",
    "println(str[end])\n",
    "println(\"The second last character\")\n",
    "println(str[end-1])"
   ]
  },
  {
   "cell_type": "markdown",
   "metadata": {
    "id": "PHk7DBxUT2wt"
   },
   "source": [
    "To Access the sub-string in a string, we use the following statement: (name)[(position) : (position]\n",
    "\n",
    "In alternative, we may use the function SubString(str, start position, end position)\n",
    "\n",
    "Expression is allowed in the square backet"
   ]
  },
  {
   "cell_type": "code",
   "execution_count": null,
   "metadata": {
    "id": "gXhCtVmVT2wu"
   },
   "outputs": [],
   "source": [
    "str = \"Hello world\"\n",
    "println(\"The sub string hello\")\n",
    "println(str[1:5])\n",
    "println(SubString(str, 1, 5))\n",
    "\n",
    "println(\"The sub string world\")\n",
    "println(str[7:end])\n",
    "println(SubString(str, 7, 11))"
   ]
  },
  {
   "cell_type": "markdown",
   "metadata": {
    "id": "2z9zJPSxT2wu"
   },
   "source": [
    "#### Exercise: get the parts of the day based on variable str1, str2 and str3, and store to variable ans1,ans2 and ans3"
   ]
  },
  {
   "cell_type": "code",
   "execution_count": null,
   "metadata": {
    "id": "YRb3Xuc-T2wu"
   },
   "outputs": [],
   "source": [
    "str1=\"Good Morning\"\n",
    "str2=\"Good Afternoon\"\n",
    "str3=\"Good Evening\""
   ]
  },
  {
   "cell_type": "code",
   "execution_count": null,
   "metadata": {
    "id": "2rQsbXi_T2wu"
   },
   "outputs": [],
   "source": []
  },
  {
   "cell_type": "markdown",
   "metadata": {
    "id": "HBRf_7YET2wu"
   },
   "source": [
    "Check the answer"
   ]
  },
  {
   "cell_type": "code",
   "execution_count": null,
   "metadata": {
    "id": "95-4wBLpT2wv"
   },
   "outputs": [],
   "source": [
    "if(ans1 == \"Morning\" && ans2 == \"Afternoon\" && ans3 == \"Evening\")\n",
    "    print(\"Correct\")\n",
    "else\n",
    "    print(\"Try again\")\n",
    "end"
   ]
  },
  {
   "cell_type": "markdown",
   "metadata": {
    "id": "Zi917RyNT2wv"
   },
   "source": [
    "### 1.5.3 String operator\n",
    "There are 2 String Operators in Julia: * for concatenation and ^ for Subtraction\n",
    "\n",
    "^ has higher priority than *\n",
    "\n",
    "For example:"
   ]
  },
  {
   "cell_type": "code",
   "execution_count": null,
   "metadata": {
    "id": "v0v5C0MbT2wv"
   },
   "outputs": [],
   "source": [
    "println(\"Example of concatenation:\")\n",
    "println(\"Hello\" * \"World\")\n",
    "println(\"\")\n",
    "println(\"Example of subtraction:\")\n",
    "println(\"Hello\" ^ 3)\n",
    "println(\"\")\n",
    "println(\"Example of using both ^ and *:\")\n",
    "println(\"Hello\" * \"World\" ^ 3)"
   ]
  },
  {
   "cell_type": "markdown",
   "metadata": {
    "id": "l-sj_6JqT2wv"
   },
   "source": [
    "#### Exercise: Create the string \"banana\" with variable a,b and string operators"
   ]
  },
  {
   "cell_type": "code",
   "execution_count": null,
   "metadata": {
    "id": "CyrZLTnQT2wv"
   },
   "outputs": [],
   "source": [
    "a = ba\n",
    "b = na"
   ]
  },
  {
   "cell_type": "code",
   "execution_count": null,
   "metadata": {
    "id": "MwUdmaIcT2ww"
   },
   "outputs": [],
   "source": []
  },
  {
   "cell_type": "markdown",
   "metadata": {
    "id": "vklCL94rT2ww"
   },
   "source": [
    "### 1.5.4 String Interpolation\n",
    "In Julia, it is allowed to create a new string based on the previous defined string, variable or a expression\n",
    "\n",
    "We use the character '$' for interpolation\n",
    "\n",
    "For example:"
   ]
  },
  {
   "cell_type": "code",
   "execution_count": null,
   "metadata": {
    "id": "u4AbQzmIT2ww"
   },
   "outputs": [],
   "source": [
    "println(\"Create a customized greeting message\")\n",
    "name = \"Alice\"\n",
    "println(\"Hello, $name\")\n",
    "println(\"\")\n",
    "\n",
    "println(\"Create a string with expression\")\n",
    "println(\"1+2=$(1+2)\")\n",
    "println(\"\")"
   ]
  },
  {
   "cell_type": "markdown",
   "metadata": {
    "id": "bq9KOszmT2ww"
   },
   "source": [
    "#### Exercise: Complete the following print statement"
   ]
  },
  {
   "cell_type": "code",
   "execution_count": null,
   "metadata": {
    "id": "Bai7Q4WIT2ww"
   },
   "outputs": [],
   "source": [
    "x=10\n",
    "println(\"What is the answer of 2x+1?\")\n",
    "println(\"2x+1 = \")"
   ]
  },
  {
   "cell_type": "markdown",
   "metadata": {
    "id": "Xr-6mzbbT2ww"
   },
   "source": [
    "## 1.6 Functions in Julia\n",
    "###1.6.1 Functions\n",
    "In practice, we usually split the program into several functions.\n",
    "\n",
    "We may use the keyword \"function\" or mathematical style to define a function.\n",
    "\n",
    "In the example, we defined two function and perform the same calculation"
   ]
  },
  {
   "cell_type": "code",
   "execution_count": null,
   "metadata": {
    "id": "IGqGN-RST2wx"
   },
   "outputs": [],
   "source": [
    "function fun1(x)\n",
    "    return 2x+1\n",
    "end\n",
    "\n",
    "fun2(x) = 2x+1\n"
   ]
  },
  {
   "cell_type": "markdown",
   "metadata": {
    "id": "WLQRMc2hT2wx"
   },
   "source": [
    "When we use the function to perform calculations. It is called \"call the function\". A function is called with the parameters"
   ]
  },
  {
   "cell_type": "code",
   "execution_count": null,
   "metadata": {
    "id": "Kn8F5eWUT2wx"
   },
   "outputs": [],
   "source": [
    "println(\"Calling fun1\")\n",
    "println(fun1(10))\n",
    "println()\n",
    "println(\"Calling fun2\")\n",
    "println(fun2(10))"
   ]
  },
  {
   "cell_type": "markdown",
   "metadata": {
    "id": "Mi9kL0TtT2wx"
   },
   "source": [
    "### 1.6.2 Argument tyoes and overloading\n",
    "\n",
    "The input of the function defination have a special name: argument. In some cases, we would like the function only to work on specific types. For example:"
   ]
  },
  {
   "cell_type": "code",
   "execution_count": null,
   "metadata": {
    "id": "LhA1Kf78T2wx"
   },
   "outputs": [],
   "source": [
    "function fun3(x::Int8)\n",
    "    return 2x+1\n",
    "end"
   ]
  },
  {
   "cell_type": "markdown",
   "metadata": {
    "id": "ZL7A-rRlT2wy"
   },
   "source": [
    "It works"
   ]
  },
  {
   "cell_type": "code",
   "execution_count": null,
   "metadata": {
    "id": "CxR8D_o8T2wy"
   },
   "outputs": [],
   "source": [
    "fun3(convert(Int8,20))"
   ]
  },
  {
   "cell_type": "markdown",
   "metadata": {
    "id": "E5HeUzIhT2wy"
   },
   "source": [
    "It fails"
   ]
  },
  {
   "cell_type": "code",
   "execution_count": null,
   "metadata": {
    "id": "UOyKqzZiT2wy"
   },
   "outputs": [],
   "source": [
    "fun3(20)"
   ]
  },
  {
   "cell_type": "code",
   "execution_count": null,
   "metadata": {
    "id": "gDw61vg_T2wy"
   },
   "outputs": [],
   "source": [
    "fun3(20.0)"
   ]
  },
  {
   "cell_type": "markdown",
   "metadata": {
    "id": "5_Xseoa2T2wy"
   },
   "source": [
    "Julia allows function overloading. \n",
    "\n",
    "The meaning of function overloading is: we can define two functions with the same name, but doing different things based on the types of input arguments"
   ]
  },
  {
   "cell_type": "code",
   "execution_count": null,
   "metadata": {
    "id": "WS7-pfC0T2wz",
    "outputId": "d58b7c0f-559c-4bc0-c691-b64211e37a48"
   },
   "outputs": [
    {
     "data": {
      "text/plain": [
       "fun4 (generic function with 2 methods)"
      ]
     },
     "execution_count": 36,
     "metadata": {
      "tags": []
     },
     "output_type": "execute_result"
    }
   ],
   "source": [
    "fun4(x::Int64) = x + 100\n",
    "fun4(x::Int8) = x + 1"
   ]
  },
  {
   "cell_type": "code",
   "execution_count": null,
   "metadata": {
    "id": "-t2IR1OXT2w0",
    "outputId": "690dac7a-7f79-4e20-e9d2-b47579566a72"
   },
   "outputs": [
    {
     "name": "stdout",
     "output_type": "stream",
     "text": [
      "If the input is Int64\n",
      "120\n",
      "\n",
      "If the input is Int8\n",
      "21\n"
     ]
    }
   ],
   "source": [
    "println(\"If the input is Int64\")\n",
    "println(fun4(20))\n",
    "println()\n",
    "println(\"If the input is Int8\")\n",
    "println(fun4(convert(Int8,20)))"
   ]
  },
  {
   "cell_type": "markdown",
   "metadata": {
    "id": "HFy2lQo1T2w0"
   },
   "source": [
    "#### Exercise: Design a function called calculate which is calculate 3*x^2+2x+1, and print the result within the function. It should only work on integer(Int64)."
   ]
  },
  {
   "cell_type": "code",
   "execution_count": null,
   "metadata": {
    "id": "sYef9ZhqT2w0"
   },
   "outputs": [],
   "source": []
  },
  {
   "cell_type": "markdown",
   "metadata": {
    "id": "FwVeemueT2w0"
   },
   "source": [
    "It should works and the result should be 17"
   ]
  },
  {
   "cell_type": "code",
   "execution_count": null,
   "metadata": {
    "id": "rbgF0f0nT2w0"
   },
   "outputs": [],
   "source": [
    "calculate(2)"
   ]
  },
  {
   "cell_type": "markdown",
   "metadata": {
    "id": "mkj6LoAyT2w1"
   },
   "source": [
    "The following cells should not work"
   ]
  },
  {
   "cell_type": "code",
   "execution_count": null,
   "metadata": {
    "id": "cQxjTeo1T2w1"
   },
   "outputs": [],
   "source": [
    "calculate(convert(Int8,2))"
   ]
  },
  {
   "cell_type": "code",
   "execution_count": null,
   "metadata": {
    "id": "TkiaDEEPT2w1"
   },
   "outputs": [],
   "source": [
    "convert(2.0)"
   ]
  },
  {
   "cell_type": "code",
   "execution_count": null,
   "metadata": {
    "id": "5wIUWeQzT2w1"
   },
   "outputs": [],
   "source": []
  }
 ],
 "metadata": {
  "colab": {
   "name": "Week1.ipynb",
   "provenance": []
  },
  "kernelspec": {
   "display_name": "Julia 1.6.2",
   "language": "julia",
   "name": "julia-1.6"
  },
  "language_info": {
   "file_extension": ".jl",
   "mimetype": "application/julia",
   "name": "julia",
   "version": "1.6.2"
  }
 },
 "nbformat": 4,
 "nbformat_minor": 1
}
