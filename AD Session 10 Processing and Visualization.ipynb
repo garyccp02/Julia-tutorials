{
 "cells": [
  {
   "cell_type": "markdown",
   "metadata": {},
   "source": [
    "# Welcome to the session 10!\n",
    "This jupyter notebook will contains examples, tutorials and execises.\n",
    "\n",
    "The order of the code cell is refering to the text tutorials and lecture video. Please execute the cells one-by-one instead of run the whole notebook\n",
    "\n",
    "# Data processing and Visualisation in Julia\n",
    "## DataFrames.jl"
   ]
  },
  {
   "cell_type": "markdown",
   "metadata": {},
   "source": [
    "### Installation\n",
    "The DataFrames package is available through the Julia package system and can be installed using the following commands"
   ]
  },
  {
   "cell_type": "code",
   "execution_count": 1,
   "metadata": {},
   "outputs": [
    {
     "name": "stderr",
     "output_type": "stream",
     "text": [
      "\u001b[32m\u001b[1m    Updating\u001b[22m\u001b[39m registry at `C:\\Users\\user\\.julia\\registries\\General`\n",
      "\u001b[32m\u001b[1m    Updating\u001b[22m\u001b[39m git-repo `https://github.com/JuliaRegistries/General.git`\n",
      "\u001b[32m\u001b[1m   Resolving\u001b[22m\u001b[39m package versions...\n",
      "\u001b[32m\u001b[1m  No Changes\u001b[22m\u001b[39m to `C:\\Users\\user\\.julia\\environments\\v1.6\\Project.toml`\n",
      "\u001b[32m\u001b[1m  No Changes\u001b[22m\u001b[39m to `C:\\Users\\user\\.julia\\environments\\v1.6\\Manifest.toml`\n"
     ]
    }
   ],
   "source": [
    "using Pkg\n",
    "\n",
    "Pkg.add(\"DataFrames\")\n",
    "\n",
    "using DataFrames"
   ]
  },
  {
   "cell_type": "markdown",
   "metadata": {},
   "source": [
    "### Getting Started\n",
    "#### The DataFrame Type\n",
    "Objects of the DataFrame type represent a data table as a series of vectors, each corresponding to a column or variable. The simplest way of constructing a DataFrame is to pass column vectors using keyword arguments or pairs\n",
    "\n",
    "##### Construct the DataFrame Object with initialization\n",
    "In the following example, we will create a table for storing the student information"
   ]
  },
  {
   "cell_type": "code",
   "execution_count": 2,
   "metadata": {},
   "outputs": [
    {
     "name": "stdout",
     "output_type": "stream",
     "text": [
      "\u001b[1m4×2 DataFrame\u001b[0m\n",
      "\u001b[1m Row \u001b[0m│\u001b[1m name   \u001b[0m\u001b[1m gender \u001b[0m\n",
      "\u001b[1m     \u001b[0m│\u001b[90m String \u001b[0m\u001b[90m String \u001b[0m\n",
      "─────┼────────────────\n",
      "   1 │ Alice   F\n",
      "   2 │ Bob     M\n",
      "   3 │ Chris   M\n",
      "   4 │ Doris   F"
     ]
    }
   ],
   "source": [
    "students = DataFrames.DataFrame(name = [\"Alice\", \"Bob\", \"Chris\", \"Doris\"], gender = [\"F\", \"M\", \"M\", \"F\"])\n",
    "print(students)"
   ]
  },
  {
   "cell_type": "markdown",
   "metadata": {},
   "source": [
    "To access the column, using the \".\""
   ]
  },
  {
   "cell_type": "code",
   "execution_count": 3,
   "metadata": {},
   "outputs": [
    {
     "name": "stdout",
     "output_type": "stream",
     "text": [
      "[\"Alice\", \"Bob\", \"Chris\", \"Doris\"]"
     ]
    }
   ],
   "source": [
    "print(students.name)"
   ]
  },
  {
   "cell_type": "markdown",
   "metadata": {},
   "source": [
    "To access a row, using the a pair of square bracket"
   ]
  },
  {
   "cell_type": "code",
   "execution_count": 4,
   "metadata": {},
   "outputs": [
    {
     "name": "stdout",
     "output_type": "stream",
     "text": [
      "\u001b[1mDataFrameRow\u001b[0m\n",
      "\u001b[1m Row \u001b[0m│\u001b[1m name   \u001b[0m\u001b[1m gender \u001b[0m\n",
      "\u001b[1m     \u001b[0m│\u001b[90m String \u001b[0m\u001b[90m String \u001b[0m\n",
      "─────┼────────────────\n",
      "   1 │ Alice   F"
     ]
    }
   ],
   "source": [
    "print(students[1,:])"
   ]
  },
  {
   "cell_type": "markdown",
   "metadata": {},
   "source": [
    "##### Construct the DataFrame Object Column by Column\n",
    "It is also possible to start with an empty DataFrame and add columns to it one by one"
   ]
  },
  {
   "cell_type": "code",
   "execution_count": 5,
   "metadata": {},
   "outputs": [
    {
     "name": "stdout",
     "output_type": "stream",
     "text": [
      "\u001b[1m4×2 DataFrame\u001b[0m\n",
      "\u001b[1m Row \u001b[0m│\u001b[1m name   \u001b[0m\u001b[1m gender \u001b[0m\n",
      "\u001b[1m     \u001b[0m│\u001b[90m String \u001b[0m\u001b[90m String \u001b[0m\n",
      "─────┼────────────────\n",
      "   1 │ Alice   F\n",
      "   2 │ Bob     M\n",
      "   3 │ Chris   M\n",
      "   4 │ Doris   F"
     ]
    }
   ],
   "source": [
    "students_cbc = DataFrames.DataFrame()\n",
    "students_cbc.name = [\"Alice\", \"Bob\", \"Chris\", \"Doris\"]\n",
    "students_cbc.gender = [\"F\", \"M\", \"M\", \"F\"]\n",
    "\n",
    "print(students_cbc)"
   ]
  },
  {
   "cell_type": "markdown",
   "metadata": {},
   "source": [
    "##### Construct the DataFrame Object Row by Row / Adding data\n",
    "Similar to array, we can add data into the DataFrame Object with push!() function, and we can create the DataFrame Object by pushing the data into the object"
   ]
  },
  {
   "cell_type": "code",
   "execution_count": 6,
   "metadata": {},
   "outputs": [
    {
     "name": "stdout",
     "output_type": "stream",
     "text": [
      "\u001b[1m4×3 DataFrame\u001b[0m\n",
      "\u001b[1m Row \u001b[0m│\u001b[1m name   \u001b[0m\u001b[1m gender \u001b[0m\u001b[1m score \u001b[0m\n",
      "\u001b[1m     \u001b[0m│\u001b[90m String \u001b[0m\u001b[90m String \u001b[0m\u001b[90m Int64 \u001b[0m\n",
      "─────┼───────────────────────\n",
      "   1 │ Alice   F         100\n",
      "   2 │ Bob     M          65\n",
      "   3 │ Chris   M          50\n",
      "   4 │ Doris   F          40"
     ]
    }
   ],
   "source": [
    "students_rbr = DataFrames.DataFrame(name = String[], gender = String[], score = Int64[])\n",
    "push!(students_rbr, (\"Alice\", \"F\", 100))\n",
    "push!(students_rbr, (\"Bob\", \"M\", 65))\n",
    "push!(students_rbr, (\"Chris\", \"M\", 50))\n",
    "push!(students_rbr, (\"Doris\", \"F\", 40))\n",
    "\n",
    "print(students_rbr)"
   ]
  },
  {
   "cell_type": "markdown",
   "metadata": {},
   "source": [
    "### Working with Data Frames\n",
    "The followings are the common operation with DataFrame object. We will use the large_data as example"
   ]
  },
  {
   "cell_type": "code",
   "execution_count": 7,
   "metadata": {},
   "outputs": [
    {
     "data": {
      "text/html": [
       "<table class=\"data-frame\"><thead><tr><th></th><th>index</th><th>value</th><th>value2</th></tr><tr><th></th><th>Int64</th><th>Int64</th><th>Int64</th></tr></thead><tbody><p>500 rows × 3 columns</p><tr><th>1</th><td>1</td><td>1</td><td>1</td></tr><tr><th>2</th><td>2</td><td>1</td><td>3</td></tr><tr><th>3</th><td>3</td><td>1</td><td>5</td></tr><tr><th>4</th><td>4</td><td>1</td><td>7</td></tr><tr><th>5</th><td>5</td><td>1</td><td>9</td></tr><tr><th>6</th><td>6</td><td>1</td><td>11</td></tr><tr><th>7</th><td>7</td><td>1</td><td>13</td></tr><tr><th>8</th><td>8</td><td>1</td><td>15</td></tr><tr><th>9</th><td>9</td><td>1</td><td>17</td></tr><tr><th>10</th><td>10</td><td>1</td><td>19</td></tr><tr><th>11</th><td>11</td><td>1</td><td>21</td></tr><tr><th>12</th><td>12</td><td>1</td><td>23</td></tr><tr><th>13</th><td>13</td><td>1</td><td>25</td></tr><tr><th>14</th><td>14</td><td>1</td><td>27</td></tr><tr><th>15</th><td>15</td><td>1</td><td>29</td></tr><tr><th>16</th><td>16</td><td>1</td><td>31</td></tr><tr><th>17</th><td>17</td><td>1</td><td>33</td></tr><tr><th>18</th><td>18</td><td>1</td><td>35</td></tr><tr><th>19</th><td>19</td><td>1</td><td>37</td></tr><tr><th>20</th><td>20</td><td>1</td><td>39</td></tr><tr><th>21</th><td>21</td><td>1</td><td>41</td></tr><tr><th>22</th><td>22</td><td>1</td><td>43</td></tr><tr><th>23</th><td>23</td><td>1</td><td>45</td></tr><tr><th>24</th><td>24</td><td>1</td><td>47</td></tr><tr><th>25</th><td>25</td><td>1</td><td>49</td></tr><tr><th>26</th><td>26</td><td>1</td><td>51</td></tr><tr><th>27</th><td>27</td><td>1</td><td>53</td></tr><tr><th>28</th><td>28</td><td>1</td><td>55</td></tr><tr><th>29</th><td>29</td><td>1</td><td>57</td></tr><tr><th>30</th><td>30</td><td>1</td><td>59</td></tr><tr><th>&vellip;</th><td>&vellip;</td><td>&vellip;</td><td>&vellip;</td></tr></tbody></table>"
      ],
      "text/latex": [
       "\\begin{tabular}{r|ccc}\n",
       "\t& index & value & value2\\\\\n",
       "\t\\hline\n",
       "\t& Int64 & Int64 & Int64\\\\\n",
       "\t\\hline\n",
       "\t1 & 1 & 1 & 1 \\\\\n",
       "\t2 & 2 & 1 & 3 \\\\\n",
       "\t3 & 3 & 1 & 5 \\\\\n",
       "\t4 & 4 & 1 & 7 \\\\\n",
       "\t5 & 5 & 1 & 9 \\\\\n",
       "\t6 & 6 & 1 & 11 \\\\\n",
       "\t7 & 7 & 1 & 13 \\\\\n",
       "\t8 & 8 & 1 & 15 \\\\\n",
       "\t9 & 9 & 1 & 17 \\\\\n",
       "\t10 & 10 & 1 & 19 \\\\\n",
       "\t11 & 11 & 1 & 21 \\\\\n",
       "\t12 & 12 & 1 & 23 \\\\\n",
       "\t13 & 13 & 1 & 25 \\\\\n",
       "\t14 & 14 & 1 & 27 \\\\\n",
       "\t15 & 15 & 1 & 29 \\\\\n",
       "\t16 & 16 & 1 & 31 \\\\\n",
       "\t17 & 17 & 1 & 33 \\\\\n",
       "\t18 & 18 & 1 & 35 \\\\\n",
       "\t19 & 19 & 1 & 37 \\\\\n",
       "\t20 & 20 & 1 & 39 \\\\\n",
       "\t21 & 21 & 1 & 41 \\\\\n",
       "\t22 & 22 & 1 & 43 \\\\\n",
       "\t23 & 23 & 1 & 45 \\\\\n",
       "\t24 & 24 & 1 & 47 \\\\\n",
       "\t25 & 25 & 1 & 49 \\\\\n",
       "\t26 & 26 & 1 & 51 \\\\\n",
       "\t27 & 27 & 1 & 53 \\\\\n",
       "\t28 & 28 & 1 & 55 \\\\\n",
       "\t29 & 29 & 1 & 57 \\\\\n",
       "\t30 & 30 & 1 & 59 \\\\\n",
       "\t$\\dots$ & $\\dots$ & $\\dots$ & $\\dots$ \\\\\n",
       "\\end{tabular}\n"
      ],
      "text/plain": [
       "\u001b[1m500×3 DataFrame\u001b[0m\n",
       "\u001b[1m Row \u001b[0m│\u001b[1m index \u001b[0m\u001b[1m value \u001b[0m\u001b[1m value2 \u001b[0m\n",
       "\u001b[1m     \u001b[0m│\u001b[90m Int64 \u001b[0m\u001b[90m Int64 \u001b[0m\u001b[90m Int64  \u001b[0m\n",
       "─────┼──────────────────────\n",
       "   1 │     1      1       1\n",
       "   2 │     2      1       3\n",
       "   3 │     3      1       5\n",
       "   4 │     4      1       7\n",
       "   5 │     5      1       9\n",
       "   6 │     6      1      11\n",
       "   7 │     7      1      13\n",
       "   8 │     8      1      15\n",
       "   9 │     9      1      17\n",
       "  10 │    10      1      19\n",
       "  11 │    11      1      21\n",
       "  ⋮  │   ⋮      ⋮      ⋮\n",
       " 491 │   491     10     981\n",
       " 492 │   492     10     983\n",
       " 493 │   493     10     985\n",
       " 494 │   494     10     987\n",
       " 495 │   495     10     989\n",
       " 496 │   496     10     991\n",
       " 497 │   497     10     993\n",
       " 498 │   498     10     995\n",
       " 499 │   499     10     997\n",
       " 500 │   500     10     999\n",
       "\u001b[36m            479 rows omitted\u001b[0m"
      ]
     },
     "execution_count": 7,
     "metadata": {},
     "output_type": "execute_result"
    }
   ],
   "source": [
    "large_data = DataFrame(index = 1:500, value = repeat(1:10, inner=50), value2 = 1:2:1000)"
   ]
  },
  {
   "cell_type": "markdown",
   "metadata": {},
   "source": [
    "#### first() and last()\n",
    "The first and last functions can be used to look at the first and last rows of a data frame (respectively)"
   ]
  },
  {
   "cell_type": "code",
   "execution_count": 8,
   "metadata": {},
   "outputs": [
    {
     "data": {
      "text/html": [
       "<table class=\"data-frame\"><thead><tr><th></th><th>index</th><th>value</th><th>value2</th></tr><tr><th></th><th>Int64</th><th>Int64</th><th>Int64</th></tr></thead><tbody><p>5 rows × 3 columns</p><tr><th>1</th><td>1</td><td>1</td><td>1</td></tr><tr><th>2</th><td>2</td><td>1</td><td>3</td></tr><tr><th>3</th><td>3</td><td>1</td><td>5</td></tr><tr><th>4</th><td>4</td><td>1</td><td>7</td></tr><tr><th>5</th><td>5</td><td>1</td><td>9</td></tr></tbody></table>"
      ],
      "text/latex": [
       "\\begin{tabular}{r|ccc}\n",
       "\t& index & value & value2\\\\\n",
       "\t\\hline\n",
       "\t& Int64 & Int64 & Int64\\\\\n",
       "\t\\hline\n",
       "\t1 & 1 & 1 & 1 \\\\\n",
       "\t2 & 2 & 1 & 3 \\\\\n",
       "\t3 & 3 & 1 & 5 \\\\\n",
       "\t4 & 4 & 1 & 7 \\\\\n",
       "\t5 & 5 & 1 & 9 \\\\\n",
       "\\end{tabular}\n"
      ],
      "text/plain": [
       "\u001b[1m5×3 DataFrame\u001b[0m\n",
       "\u001b[1m Row \u001b[0m│\u001b[1m index \u001b[0m\u001b[1m value \u001b[0m\u001b[1m value2 \u001b[0m\n",
       "\u001b[1m     \u001b[0m│\u001b[90m Int64 \u001b[0m\u001b[90m Int64 \u001b[0m\u001b[90m Int64  \u001b[0m\n",
       "─────┼──────────────────────\n",
       "   1 │     1      1       1\n",
       "   2 │     2      1       3\n",
       "   3 │     3      1       5\n",
       "   4 │     4      1       7\n",
       "   5 │     5      1       9"
      ]
     },
     "execution_count": 8,
     "metadata": {},
     "output_type": "execute_result"
    }
   ],
   "source": [
    "first(large_data, 5)"
   ]
  },
  {
   "cell_type": "code",
   "execution_count": 9,
   "metadata": {},
   "outputs": [
    {
     "data": {
      "text/html": [
       "<table class=\"data-frame\"><thead><tr><th></th><th>index</th><th>value</th><th>value2</th></tr><tr><th></th><th>Int64</th><th>Int64</th><th>Int64</th></tr></thead><tbody><p>5 rows × 3 columns</p><tr><th>1</th><td>496</td><td>10</td><td>991</td></tr><tr><th>2</th><td>497</td><td>10</td><td>993</td></tr><tr><th>3</th><td>498</td><td>10</td><td>995</td></tr><tr><th>4</th><td>499</td><td>10</td><td>997</td></tr><tr><th>5</th><td>500</td><td>10</td><td>999</td></tr></tbody></table>"
      ],
      "text/latex": [
       "\\begin{tabular}{r|ccc}\n",
       "\t& index & value & value2\\\\\n",
       "\t\\hline\n",
       "\t& Int64 & Int64 & Int64\\\\\n",
       "\t\\hline\n",
       "\t1 & 496 & 10 & 991 \\\\\n",
       "\t2 & 497 & 10 & 993 \\\\\n",
       "\t3 & 498 & 10 & 995 \\\\\n",
       "\t4 & 499 & 10 & 997 \\\\\n",
       "\t5 & 500 & 10 & 999 \\\\\n",
       "\\end{tabular}\n"
      ],
      "text/plain": [
       "\u001b[1m5×3 DataFrame\u001b[0m\n",
       "\u001b[1m Row \u001b[0m│\u001b[1m index \u001b[0m\u001b[1m value \u001b[0m\u001b[1m value2 \u001b[0m\n",
       "\u001b[1m     \u001b[0m│\u001b[90m Int64 \u001b[0m\u001b[90m Int64 \u001b[0m\u001b[90m Int64  \u001b[0m\n",
       "─────┼──────────────────────\n",
       "   1 │   496     10     991\n",
       "   2 │   497     10     993\n",
       "   3 │   498     10     995\n",
       "   4 │   499     10     997\n",
       "   5 │   500     10     999"
      ]
     },
     "execution_count": 9,
     "metadata": {},
     "output_type": "execute_result"
    }
   ],
   "source": [
    "last(large_data, 5)"
   ]
  },
  {
   "cell_type": "markdown",
   "metadata": {},
   "source": [
    "#### Create sub-DataFrame\n",
    "The syntax of creating sub-DataFrame is similar with how we access the array\n"
   ]
  },
  {
   "cell_type": "markdown",
   "metadata": {},
   "source": [
    "Example of creating sub-DataFrame with the data from row 1,3,5"
   ]
  },
  {
   "cell_type": "code",
   "execution_count": 10,
   "metadata": {},
   "outputs": [
    {
     "data": {
      "text/html": [
       "<table class=\"data-frame\"><thead><tr><th></th><th>index</th><th>value</th><th>value2</th></tr><tr><th></th><th>Int64</th><th>Int64</th><th>Int64</th></tr></thead><tbody><p>3 rows × 3 columns</p><tr><th>1</th><td>1</td><td>1</td><td>1</td></tr><tr><th>2</th><td>3</td><td>1</td><td>5</td></tr><tr><th>3</th><td>5</td><td>1</td><td>9</td></tr></tbody></table>"
      ],
      "text/latex": [
       "\\begin{tabular}{r|ccc}\n",
       "\t& index & value & value2\\\\\n",
       "\t\\hline\n",
       "\t& Int64 & Int64 & Int64\\\\\n",
       "\t\\hline\n",
       "\t1 & 1 & 1 & 1 \\\\\n",
       "\t2 & 3 & 1 & 5 \\\\\n",
       "\t3 & 5 & 1 & 9 \\\\\n",
       "\\end{tabular}\n"
      ],
      "text/plain": [
       "\u001b[1m3×3 DataFrame\u001b[0m\n",
       "\u001b[1m Row \u001b[0m│\u001b[1m index \u001b[0m\u001b[1m value \u001b[0m\u001b[1m value2 \u001b[0m\n",
       "\u001b[1m     \u001b[0m│\u001b[90m Int64 \u001b[0m\u001b[90m Int64 \u001b[0m\u001b[90m Int64  \u001b[0m\n",
       "─────┼──────────────────────\n",
       "   1 │     1      1       1\n",
       "   2 │     3      1       5\n",
       "   3 │     5      1       9"
      ]
     },
     "execution_count": 10,
     "metadata": {},
     "output_type": "execute_result"
    }
   ],
   "source": [
    "large_data[[1,3,5], :]"
   ]
  },
  {
   "cell_type": "markdown",
   "metadata": {},
   "source": [
    "Example of creating sub-DataFrame with the column index and value"
   ]
  },
  {
   "cell_type": "code",
   "execution_count": 11,
   "metadata": {},
   "outputs": [
    {
     "data": {
      "text/html": [
       "<table class=\"data-frame\"><thead><tr><th></th><th>index</th><th>value</th></tr><tr><th></th><th>Int64</th><th>Int64</th></tr></thead><tbody><p>500 rows × 2 columns</p><tr><th>1</th><td>1</td><td>1</td></tr><tr><th>2</th><td>2</td><td>1</td></tr><tr><th>3</th><td>3</td><td>1</td></tr><tr><th>4</th><td>4</td><td>1</td></tr><tr><th>5</th><td>5</td><td>1</td></tr><tr><th>6</th><td>6</td><td>1</td></tr><tr><th>7</th><td>7</td><td>1</td></tr><tr><th>8</th><td>8</td><td>1</td></tr><tr><th>9</th><td>9</td><td>1</td></tr><tr><th>10</th><td>10</td><td>1</td></tr><tr><th>11</th><td>11</td><td>1</td></tr><tr><th>12</th><td>12</td><td>1</td></tr><tr><th>13</th><td>13</td><td>1</td></tr><tr><th>14</th><td>14</td><td>1</td></tr><tr><th>15</th><td>15</td><td>1</td></tr><tr><th>16</th><td>16</td><td>1</td></tr><tr><th>17</th><td>17</td><td>1</td></tr><tr><th>18</th><td>18</td><td>1</td></tr><tr><th>19</th><td>19</td><td>1</td></tr><tr><th>20</th><td>20</td><td>1</td></tr><tr><th>21</th><td>21</td><td>1</td></tr><tr><th>22</th><td>22</td><td>1</td></tr><tr><th>23</th><td>23</td><td>1</td></tr><tr><th>24</th><td>24</td><td>1</td></tr><tr><th>25</th><td>25</td><td>1</td></tr><tr><th>26</th><td>26</td><td>1</td></tr><tr><th>27</th><td>27</td><td>1</td></tr><tr><th>28</th><td>28</td><td>1</td></tr><tr><th>29</th><td>29</td><td>1</td></tr><tr><th>30</th><td>30</td><td>1</td></tr><tr><th>&vellip;</th><td>&vellip;</td><td>&vellip;</td></tr></tbody></table>"
      ],
      "text/latex": [
       "\\begin{tabular}{r|cc}\n",
       "\t& index & value\\\\\n",
       "\t\\hline\n",
       "\t& Int64 & Int64\\\\\n",
       "\t\\hline\n",
       "\t1 & 1 & 1 \\\\\n",
       "\t2 & 2 & 1 \\\\\n",
       "\t3 & 3 & 1 \\\\\n",
       "\t4 & 4 & 1 \\\\\n",
       "\t5 & 5 & 1 \\\\\n",
       "\t6 & 6 & 1 \\\\\n",
       "\t7 & 7 & 1 \\\\\n",
       "\t8 & 8 & 1 \\\\\n",
       "\t9 & 9 & 1 \\\\\n",
       "\t10 & 10 & 1 \\\\\n",
       "\t11 & 11 & 1 \\\\\n",
       "\t12 & 12 & 1 \\\\\n",
       "\t13 & 13 & 1 \\\\\n",
       "\t14 & 14 & 1 \\\\\n",
       "\t15 & 15 & 1 \\\\\n",
       "\t16 & 16 & 1 \\\\\n",
       "\t17 & 17 & 1 \\\\\n",
       "\t18 & 18 & 1 \\\\\n",
       "\t19 & 19 & 1 \\\\\n",
       "\t20 & 20 & 1 \\\\\n",
       "\t21 & 21 & 1 \\\\\n",
       "\t22 & 22 & 1 \\\\\n",
       "\t23 & 23 & 1 \\\\\n",
       "\t24 & 24 & 1 \\\\\n",
       "\t25 & 25 & 1 \\\\\n",
       "\t26 & 26 & 1 \\\\\n",
       "\t27 & 27 & 1 \\\\\n",
       "\t28 & 28 & 1 \\\\\n",
       "\t29 & 29 & 1 \\\\\n",
       "\t30 & 30 & 1 \\\\\n",
       "\t$\\dots$ & $\\dots$ & $\\dots$ \\\\\n",
       "\\end{tabular}\n"
      ],
      "text/plain": [
       "\u001b[1m500×2 DataFrame\u001b[0m\n",
       "\u001b[1m Row \u001b[0m│\u001b[1m index \u001b[0m\u001b[1m value \u001b[0m\n",
       "\u001b[1m     \u001b[0m│\u001b[90m Int64 \u001b[0m\u001b[90m Int64 \u001b[0m\n",
       "─────┼──────────────\n",
       "   1 │     1      1\n",
       "   2 │     2      1\n",
       "   3 │     3      1\n",
       "   4 │     4      1\n",
       "   5 │     5      1\n",
       "   6 │     6      1\n",
       "   7 │     7      1\n",
       "   8 │     8      1\n",
       "   9 │     9      1\n",
       "  10 │    10      1\n",
       "  11 │    11      1\n",
       "  ⋮  │   ⋮      ⋮\n",
       " 491 │   491     10\n",
       " 492 │   492     10\n",
       " 493 │   493     10\n",
       " 494 │   494     10\n",
       " 495 │   495     10\n",
       " 496 │   496     10\n",
       " 497 │   497     10\n",
       " 498 │   498     10\n",
       " 499 │   499     10\n",
       " 500 │   500     10\n",
       "\u001b[36m    479 rows omitted\u001b[0m"
      ]
     },
     "execution_count": 11,
     "metadata": {},
     "output_type": "execute_result"
    }
   ],
   "source": [
    "large_data[:, [:index, :value]]"
   ]
  },
  {
   "cell_type": "markdown",
   "metadata": {},
   "source": [
    "#### Create sub-DataFrame by selecting columns\n",
    "You can also use the select/select!  functions to select columns in a data frame.\n",
    "\n",
    "The select function creates a new data frame"
   ]
  },
  {
   "cell_type": "markdown",
   "metadata": {},
   "source": [
    "Example: creating new sub-DataFrame without value2 column"
   ]
  },
  {
   "cell_type": "code",
   "execution_count": 12,
   "metadata": {},
   "outputs": [
    {
     "data": {
      "text/html": [
       "<table class=\"data-frame\"><thead><tr><th></th><th>index</th><th>value</th></tr><tr><th></th><th>Int64</th><th>Int64</th></tr></thead><tbody><p>500 rows × 2 columns</p><tr><th>1</th><td>1</td><td>1</td></tr><tr><th>2</th><td>2</td><td>1</td></tr><tr><th>3</th><td>3</td><td>1</td></tr><tr><th>4</th><td>4</td><td>1</td></tr><tr><th>5</th><td>5</td><td>1</td></tr><tr><th>6</th><td>6</td><td>1</td></tr><tr><th>7</th><td>7</td><td>1</td></tr><tr><th>8</th><td>8</td><td>1</td></tr><tr><th>9</th><td>9</td><td>1</td></tr><tr><th>10</th><td>10</td><td>1</td></tr><tr><th>11</th><td>11</td><td>1</td></tr><tr><th>12</th><td>12</td><td>1</td></tr><tr><th>13</th><td>13</td><td>1</td></tr><tr><th>14</th><td>14</td><td>1</td></tr><tr><th>15</th><td>15</td><td>1</td></tr><tr><th>16</th><td>16</td><td>1</td></tr><tr><th>17</th><td>17</td><td>1</td></tr><tr><th>18</th><td>18</td><td>1</td></tr><tr><th>19</th><td>19</td><td>1</td></tr><tr><th>20</th><td>20</td><td>1</td></tr><tr><th>21</th><td>21</td><td>1</td></tr><tr><th>22</th><td>22</td><td>1</td></tr><tr><th>23</th><td>23</td><td>1</td></tr><tr><th>24</th><td>24</td><td>1</td></tr><tr><th>25</th><td>25</td><td>1</td></tr><tr><th>26</th><td>26</td><td>1</td></tr><tr><th>27</th><td>27</td><td>1</td></tr><tr><th>28</th><td>28</td><td>1</td></tr><tr><th>29</th><td>29</td><td>1</td></tr><tr><th>30</th><td>30</td><td>1</td></tr><tr><th>&vellip;</th><td>&vellip;</td><td>&vellip;</td></tr></tbody></table>"
      ],
      "text/latex": [
       "\\begin{tabular}{r|cc}\n",
       "\t& index & value\\\\\n",
       "\t\\hline\n",
       "\t& Int64 & Int64\\\\\n",
       "\t\\hline\n",
       "\t1 & 1 & 1 \\\\\n",
       "\t2 & 2 & 1 \\\\\n",
       "\t3 & 3 & 1 \\\\\n",
       "\t4 & 4 & 1 \\\\\n",
       "\t5 & 5 & 1 \\\\\n",
       "\t6 & 6 & 1 \\\\\n",
       "\t7 & 7 & 1 \\\\\n",
       "\t8 & 8 & 1 \\\\\n",
       "\t9 & 9 & 1 \\\\\n",
       "\t10 & 10 & 1 \\\\\n",
       "\t11 & 11 & 1 \\\\\n",
       "\t12 & 12 & 1 \\\\\n",
       "\t13 & 13 & 1 \\\\\n",
       "\t14 & 14 & 1 \\\\\n",
       "\t15 & 15 & 1 \\\\\n",
       "\t16 & 16 & 1 \\\\\n",
       "\t17 & 17 & 1 \\\\\n",
       "\t18 & 18 & 1 \\\\\n",
       "\t19 & 19 & 1 \\\\\n",
       "\t20 & 20 & 1 \\\\\n",
       "\t21 & 21 & 1 \\\\\n",
       "\t22 & 22 & 1 \\\\\n",
       "\t23 & 23 & 1 \\\\\n",
       "\t24 & 24 & 1 \\\\\n",
       "\t25 & 25 & 1 \\\\\n",
       "\t26 & 26 & 1 \\\\\n",
       "\t27 & 27 & 1 \\\\\n",
       "\t28 & 28 & 1 \\\\\n",
       "\t29 & 29 & 1 \\\\\n",
       "\t30 & 30 & 1 \\\\\n",
       "\t$\\dots$ & $\\dots$ & $\\dots$ \\\\\n",
       "\\end{tabular}\n"
      ],
      "text/plain": [
       "\u001b[1m500×2 DataFrame\u001b[0m\n",
       "\u001b[1m Row \u001b[0m│\u001b[1m index \u001b[0m\u001b[1m value \u001b[0m\n",
       "\u001b[1m     \u001b[0m│\u001b[90m Int64 \u001b[0m\u001b[90m Int64 \u001b[0m\n",
       "─────┼──────────────\n",
       "   1 │     1      1\n",
       "   2 │     2      1\n",
       "   3 │     3      1\n",
       "   4 │     4      1\n",
       "   5 │     5      1\n",
       "   6 │     6      1\n",
       "   7 │     7      1\n",
       "   8 │     8      1\n",
       "   9 │     9      1\n",
       "  10 │    10      1\n",
       "  11 │    11      1\n",
       "  ⋮  │   ⋮      ⋮\n",
       " 491 │   491     10\n",
       " 492 │   492     10\n",
       " 493 │   493     10\n",
       " 494 │   494     10\n",
       " 495 │   495     10\n",
       " 496 │   496     10\n",
       " 497 │   497     10\n",
       " 498 │   498     10\n",
       " 499 │   499     10\n",
       " 500 │   500     10\n",
       "\u001b[36m    479 rows omitted\u001b[0m"
      ]
     },
     "execution_count": 12,
     "metadata": {},
     "output_type": "execute_result"
    }
   ],
   "source": [
    "select(large_data, Not(:value2))"
   ]
  },
  {
   "cell_type": "markdown",
   "metadata": {},
   "source": [
    "Example: creating new sub-DataFrame with column contains \"value\" string"
   ]
  },
  {
   "cell_type": "code",
   "execution_count": 13,
   "metadata": {},
   "outputs": [
    {
     "data": {
      "text/html": [
       "<table class=\"data-frame\"><thead><tr><th></th><th>value</th><th>value2</th></tr><tr><th></th><th>Int64</th><th>Int64</th></tr></thead><tbody><p>500 rows × 2 columns</p><tr><th>1</th><td>1</td><td>1</td></tr><tr><th>2</th><td>1</td><td>3</td></tr><tr><th>3</th><td>1</td><td>5</td></tr><tr><th>4</th><td>1</td><td>7</td></tr><tr><th>5</th><td>1</td><td>9</td></tr><tr><th>6</th><td>1</td><td>11</td></tr><tr><th>7</th><td>1</td><td>13</td></tr><tr><th>8</th><td>1</td><td>15</td></tr><tr><th>9</th><td>1</td><td>17</td></tr><tr><th>10</th><td>1</td><td>19</td></tr><tr><th>11</th><td>1</td><td>21</td></tr><tr><th>12</th><td>1</td><td>23</td></tr><tr><th>13</th><td>1</td><td>25</td></tr><tr><th>14</th><td>1</td><td>27</td></tr><tr><th>15</th><td>1</td><td>29</td></tr><tr><th>16</th><td>1</td><td>31</td></tr><tr><th>17</th><td>1</td><td>33</td></tr><tr><th>18</th><td>1</td><td>35</td></tr><tr><th>19</th><td>1</td><td>37</td></tr><tr><th>20</th><td>1</td><td>39</td></tr><tr><th>21</th><td>1</td><td>41</td></tr><tr><th>22</th><td>1</td><td>43</td></tr><tr><th>23</th><td>1</td><td>45</td></tr><tr><th>24</th><td>1</td><td>47</td></tr><tr><th>25</th><td>1</td><td>49</td></tr><tr><th>26</th><td>1</td><td>51</td></tr><tr><th>27</th><td>1</td><td>53</td></tr><tr><th>28</th><td>1</td><td>55</td></tr><tr><th>29</th><td>1</td><td>57</td></tr><tr><th>30</th><td>1</td><td>59</td></tr><tr><th>&vellip;</th><td>&vellip;</td><td>&vellip;</td></tr></tbody></table>"
      ],
      "text/latex": [
       "\\begin{tabular}{r|cc}\n",
       "\t& value & value2\\\\\n",
       "\t\\hline\n",
       "\t& Int64 & Int64\\\\\n",
       "\t\\hline\n",
       "\t1 & 1 & 1 \\\\\n",
       "\t2 & 1 & 3 \\\\\n",
       "\t3 & 1 & 5 \\\\\n",
       "\t4 & 1 & 7 \\\\\n",
       "\t5 & 1 & 9 \\\\\n",
       "\t6 & 1 & 11 \\\\\n",
       "\t7 & 1 & 13 \\\\\n",
       "\t8 & 1 & 15 \\\\\n",
       "\t9 & 1 & 17 \\\\\n",
       "\t10 & 1 & 19 \\\\\n",
       "\t11 & 1 & 21 \\\\\n",
       "\t12 & 1 & 23 \\\\\n",
       "\t13 & 1 & 25 \\\\\n",
       "\t14 & 1 & 27 \\\\\n",
       "\t15 & 1 & 29 \\\\\n",
       "\t16 & 1 & 31 \\\\\n",
       "\t17 & 1 & 33 \\\\\n",
       "\t18 & 1 & 35 \\\\\n",
       "\t19 & 1 & 37 \\\\\n",
       "\t20 & 1 & 39 \\\\\n",
       "\t21 & 1 & 41 \\\\\n",
       "\t22 & 1 & 43 \\\\\n",
       "\t23 & 1 & 45 \\\\\n",
       "\t24 & 1 & 47 \\\\\n",
       "\t25 & 1 & 49 \\\\\n",
       "\t26 & 1 & 51 \\\\\n",
       "\t27 & 1 & 53 \\\\\n",
       "\t28 & 1 & 55 \\\\\n",
       "\t29 & 1 & 57 \\\\\n",
       "\t30 & 1 & 59 \\\\\n",
       "\t$\\dots$ & $\\dots$ & $\\dots$ \\\\\n",
       "\\end{tabular}\n"
      ],
      "text/plain": [
       "\u001b[1m500×2 DataFrame\u001b[0m\n",
       "\u001b[1m Row \u001b[0m│\u001b[1m value \u001b[0m\u001b[1m value2 \u001b[0m\n",
       "\u001b[1m     \u001b[0m│\u001b[90m Int64 \u001b[0m\u001b[90m Int64  \u001b[0m\n",
       "─────┼───────────────\n",
       "   1 │     1       1\n",
       "   2 │     1       3\n",
       "   3 │     1       5\n",
       "   4 │     1       7\n",
       "   5 │     1       9\n",
       "   6 │     1      11\n",
       "   7 │     1      13\n",
       "   8 │     1      15\n",
       "   9 │     1      17\n",
       "  10 │     1      19\n",
       "  11 │     1      21\n",
       "  ⋮  │   ⋮      ⋮\n",
       " 491 │    10     981\n",
       " 492 │    10     983\n",
       " 493 │    10     985\n",
       " 494 │    10     987\n",
       " 495 │    10     989\n",
       " 496 │    10     991\n",
       " 497 │    10     993\n",
       " 498 │    10     995\n",
       " 499 │    10     997\n",
       " 500 │    10     999\n",
       "\u001b[36m     479 rows omitted\u001b[0m"
      ]
     },
     "execution_count": 13,
     "metadata": {},
     "output_type": "execute_result"
    }
   ],
   "source": [
    "select(large_data, r\"value\")"
   ]
  },
  {
   "cell_type": "markdown",
   "metadata": {},
   "source": [
    "#### Renaming the column\n",
    "You can rename the column name by the rename!() function"
   ]
  },
  {
   "cell_type": "code",
   "execution_count": 14,
   "metadata": {},
   "outputs": [
    {
     "data": {
      "text/html": [
       "<table class=\"data-frame\"><thead><tr><th></th><th>index</th><th>group</th><th>value</th></tr><tr><th></th><th>Int64</th><th>Int64</th><th>Int64</th></tr></thead><tbody><p>500 rows × 3 columns</p><tr><th>1</th><td>1</td><td>1</td><td>1</td></tr><tr><th>2</th><td>2</td><td>1</td><td>3</td></tr><tr><th>3</th><td>3</td><td>1</td><td>5</td></tr><tr><th>4</th><td>4</td><td>1</td><td>7</td></tr><tr><th>5</th><td>5</td><td>1</td><td>9</td></tr><tr><th>6</th><td>6</td><td>1</td><td>11</td></tr><tr><th>7</th><td>7</td><td>1</td><td>13</td></tr><tr><th>8</th><td>8</td><td>1</td><td>15</td></tr><tr><th>9</th><td>9</td><td>1</td><td>17</td></tr><tr><th>10</th><td>10</td><td>1</td><td>19</td></tr><tr><th>11</th><td>11</td><td>1</td><td>21</td></tr><tr><th>12</th><td>12</td><td>1</td><td>23</td></tr><tr><th>13</th><td>13</td><td>1</td><td>25</td></tr><tr><th>14</th><td>14</td><td>1</td><td>27</td></tr><tr><th>15</th><td>15</td><td>1</td><td>29</td></tr><tr><th>16</th><td>16</td><td>1</td><td>31</td></tr><tr><th>17</th><td>17</td><td>1</td><td>33</td></tr><tr><th>18</th><td>18</td><td>1</td><td>35</td></tr><tr><th>19</th><td>19</td><td>1</td><td>37</td></tr><tr><th>20</th><td>20</td><td>1</td><td>39</td></tr><tr><th>21</th><td>21</td><td>1</td><td>41</td></tr><tr><th>22</th><td>22</td><td>1</td><td>43</td></tr><tr><th>23</th><td>23</td><td>1</td><td>45</td></tr><tr><th>24</th><td>24</td><td>1</td><td>47</td></tr><tr><th>25</th><td>25</td><td>1</td><td>49</td></tr><tr><th>26</th><td>26</td><td>1</td><td>51</td></tr><tr><th>27</th><td>27</td><td>1</td><td>53</td></tr><tr><th>28</th><td>28</td><td>1</td><td>55</td></tr><tr><th>29</th><td>29</td><td>1</td><td>57</td></tr><tr><th>30</th><td>30</td><td>1</td><td>59</td></tr><tr><th>&vellip;</th><td>&vellip;</td><td>&vellip;</td><td>&vellip;</td></tr></tbody></table>"
      ],
      "text/latex": [
       "\\begin{tabular}{r|ccc}\n",
       "\t& index & group & value\\\\\n",
       "\t\\hline\n",
       "\t& Int64 & Int64 & Int64\\\\\n",
       "\t\\hline\n",
       "\t1 & 1 & 1 & 1 \\\\\n",
       "\t2 & 2 & 1 & 3 \\\\\n",
       "\t3 & 3 & 1 & 5 \\\\\n",
       "\t4 & 4 & 1 & 7 \\\\\n",
       "\t5 & 5 & 1 & 9 \\\\\n",
       "\t6 & 6 & 1 & 11 \\\\\n",
       "\t7 & 7 & 1 & 13 \\\\\n",
       "\t8 & 8 & 1 & 15 \\\\\n",
       "\t9 & 9 & 1 & 17 \\\\\n",
       "\t10 & 10 & 1 & 19 \\\\\n",
       "\t11 & 11 & 1 & 21 \\\\\n",
       "\t12 & 12 & 1 & 23 \\\\\n",
       "\t13 & 13 & 1 & 25 \\\\\n",
       "\t14 & 14 & 1 & 27 \\\\\n",
       "\t15 & 15 & 1 & 29 \\\\\n",
       "\t16 & 16 & 1 & 31 \\\\\n",
       "\t17 & 17 & 1 & 33 \\\\\n",
       "\t18 & 18 & 1 & 35 \\\\\n",
       "\t19 & 19 & 1 & 37 \\\\\n",
       "\t20 & 20 & 1 & 39 \\\\\n",
       "\t21 & 21 & 1 & 41 \\\\\n",
       "\t22 & 22 & 1 & 43 \\\\\n",
       "\t23 & 23 & 1 & 45 \\\\\n",
       "\t24 & 24 & 1 & 47 \\\\\n",
       "\t25 & 25 & 1 & 49 \\\\\n",
       "\t26 & 26 & 1 & 51 \\\\\n",
       "\t27 & 27 & 1 & 53 \\\\\n",
       "\t28 & 28 & 1 & 55 \\\\\n",
       "\t29 & 29 & 1 & 57 \\\\\n",
       "\t30 & 30 & 1 & 59 \\\\\n",
       "\t$\\dots$ & $\\dots$ & $\\dots$ & $\\dots$ \\\\\n",
       "\\end{tabular}\n"
      ],
      "text/plain": [
       "\u001b[1m500×3 DataFrame\u001b[0m\n",
       "\u001b[1m Row \u001b[0m│\u001b[1m index \u001b[0m\u001b[1m group \u001b[0m\u001b[1m value \u001b[0m\n",
       "\u001b[1m     \u001b[0m│\u001b[90m Int64 \u001b[0m\u001b[90m Int64 \u001b[0m\u001b[90m Int64 \u001b[0m\n",
       "─────┼─────────────────────\n",
       "   1 │     1      1      1\n",
       "   2 │     2      1      3\n",
       "   3 │     3      1      5\n",
       "   4 │     4      1      7\n",
       "   5 │     5      1      9\n",
       "   6 │     6      1     11\n",
       "   7 │     7      1     13\n",
       "   8 │     8      1     15\n",
       "   9 │     9      1     17\n",
       "  10 │    10      1     19\n",
       "  11 │    11      1     21\n",
       "  ⋮  │   ⋮      ⋮      ⋮\n",
       " 491 │   491     10    981\n",
       " 492 │   492     10    983\n",
       " 493 │   493     10    985\n",
       " 494 │   494     10    987\n",
       " 495 │   495     10    989\n",
       " 496 │   496     10    991\n",
       " 497 │   497     10    993\n",
       " 498 │   498     10    995\n",
       " 499 │   499     10    997\n",
       " 500 │   500     10    999\n",
       "\u001b[36m           479 rows omitted\u001b[0m"
      ]
     },
     "execution_count": 14,
     "metadata": {},
     "output_type": "execute_result"
    }
   ],
   "source": [
    "rename!(large_data,[\"index\", \"group\", \"value\"]) # rename columns"
   ]
  },
  {
   "cell_type": "markdown",
   "metadata": {},
   "source": [
    "#### Summarizing Data\n",
    "The describe function returns a data frame summarizing the elementary statistics and information about each column:"
   ]
  },
  {
   "cell_type": "code",
   "execution_count": 15,
   "metadata": {},
   "outputs": [
    {
     "data": {
      "text/html": [
       "<table class=\"data-frame\"><thead><tr><th></th><th>variable</th><th>mean</th><th>min</th><th>median</th><th>max</th><th>nmissing</th><th>eltype</th></tr><tr><th></th><th>Symbol</th><th>Float64</th><th>Int64</th><th>Float64</th><th>Int64</th><th>Int64</th><th>DataType</th></tr></thead><tbody><p>3 rows × 7 columns</p><tr><th>1</th><td>index</td><td>250.5</td><td>1</td><td>250.5</td><td>500</td><td>0</td><td>Int64</td></tr><tr><th>2</th><td>group</td><td>5.5</td><td>1</td><td>5.5</td><td>10</td><td>0</td><td>Int64</td></tr><tr><th>3</th><td>value</td><td>500.0</td><td>1</td><td>500.0</td><td>999</td><td>0</td><td>Int64</td></tr></tbody></table>"
      ],
      "text/latex": [
       "\\begin{tabular}{r|ccccccc}\n",
       "\t& variable & mean & min & median & max & nmissing & eltype\\\\\n",
       "\t\\hline\n",
       "\t& Symbol & Float64 & Int64 & Float64 & Int64 & Int64 & DataType\\\\\n",
       "\t\\hline\n",
       "\t1 & index & 250.5 & 1 & 250.5 & 500 & 0 & Int64 \\\\\n",
       "\t2 & group & 5.5 & 1 & 5.5 & 10 & 0 & Int64 \\\\\n",
       "\t3 & value & 500.0 & 1 & 500.0 & 999 & 0 & Int64 \\\\\n",
       "\\end{tabular}\n"
      ],
      "text/plain": [
       "\u001b[1m3×7 DataFrame\u001b[0m\n",
       "\u001b[1m Row \u001b[0m│\u001b[1m variable \u001b[0m\u001b[1m mean    \u001b[0m\u001b[1m min   \u001b[0m\u001b[1m median  \u001b[0m\u001b[1m max   \u001b[0m\u001b[1m nmissing \u001b[0m\u001b[1m eltype   \u001b[0m\n",
       "\u001b[1m     \u001b[0m│\u001b[90m Symbol   \u001b[0m\u001b[90m Float64 \u001b[0m\u001b[90m Int64 \u001b[0m\u001b[90m Float64 \u001b[0m\u001b[90m Int64 \u001b[0m\u001b[90m Int64    \u001b[0m\u001b[90m DataType \u001b[0m\n",
       "─────┼──────────────────────────────────────────────────────────────\n",
       "   1 │ index       250.5      1    250.5    500         0  Int64\n",
       "   2 │ group         5.5      1      5.5     10         0  Int64\n",
       "   3 │ value       500.0      1    500.0    999         0  Int64"
      ]
     },
     "execution_count": 15,
     "metadata": {},
     "output_type": "execute_result"
    }
   ],
   "source": [
    "describe(large_data)"
   ]
  },
  {
   "cell_type": "markdown",
   "metadata": {},
   "source": [
    "#### Missing Data\n",
    "In Julia, missing values in data are represented using the special object missing, which is the single instance of the type Missing."
   ]
  },
  {
   "cell_type": "code",
   "execution_count": 16,
   "metadata": {},
   "outputs": [
    {
     "data": {
      "text/html": [
       "<table class=\"data-frame\"><thead><tr><th></th><th>name</th><th>score</th></tr><tr><th></th><th>String</th><th>Int64?</th></tr></thead><tbody><p>3 rows × 2 columns</p><tr><th>1</th><td>Alice</td><td>75</td></tr><tr><th>2</th><td>Bob</td><td><em>missing</em></td></tr><tr><th>3</th><td>Chris</td><td>40</td></tr></tbody></table>"
      ],
      "text/latex": [
       "\\begin{tabular}{r|cc}\n",
       "\t& name & score\\\\\n",
       "\t\\hline\n",
       "\t& String & Int64?\\\\\n",
       "\t\\hline\n",
       "\t1 & Alice & 75 \\\\\n",
       "\t2 & Bob & \\emph{missing} \\\\\n",
       "\t3 & Chris & 40 \\\\\n",
       "\\end{tabular}\n"
      ],
      "text/plain": [
       "\u001b[1m3×2 DataFrame\u001b[0m\n",
       "\u001b[1m Row \u001b[0m│\u001b[1m name   \u001b[0m\u001b[1m score   \u001b[0m\n",
       "\u001b[1m     \u001b[0m│\u001b[90m String \u001b[0m\u001b[90m Int64?  \u001b[0m\n",
       "─────┼─────────────────\n",
       "   1 │ Alice        75\n",
       "   2 │ Bob    \u001b[90m missing \u001b[0m\n",
       "   3 │ Chris        40"
      ]
     },
     "execution_count": 16,
     "metadata": {},
     "output_type": "execute_result"
    }
   ],
   "source": [
    "missing_data = DataFrame(name = [\"Alice\", \"Bob\", \"Chris\"], score = [75, missing, 40])"
   ]
  },
  {
   "cell_type": "markdown",
   "metadata": {},
   "source": [
    "The functions dropmissing() and dropmissing!() can be used to remove the rows containing missing values from a DataFrame and either create a new DataFrame or mutate the original in-place respectively."
   ]
  },
  {
   "cell_type": "code",
   "execution_count": 17,
   "metadata": {},
   "outputs": [
    {
     "data": {
      "text/html": [
       "<table class=\"data-frame\"><thead><tr><th></th><th>name</th><th>score</th></tr><tr><th></th><th>String</th><th>Int64</th></tr></thead><tbody><p>2 rows × 2 columns</p><tr><th>1</th><td>Alice</td><td>75</td></tr><tr><th>2</th><td>Chris</td><td>40</td></tr></tbody></table>"
      ],
      "text/latex": [
       "\\begin{tabular}{r|cc}\n",
       "\t& name & score\\\\\n",
       "\t\\hline\n",
       "\t& String & Int64\\\\\n",
       "\t\\hline\n",
       "\t1 & Alice & 75 \\\\\n",
       "\t2 & Chris & 40 \\\\\n",
       "\\end{tabular}\n"
      ],
      "text/plain": [
       "\u001b[1m2×2 DataFrame\u001b[0m\n",
       "\u001b[1m Row \u001b[0m│\u001b[1m name   \u001b[0m\u001b[1m score \u001b[0m\n",
       "\u001b[1m     \u001b[0m│\u001b[90m String \u001b[0m\u001b[90m Int64 \u001b[0m\n",
       "─────┼───────────────\n",
       "   1 │ Alice      75\n",
       "   2 │ Chris      40"
      ]
     },
     "execution_count": 17,
     "metadata": {},
     "output_type": "execute_result"
    }
   ],
   "source": [
    "dropmissing(missing_data)"
   ]
  },
  {
   "cell_type": "markdown",
   "metadata": {},
   "source": [
    "#### Joining the table\n",
    "We often need to combine two or more data sets together to provide a complete picture of the topic we are studying. DataFrame supports the Database-Style join operation. We will use the following tables as the example:"
   ]
  },
  {
   "cell_type": "code",
   "execution_count": 18,
   "metadata": {},
   "outputs": [
    {
     "name": "stdout",
     "output_type": "stream",
     "text": [
      "\u001b[1m2×2 DataFrame\u001b[0m\n",
      "\u001b[1m Row \u001b[0m│\u001b[1m ID    \u001b[0m\u001b[1m Name   \u001b[0m\n",
      "\u001b[1m     \u001b[0m│\u001b[90m Int64 \u001b[0m\u001b[90m String \u001b[0m\n",
      "─────┼───────────────\n",
      "   1 │     1  Alice\n",
      "   2 │     2  Bob\n",
      "\u001b[1m2×2 DataFrame\u001b[0m\n",
      "\u001b[1m Row \u001b[0m│\u001b[1m ID    \u001b[0m\u001b[1m Job    \u001b[0m\n",
      "\u001b[1m     \u001b[0m│\u001b[90m Int64 \u001b[0m\u001b[90m String \u001b[0m\n",
      "─────┼───────────────\n",
      "   1 │     1  Lawyer\n",
      "   2 │     3  Doctor\n"
     ]
    }
   ],
   "source": [
    "people = DataFrames.DataFrame(ID = [1, 2], Name = [\"Alice\", \"Bob\"])\n",
    "jobs = DataFrames.DataFrame(ID = [1, 3], Job = [\"Lawyer\", \"Doctor\"])\n",
    "println(people)\n",
    "println(jobs)"
   ]
  },
  {
   "cell_type": "markdown",
   "metadata": {},
   "source": [
    "Innerjoin: the output contains rows for values of the key that exist in all passed data frames."
   ]
  },
  {
   "cell_type": "code",
   "execution_count": 19,
   "metadata": {},
   "outputs": [
    {
     "ename": "LoadError",
     "evalue": "ArgumentError: join function for data frames is not supported. Use innerjoin, leftjoin, rightjoin, outerjoin, semijoin, antijoin, or crossjoin",
     "output_type": "error",
     "traceback": [
      "ArgumentError: join function for data frames is not supported. Use innerjoin, leftjoin, rightjoin, outerjoin, semijoin, antijoin, or crossjoin",
      "",
      "Stacktrace:",
      " [1] join(::DataFrame, ::DataFrame; on::Symbol, kind::Symbol, makeunique::Bool, indicator::Nothing, validate::Tuple{Bool, Bool})",
      "   @ DataFrames C:\\Users\\user\\.julia\\packages\\DataFrames\\3mEXm\\src\\abstractdataframe\\join.jl:1307",
      " [2] top-level scope",
      "   @ In[19]:1",
      " [3] eval",
      "   @ .\\boot.jl:360 [inlined]",
      " [4] include_string(mapexpr::typeof(REPL.softscope), mod::Module, code::String, filename::String)",
      "   @ Base .\\loading.jl:1116"
     ]
    }
   ],
   "source": [
    "DataFrames.join(people, jobs, on = :ID, kind = :inner)"
   ]
  },
  {
   "cell_type": "markdown",
   "metadata": {},
   "source": [
    "Leftjoin: the output contains rows for values of the key that exist in the first (left) argument, whether or not that value exists in the second (right) argument.."
   ]
  },
  {
   "cell_type": "code",
   "execution_count": 20,
   "metadata": {},
   "outputs": [
    {
     "ename": "LoadError",
     "evalue": "ArgumentError: join function for data frames is not supported. Use innerjoin, leftjoin, rightjoin, outerjoin, semijoin, antijoin, or crossjoin",
     "output_type": "error",
     "traceback": [
      "ArgumentError: join function for data frames is not supported. Use innerjoin, leftjoin, rightjoin, outerjoin, semijoin, antijoin, or crossjoin",
      "",
      "Stacktrace:",
      " [1] join(::DataFrame, ::DataFrame; on::Symbol, kind::Symbol, makeunique::Bool, indicator::Nothing, validate::Tuple{Bool, Bool})",
      "   @ DataFrames C:\\Users\\user\\.julia\\packages\\DataFrames\\3mEXm\\src\\abstractdataframe\\join.jl:1307",
      " [2] top-level scope",
      "   @ In[20]:1",
      " [3] eval",
      "   @ .\\boot.jl:360 [inlined]",
      " [4] include_string(mapexpr::typeof(REPL.softscope), mod::Module, code::String, filename::String)",
      "   @ Base .\\loading.jl:1116"
     ]
    }
   ],
   "source": [
    "DataFrames.join(people, jobs, on = :ID, kind = :left)"
   ]
  },
  {
   "cell_type": "markdown",
   "metadata": {},
   "source": [
    "Rightjoin: the output contains rows for values of the key that exist in the second (right) argument, whether or not that value exists in the first (left) argument."
   ]
  },
  {
   "cell_type": "code",
   "execution_count": 21,
   "metadata": {},
   "outputs": [
    {
     "ename": "LoadError",
     "evalue": "ArgumentError: join function for data frames is not supported. Use innerjoin, leftjoin, rightjoin, outerjoin, semijoin, antijoin, or crossjoin",
     "output_type": "error",
     "traceback": [
      "ArgumentError: join function for data frames is not supported. Use innerjoin, leftjoin, rightjoin, outerjoin, semijoin, antijoin, or crossjoin",
      "",
      "Stacktrace:",
      " [1] join(::DataFrame, ::DataFrame; on::Symbol, kind::Symbol, makeunique::Bool, indicator::Nothing, validate::Tuple{Bool, Bool})",
      "   @ DataFrames C:\\Users\\user\\.julia\\packages\\DataFrames\\3mEXm\\src\\abstractdataframe\\join.jl:1307",
      " [2] top-level scope",
      "   @ In[21]:1",
      " [3] eval",
      "   @ .\\boot.jl:360 [inlined]",
      " [4] include_string(mapexpr::typeof(REPL.softscope), mod::Module, code::String, filename::String)",
      "   @ Base .\\loading.jl:1116"
     ]
    }
   ],
   "source": [
    "DataFrames.join(people, jobs, on = :ID, kind = :right)"
   ]
  },
  {
   "cell_type": "markdown",
   "metadata": {},
   "source": [
    "Outerjoin: the output contains rows for values of the key that exist in any of the passed data frames."
   ]
  },
  {
   "cell_type": "code",
   "execution_count": 22,
   "metadata": {},
   "outputs": [
    {
     "ename": "LoadError",
     "evalue": "ArgumentError: join function for data frames is not supported. Use innerjoin, leftjoin, rightjoin, outerjoin, semijoin, antijoin, or crossjoin",
     "output_type": "error",
     "traceback": [
      "ArgumentError: join function for data frames is not supported. Use innerjoin, leftjoin, rightjoin, outerjoin, semijoin, antijoin, or crossjoin",
      "",
      "Stacktrace:",
      " [1] join(::DataFrame, ::DataFrame; on::Symbol, kind::Symbol, makeunique::Bool, indicator::Nothing, validate::Tuple{Bool, Bool})",
      "   @ DataFrames C:\\Users\\user\\.julia\\packages\\DataFrames\\3mEXm\\src\\abstractdataframe\\join.jl:1307",
      " [2] top-level scope",
      "   @ In[22]:1",
      " [3] eval",
      "   @ .\\boot.jl:360 [inlined]",
      " [4] include_string(mapexpr::typeof(REPL.softscope), mod::Module, code::String, filename::String)",
      "   @ Base .\\loading.jl:1116"
     ]
    }
   ],
   "source": [
    "DataFrames.join(people, jobs, on = :ID, kind = :outer)"
   ]
  },
  {
   "cell_type": "markdown",
   "metadata": {},
   "source": [
    "## Importing and Exporting Data"
   ]
  },
  {
   "cell_type": "markdown",
   "metadata": {},
   "source": [
    "In ML application, the data are usually stored in the files\n",
    "\n",
    "The followings are the commonly used extension\n",
    ".csv (Comma-Separated Values files)\n",
    ".xls (Old version of MS Office Excel)\n",
    ".xlsx (New version of MS Office Excel)"
   ]
  },
  {
   "cell_type": "markdown",
   "metadata": {},
   "source": [
    "### CSV.jl\n",
    "To import the data from a .csv file, we need the CSV.jl library\n",
    "\n",
    "#### Install\n",
    "Run the following cell to install CSV.jl"
   ]
  },
  {
   "cell_type": "code",
   "execution_count": 23,
   "metadata": {},
   "outputs": [
    {
     "name": "stderr",
     "output_type": "stream",
     "text": [
      "\u001b[32m\u001b[1m   Resolving\u001b[22m\u001b[39m package versions...\n",
      "\u001b[32m\u001b[1m  No Changes\u001b[22m\u001b[39m to `C:\\Users\\user\\.julia\\environments\\v1.6\\Project.toml`\n",
      "\u001b[32m\u001b[1m  No Changes\u001b[22m\u001b[39m to `C:\\Users\\user\\.julia\\environments\\v1.6\\Manifest.toml`\n"
     ]
    }
   ],
   "source": [
    "using Pkg\n",
    "Pkg.add(\"CSV\")\n",
    "\n",
    "using CSV"
   ]
  },
  {
   "cell_type": "markdown",
   "metadata": {},
   "source": [
    "#### Using the library\n",
    "The following example is about how to read .csv file with CSV.jl"
   ]
  },
  {
   "cell_type": "code",
   "execution_count": 24,
   "metadata": {},
   "outputs": [
    {
     "ename": "LoadError",
     "evalue": "ArgumentError: \"JuliaData/application_record.csv\" is not a valid file",
     "output_type": "error",
     "traceback": [
      "ArgumentError: \"JuliaData/application_record.csv\" is not a valid file",
      "",
      "Stacktrace:",
      " [1] Header",
      "   @ C:\\Users\\user\\.julia\\packages\\CSV\\Zl2ww\\src\\header.jl:90 [inlined]",
      " [2] CSV.File(source::String; header::Int64, normalizenames::Bool, datarow::Int64, skipto::Nothing, footerskip::Int64, transpose::Bool, comment::Nothing, use_mmap::Nothing, ignoreemptylines::Bool, select::Nothing, drop::Nothing, missingstrings::Vector{String}, missingstring::String, delim::Nothing, ignorerepeated::Bool, quotechar::Char, openquotechar::Nothing, closequotechar::Nothing, escapechar::Char, dateformat::Nothing, dateformats::Nothing, decimal::UInt8, truestrings::Vector{String}, falsestrings::Vector{String}, type::Nothing, types::Nothing, typemap::Dict{Type, Type}, pool::Float64, lazystrings::Bool, strict::Bool, silencewarnings::Bool, debug::Bool, parsingdebug::Bool, kw::Base.Iterators.Pairs{Union{}, Union{}, Tuple{}, NamedTuple{(), Tuple{}}})",
      "   @ CSV C:\\Users\\user\\.julia\\packages\\CSV\\Zl2ww\\src\\file.jl:223",
      " [3] CSV.File(source::String)",
      "   @ CSV C:\\Users\\user\\.julia\\packages\\CSV\\Zl2ww\\src\\file.jl:223",
      " [4] top-level scope",
      "   @ In[24]:2",
      " [5] eval",
      "   @ .\\boot.jl:360 [inlined]",
      " [6] include_string(mapexpr::typeof(REPL.softscope), mod::Module, code::String, filename::String)",
      "   @ Base .\\loading.jl:1116"
     ]
    }
   ],
   "source": [
    "fileLocation = \"JuliaData/application_record.csv\"\n",
    "file_csv_ojbect = CSV.File(fileLocation)"
   ]
  },
  {
   "cell_type": "markdown",
   "metadata": {},
   "source": [
    "Convert the CSV object to DataFrame object"
   ]
  },
  {
   "cell_type": "code",
   "execution_count": 25,
   "metadata": {},
   "outputs": [
    {
     "ename": "LoadError",
     "evalue": "UndefVarError: file_csv_ojbect not defined",
     "output_type": "error",
     "traceback": [
      "UndefVarError: file_csv_ojbect not defined",
      "",
      "Stacktrace:",
      " [1] top-level scope",
      "   @ In[25]:1",
      " [2] eval",
      "   @ .\\boot.jl:360 [inlined]",
      " [3] include_string(mapexpr::typeof(REPL.softscope), mod::Module, code::String, filename::String)",
      "   @ Base .\\loading.jl:1116"
     ]
    }
   ],
   "source": [
    "file_df = DataFrames.DataFrame(file_csv_ojbect)"
   ]
  },
  {
   "cell_type": "markdown",
   "metadata": {},
   "source": [
    "We can export the DataFrame to .csv file for further use as well"
   ]
  },
  {
   "cell_type": "code",
   "execution_count": 26,
   "metadata": {},
   "outputs": [
    {
     "data": {
      "text/plain": [
       "\"export.csv\""
      ]
     },
     "execution_count": 26,
     "metadata": {},
     "output_type": "execute_result"
    }
   ],
   "source": [
    "example_df = DataFrame(name = [\"Alice\",\"Bob\"], score = [70, 60])\n",
    "export_path = \"export.csv\"\n",
    "CSV.write(export_path, example_df)"
   ]
  },
  {
   "cell_type": "markdown",
   "metadata": {},
   "source": [
    "### XLSX.jl\n",
    "To import the data from a Excel file, we need the XLSX.jl library\n",
    "\n",
    "#### Install\n",
    "Run the following cell to install XLSX.jl"
   ]
  },
  {
   "cell_type": "code",
   "execution_count": 27,
   "metadata": {},
   "outputs": [
    {
     "name": "stderr",
     "output_type": "stream",
     "text": [
      "\u001b[32m\u001b[1m   Resolving\u001b[22m\u001b[39m package versions...\n",
      "\u001b[32m\u001b[1m  No Changes\u001b[22m\u001b[39m to `C:\\Users\\user\\.julia\\environments\\v1.6\\Project.toml`\n",
      "\u001b[32m\u001b[1m  No Changes\u001b[22m\u001b[39m to `C:\\Users\\user\\.julia\\environments\\v1.6\\Manifest.toml`\n"
     ]
    }
   ],
   "source": [
    "using Pkg\n",
    "Pkg.add(\"XLSX\")\n",
    "\n",
    "using XLSX"
   ]
  },
  {
   "cell_type": "markdown",
   "metadata": {},
   "source": [
    "#### Using the library\n",
    "The following example is about how to read the Excel file with XLSX.jl"
   ]
  },
  {
   "cell_type": "code",
   "execution_count": 28,
   "metadata": {},
   "outputs": [
    {
     "ename": "LoadError",
     "evalue": "AssertionError: File JuliaData/application_record_excel.xlsx not found.",
     "output_type": "error",
     "traceback": [
      "AssertionError: File JuliaData/application_record_excel.xlsx not found.",
      "",
      "Stacktrace:",
      " [1] openxlsx(f::XLSX.var\"#23#24\"{Nothing, Nothing, Bool, Bool, Bool, Nothing, String}, filepath::String; mode::String, enable_cache::Bool)",
      "   @ XLSX C:\\Users\\user\\.julia\\packages\\XLSX\\cRAtd\\src\\read.jl:122",
      " [2] #readtable#22",
      "   @ C:\\Users\\user\\.julia\\packages\\XLSX\\cRAtd\\src\\read.jl:573 [inlined]",
      " [3] readtable(filepath::String, sheet::String)",
      "   @ XLSX C:\\Users\\user\\.julia\\packages\\XLSX\\cRAtd\\src\\read.jl:573",
      " [4] top-level scope",
      "   @ In[28]:2",
      " [5] eval",
      "   @ .\\boot.jl:360 [inlined]",
      " [6] include_string(mapexpr::typeof(REPL.softscope), mod::Module, code::String, filename::String)",
      "   @ Base .\\loading.jl:1116"
     ]
    }
   ],
   "source": [
    "fileLocation = \"JuliaData/application_record_excel.xlsx\"\n",
    "example_excel_df = DataFrames.DataFrame(XLSX.readtable(fileLocation, \"application_record_excel\")...)\n",
    "first(example_excel_df)"
   ]
  },
  {
   "cell_type": "markdown",
   "metadata": {},
   "source": [
    "## Data Visualisation in Julia\n",
    "### Plot.js\n",
    "Plots.jl is a powerful convenience library for visualization in Julia\n",
    "\n",
    "### Install\n",
    "Run the following cell to install Plot.js"
   ]
  },
  {
   "cell_type": "code",
   "execution_count": 29,
   "metadata": {},
   "outputs": [
    {
     "name": "stderr",
     "output_type": "stream",
     "text": [
      "\u001b[32m\u001b[1m   Resolving\u001b[22m\u001b[39m package versions...\n",
      "\u001b[32m\u001b[1m  No Changes\u001b[22m\u001b[39m to `C:\\Users\\user\\.julia\\environments\\v1.6\\Project.toml`\n",
      "\u001b[32m\u001b[1m  No Changes\u001b[22m\u001b[39m to `C:\\Users\\user\\.julia\\environments\\v1.6\\Manifest.toml`\n"
     ]
    }
   ],
   "source": [
    "import Pkg\n",
    "Pkg.add(\"Plots\")\n",
    "\n",
    "using Plots"
   ]
  },
  {
   "cell_type": "markdown",
   "metadata": {},
   "source": [
    "### Basic Plotting: Line Plots\n",
    "In this example, we generaete a random array with 10 elements, and use the Plot.jl to plot the graph. In order to plot the graph, you need to put the data into the array"
   ]
  },
  {
   "cell_type": "code",
   "execution_count": 30,
   "metadata": {},
   "outputs": [
    {
     "data": {
      "image/svg+xml": [
       "<?xml version=\"1.0\" encoding=\"utf-8\"?>\n",
       "<svg xmlns=\"http://www.w3.org/2000/svg\" xmlns:xlink=\"http://www.w3.org/1999/xlink\" width=\"600\" height=\"400\" viewBox=\"0 0 2400 1600\">\n",
       "<defs>\n",
       "  <clipPath id=\"clip560\">\n",
       "    <rect x=\"0\" y=\"0\" width=\"2400\" height=\"1600\"/>\n",
       "  </clipPath>\n",
       "</defs>\n",
       "<path clip-path=\"url(#clip560)\" d=\"\n",
       "M0 1600 L2400 1600 L2400 0 L0 0  Z\n",
       "  \" fill=\"#ffffff\" fill-rule=\"evenodd\" fill-opacity=\"1\"/>\n",
       "<defs>\n",
       "  <clipPath id=\"clip561\">\n",
       "    <rect x=\"480\" y=\"0\" width=\"1681\" height=\"1600\"/>\n",
       "  </clipPath>\n",
       "</defs>\n",
       "<path clip-path=\"url(#clip560)\" d=\"\n",
       "M156.598 1486.45 L2352.76 1486.45 L2352.76 47.2441 L156.598 47.2441  Z\n",
       "  \" fill=\"#ffffff\" fill-rule=\"evenodd\" fill-opacity=\"1\"/>\n",
       "<defs>\n",
       "  <clipPath id=\"clip562\">\n",
       "    <rect x=\"156\" y=\"47\" width=\"2197\" height=\"1440\"/>\n",
       "  </clipPath>\n",
       "</defs>\n",
       "<polyline clip-path=\"url(#clip562)\" style=\"stroke:#000000; stroke-linecap:butt; stroke-linejoin:round; stroke-width:2; stroke-opacity:0.1; fill:none\" points=\"\n",
       "  448.959,1486.45 448.959,47.2441 \n",
       "  \"/>\n",
       "<polyline clip-path=\"url(#clip562)\" style=\"stroke:#000000; stroke-linecap:butt; stroke-linejoin:round; stroke-width:2; stroke-opacity:0.1; fill:none\" points=\"\n",
       "  909.369,1486.45 909.369,47.2441 \n",
       "  \"/>\n",
       "<polyline clip-path=\"url(#clip562)\" style=\"stroke:#000000; stroke-linecap:butt; stroke-linejoin:round; stroke-width:2; stroke-opacity:0.1; fill:none\" points=\"\n",
       "  1369.78,1486.45 1369.78,47.2441 \n",
       "  \"/>\n",
       "<polyline clip-path=\"url(#clip562)\" style=\"stroke:#000000; stroke-linecap:butt; stroke-linejoin:round; stroke-width:2; stroke-opacity:0.1; fill:none\" points=\"\n",
       "  1830.19,1486.45 1830.19,47.2441 \n",
       "  \"/>\n",
       "<polyline clip-path=\"url(#clip562)\" style=\"stroke:#000000; stroke-linecap:butt; stroke-linejoin:round; stroke-width:2; stroke-opacity:0.1; fill:none\" points=\"\n",
       "  2290.6,1486.45 2290.6,47.2441 \n",
       "  \"/>\n",
       "<polyline clip-path=\"url(#clip560)\" style=\"stroke:#000000; stroke-linecap:butt; stroke-linejoin:round; stroke-width:4; stroke-opacity:1; fill:none\" points=\"\n",
       "  156.598,1486.45 2352.76,1486.45 \n",
       "  \"/>\n",
       "<polyline clip-path=\"url(#clip560)\" style=\"stroke:#000000; stroke-linecap:butt; stroke-linejoin:round; stroke-width:4; stroke-opacity:1; fill:none\" points=\"\n",
       "  448.959,1486.45 448.959,1467.55 \n",
       "  \"/>\n",
       "<polyline clip-path=\"url(#clip560)\" style=\"stroke:#000000; stroke-linecap:butt; stroke-linejoin:round; stroke-width:4; stroke-opacity:1; fill:none\" points=\"\n",
       "  909.369,1486.45 909.369,1467.55 \n",
       "  \"/>\n",
       "<polyline clip-path=\"url(#clip560)\" style=\"stroke:#000000; stroke-linecap:butt; stroke-linejoin:round; stroke-width:4; stroke-opacity:1; fill:none\" points=\"\n",
       "  1369.78,1486.45 1369.78,1467.55 \n",
       "  \"/>\n",
       "<polyline clip-path=\"url(#clip560)\" style=\"stroke:#000000; stroke-linecap:butt; stroke-linejoin:round; stroke-width:4; stroke-opacity:1; fill:none\" points=\"\n",
       "  1830.19,1486.45 1830.19,1467.55 \n",
       "  \"/>\n",
       "<polyline clip-path=\"url(#clip560)\" style=\"stroke:#000000; stroke-linecap:butt; stroke-linejoin:round; stroke-width:4; stroke-opacity:1; fill:none\" points=\"\n",
       "  2290.6,1486.45 2290.6,1467.55 \n",
       "  \"/>\n",
       "<path clip-path=\"url(#clip560)\" d=\"M443.612 1543.18 L459.931 1543.18 L459.931 1547.12 L437.987 1547.12 L437.987 1543.18 Q440.649 1540.43 445.232 1535.8 Q449.838 1531.15 451.019 1529.81 Q453.264 1527.28 454.144 1525.55 Q455.047 1523.79 455.047 1522.1 Q455.047 1519.34 453.102 1517.61 Q451.181 1515.87 448.079 1515.87 Q445.88 1515.87 443.426 1516.63 Q440.996 1517.4 438.218 1518.95 L438.218 1514.23 Q441.042 1513.09 443.496 1512.51 Q445.95 1511.93 447.987 1511.93 Q453.357 1511.93 456.551 1514.62 Q459.746 1517.31 459.746 1521.8 Q459.746 1523.93 458.936 1525.85 Q458.149 1527.74 456.042 1530.34 Q455.463 1531.01 452.362 1534.23 Q449.26 1537.42 443.612 1543.18 Z\" fill=\"#000000\" fill-rule=\"evenodd\" fill-opacity=\"1\" /><path clip-path=\"url(#clip560)\" d=\"M912.379 1516.63 L900.573 1535.08 L912.379 1535.08 L912.379 1516.63 M911.152 1512.56 L917.031 1512.56 L917.031 1535.08 L921.962 1535.08 L921.962 1538.97 L917.031 1538.97 L917.031 1547.12 L912.379 1547.12 L912.379 1538.97 L896.777 1538.97 L896.777 1534.46 L911.152 1512.56 Z\" fill=\"#000000\" fill-rule=\"evenodd\" fill-opacity=\"1\" /><path clip-path=\"url(#clip560)\" d=\"M1370.18 1527.98 Q1367.04 1527.98 1365.18 1530.13 Q1363.36 1532.28 1363.36 1536.03 Q1363.36 1539.76 1365.18 1541.93 Q1367.04 1544.09 1370.18 1544.09 Q1373.33 1544.09 1375.16 1541.93 Q1377.01 1539.76 1377.01 1536.03 Q1377.01 1532.28 1375.16 1530.13 Q1373.33 1527.98 1370.18 1527.98 M1379.47 1513.32 L1379.47 1517.58 Q1377.71 1516.75 1375.9 1516.31 Q1374.12 1515.87 1372.36 1515.87 Q1367.73 1515.87 1365.28 1519 Q1362.85 1522.12 1362.5 1528.44 Q1363.87 1526.43 1365.93 1525.36 Q1367.99 1524.27 1370.46 1524.27 Q1375.67 1524.27 1378.68 1527.44 Q1381.71 1530.59 1381.71 1536.03 Q1381.71 1541.36 1378.56 1544.57 Q1375.42 1547.79 1370.18 1547.79 Q1364.19 1547.79 1361.02 1543.21 Q1357.85 1538.6 1357.85 1529.87 Q1357.85 1521.68 1361.74 1516.82 Q1365.62 1511.93 1372.18 1511.93 Q1373.93 1511.93 1375.72 1512.28 Q1377.52 1512.63 1379.47 1513.32 Z\" fill=\"#000000\" fill-rule=\"evenodd\" fill-opacity=\"1\" /><path clip-path=\"url(#clip560)\" d=\"M1830.19 1530.71 Q1826.86 1530.71 1824.94 1532.49 Q1823.04 1534.27 1823.04 1537.4 Q1823.04 1540.52 1824.94 1542.31 Q1826.86 1544.09 1830.19 1544.09 Q1833.52 1544.09 1835.44 1542.31 Q1837.37 1540.5 1837.37 1537.4 Q1837.37 1534.27 1835.44 1532.49 Q1833.55 1530.71 1830.19 1530.71 M1825.51 1528.72 Q1822.5 1527.98 1820.82 1525.92 Q1819.15 1523.86 1819.15 1520.89 Q1819.15 1516.75 1822.09 1514.34 Q1825.05 1511.93 1830.19 1511.93 Q1835.35 1511.93 1838.29 1514.34 Q1841.23 1516.75 1841.23 1520.89 Q1841.23 1523.86 1839.54 1525.92 Q1837.88 1527.98 1834.89 1528.72 Q1838.27 1529.5 1840.14 1531.8 Q1842.04 1534.09 1842.04 1537.4 Q1842.04 1542.42 1838.96 1545.11 Q1835.91 1547.79 1830.19 1547.79 Q1824.47 1547.79 1821.39 1545.11 Q1818.34 1542.42 1818.34 1537.4 Q1818.34 1534.09 1820.24 1531.8 Q1822.13 1529.5 1825.51 1528.72 M1823.8 1521.33 Q1823.8 1524.02 1825.47 1525.52 Q1827.16 1527.03 1830.19 1527.03 Q1833.2 1527.03 1834.89 1525.52 Q1836.6 1524.02 1836.6 1521.33 Q1836.6 1518.65 1834.89 1517.14 Q1833.2 1515.64 1830.19 1515.64 Q1827.16 1515.64 1825.47 1517.14 Q1823.8 1518.65 1823.8 1521.33 Z\" fill=\"#000000\" fill-rule=\"evenodd\" fill-opacity=\"1\" /><path clip-path=\"url(#clip560)\" d=\"M2265.29 1543.18 L2272.93 1543.18 L2272.93 1516.82 L2264.62 1518.49 L2264.62 1514.23 L2272.88 1512.56 L2277.56 1512.56 L2277.56 1543.18 L2285.2 1543.18 L2285.2 1547.12 L2265.29 1547.12 L2265.29 1543.18 Z\" fill=\"#000000\" fill-rule=\"evenodd\" fill-opacity=\"1\" /><path clip-path=\"url(#clip560)\" d=\"M2304.64 1515.64 Q2301.03 1515.64 2299.2 1519.2 Q2297.39 1522.75 2297.39 1529.87 Q2297.39 1536.98 2299.2 1540.55 Q2301.03 1544.09 2304.64 1544.09 Q2308.27 1544.09 2310.08 1540.55 Q2311.91 1536.98 2311.91 1529.87 Q2311.91 1522.75 2310.08 1519.2 Q2308.27 1515.64 2304.64 1515.64 M2304.64 1511.93 Q2310.45 1511.93 2313.51 1516.54 Q2316.58 1521.12 2316.58 1529.87 Q2316.58 1538.6 2313.51 1543.21 Q2310.45 1547.79 2304.64 1547.79 Q2298.83 1547.79 2295.75 1543.21 Q2292.7 1538.6 2292.7 1529.87 Q2292.7 1521.12 2295.75 1516.54 Q2298.83 1511.93 2304.64 1511.93 Z\" fill=\"#000000\" fill-rule=\"evenodd\" fill-opacity=\"1\" /><polyline clip-path=\"url(#clip562)\" style=\"stroke:#000000; stroke-linecap:butt; stroke-linejoin:round; stroke-width:2; stroke-opacity:0.1; fill:none\" points=\"\n",
       "  156.598,1468.61 2352.76,1468.61 \n",
       "  \"/>\n",
       "<polyline clip-path=\"url(#clip562)\" style=\"stroke:#000000; stroke-linecap:butt; stroke-linejoin:round; stroke-width:2; stroke-opacity:0.1; fill:none\" points=\"\n",
       "  156.598,1107.34 2352.76,1107.34 \n",
       "  \"/>\n",
       "<polyline clip-path=\"url(#clip562)\" style=\"stroke:#000000; stroke-linecap:butt; stroke-linejoin:round; stroke-width:2; stroke-opacity:0.1; fill:none\" points=\"\n",
       "  156.598,746.066 2352.76,746.066 \n",
       "  \"/>\n",
       "<polyline clip-path=\"url(#clip562)\" style=\"stroke:#000000; stroke-linecap:butt; stroke-linejoin:round; stroke-width:2; stroke-opacity:0.1; fill:none\" points=\"\n",
       "  156.598,384.793 2352.76,384.793 \n",
       "  \"/>\n",
       "<polyline clip-path=\"url(#clip560)\" style=\"stroke:#000000; stroke-linecap:butt; stroke-linejoin:round; stroke-width:4; stroke-opacity:1; fill:none\" points=\"\n",
       "  156.598,1486.45 156.598,47.2441 \n",
       "  \"/>\n",
       "<polyline clip-path=\"url(#clip560)\" style=\"stroke:#000000; stroke-linecap:butt; stroke-linejoin:round; stroke-width:4; stroke-opacity:1; fill:none\" points=\"\n",
       "  156.598,1468.61 175.496,1468.61 \n",
       "  \"/>\n",
       "<polyline clip-path=\"url(#clip560)\" style=\"stroke:#000000; stroke-linecap:butt; stroke-linejoin:round; stroke-width:4; stroke-opacity:1; fill:none\" points=\"\n",
       "  156.598,1107.34 175.496,1107.34 \n",
       "  \"/>\n",
       "<polyline clip-path=\"url(#clip560)\" style=\"stroke:#000000; stroke-linecap:butt; stroke-linejoin:round; stroke-width:4; stroke-opacity:1; fill:none\" points=\"\n",
       "  156.598,746.066 175.496,746.066 \n",
       "  \"/>\n",
       "<polyline clip-path=\"url(#clip560)\" style=\"stroke:#000000; stroke-linecap:butt; stroke-linejoin:round; stroke-width:4; stroke-opacity:1; fill:none\" points=\"\n",
       "  156.598,384.793 175.496,384.793 \n",
       "  \"/>\n",
       "<path clip-path=\"url(#clip560)\" d=\"M65.0198 1454.41 Q61.4087 1454.41 59.58 1457.98 Q57.7745 1461.52 57.7745 1468.65 Q57.7745 1475.75 59.58 1479.32 Q61.4087 1482.86 65.0198 1482.86 Q68.6541 1482.86 70.4596 1479.32 Q72.2883 1475.75 72.2883 1468.65 Q72.2883 1461.52 70.4596 1457.98 Q68.6541 1454.41 65.0198 1454.41 M65.0198 1450.71 Q70.83 1450.71 73.8855 1455.31 Q76.9642 1459.9 76.9642 1468.65 Q76.9642 1477.37 73.8855 1481.98 Q70.83 1486.56 65.0198 1486.56 Q59.2097 1486.56 56.131 1481.98 Q53.0754 1477.37 53.0754 1468.65 Q53.0754 1459.9 56.131 1455.31 Q59.2097 1450.71 65.0198 1450.71 Z\" fill=\"#000000\" fill-rule=\"evenodd\" fill-opacity=\"1\" /><path clip-path=\"url(#clip560)\" d=\"M85.1818 1480.01 L90.066 1480.01 L90.066 1485.89 L85.1818 1485.89 L85.1818 1480.01 Z\" fill=\"#000000\" fill-rule=\"evenodd\" fill-opacity=\"1\" /><path clip-path=\"url(#clip560)\" d=\"M104.279 1481.96 L120.598 1481.96 L120.598 1485.89 L98.6539 1485.89 L98.6539 1481.96 Q101.316 1479.2 105.899 1474.57 Q110.506 1469.92 111.686 1468.58 Q113.932 1466.05 114.811 1464.32 Q115.714 1462.56 115.714 1460.87 Q115.714 1458.11 113.77 1456.38 Q111.848 1454.64 108.746 1454.64 Q106.547 1454.64 104.094 1455.41 Q101.663 1456.17 98.8854 1457.72 L98.8854 1453 Q101.709 1451.86 104.163 1451.29 Q106.617 1450.71 108.654 1450.71 Q114.024 1450.71 117.219 1453.39 Q120.413 1456.08 120.413 1460.57 Q120.413 1462.7 119.603 1464.62 Q118.816 1466.52 116.709 1469.11 Q116.131 1469.78 113.029 1473 Q109.927 1476.19 104.279 1481.96 Z\" fill=\"#000000\" fill-rule=\"evenodd\" fill-opacity=\"1\" /><path clip-path=\"url(#clip560)\" d=\"M62.9365 1093.14 Q59.3254 1093.14 57.4967 1096.7 Q55.6912 1100.24 55.6912 1107.37 Q55.6912 1114.48 57.4967 1118.04 Q59.3254 1121.59 62.9365 1121.59 Q66.5707 1121.59 68.3763 1118.04 Q70.205 1114.48 70.205 1107.37 Q70.205 1100.24 68.3763 1096.7 Q66.5707 1093.14 62.9365 1093.14 M62.9365 1089.43 Q68.7467 1089.43 71.8022 1094.04 Q74.8809 1098.62 74.8809 1107.37 Q74.8809 1116.1 71.8022 1120.71 Q68.7467 1125.29 62.9365 1125.29 Q57.1264 1125.29 54.0477 1120.71 Q50.9921 1116.1 50.9921 1107.37 Q50.9921 1098.62 54.0477 1094.04 Q57.1264 1089.43 62.9365 1089.43 Z\" fill=\"#000000\" fill-rule=\"evenodd\" fill-opacity=\"1\" /><path clip-path=\"url(#clip560)\" d=\"M83.0984 1118.74 L87.9827 1118.74 L87.9827 1124.62 L83.0984 1124.62 L83.0984 1118.74 Z\" fill=\"#000000\" fill-rule=\"evenodd\" fill-opacity=\"1\" /><path clip-path=\"url(#clip560)\" d=\"M111.015 1094.13 L99.2095 1112.58 L111.015 1112.58 L111.015 1094.13 M109.788 1090.06 L115.668 1090.06 L115.668 1112.58 L120.598 1112.58 L120.598 1116.47 L115.668 1116.47 L115.668 1124.62 L111.015 1124.62 L111.015 1116.47 L95.4132 1116.47 L95.4132 1111.96 L109.788 1090.06 Z\" fill=\"#000000\" fill-rule=\"evenodd\" fill-opacity=\"1\" /><path clip-path=\"url(#clip560)\" d=\"M63.2606 731.864 Q59.6495 731.864 57.8208 735.429 Q56.0152 738.971 56.0152 746.1 Q56.0152 753.207 57.8208 756.772 Q59.6495 760.313 63.2606 760.313 Q66.8948 760.313 68.7004 756.772 Q70.5291 753.207 70.5291 746.1 Q70.5291 738.971 68.7004 735.429 Q66.8948 731.864 63.2606 731.864 M63.2606 728.161 Q69.0707 728.161 72.1263 732.767 Q75.205 737.351 75.205 746.1 Q75.205 754.827 72.1263 759.434 Q69.0707 764.017 63.2606 764.017 Q57.4504 764.017 54.3717 759.434 Q51.3162 754.827 51.3162 746.1 Q51.3162 737.351 54.3717 732.767 Q57.4504 728.161 63.2606 728.161 Z\" fill=\"#000000\" fill-rule=\"evenodd\" fill-opacity=\"1\" /><path clip-path=\"url(#clip560)\" d=\"M83.4225 757.466 L88.3067 757.466 L88.3067 763.346 L83.4225 763.346 L83.4225 757.466 Z\" fill=\"#000000\" fill-rule=\"evenodd\" fill-opacity=\"1\" /><path clip-path=\"url(#clip560)\" d=\"M109.071 744.202 Q105.922 744.202 104.071 746.355 Q102.242 748.508 102.242 752.258 Q102.242 755.985 104.071 758.161 Q105.922 760.313 109.071 760.313 Q112.219 760.313 114.047 758.161 Q115.899 755.985 115.899 752.258 Q115.899 748.508 114.047 746.355 Q112.219 744.202 109.071 744.202 M118.353 729.55 L118.353 733.809 Q116.594 732.976 114.788 732.536 Q113.006 732.096 111.246 732.096 Q106.617 732.096 104.163 735.221 Q101.733 738.346 101.385 744.665 Q102.751 742.651 104.811 741.587 Q106.871 740.499 109.348 740.499 Q114.557 740.499 117.566 743.67 Q120.598 746.818 120.598 752.258 Q120.598 757.582 117.45 760.799 Q114.302 764.017 109.071 764.017 Q103.075 764.017 99.9039 759.434 Q96.7326 754.827 96.7326 746.1 Q96.7326 737.906 100.621 733.045 Q104.51 728.161 111.061 728.161 Q112.82 728.161 114.603 728.508 Q116.408 728.855 118.353 729.55 Z\" fill=\"#000000\" fill-rule=\"evenodd\" fill-opacity=\"1\" /><path clip-path=\"url(#clip560)\" d=\"M63.5152 370.591 Q59.9041 370.591 58.0754 374.156 Q56.2699 377.698 56.2699 384.827 Q56.2699 391.934 58.0754 395.499 Q59.9041 399.04 63.5152 399.04 Q67.1494 399.04 68.955 395.499 Q70.7837 391.934 70.7837 384.827 Q70.7837 377.698 68.955 374.156 Q67.1494 370.591 63.5152 370.591 M63.5152 366.888 Q69.3254 366.888 72.3809 371.494 Q75.4596 376.077 75.4596 384.827 Q75.4596 393.554 72.3809 398.161 Q69.3254 402.744 63.5152 402.744 Q57.7051 402.744 54.6264 398.161 Q51.5708 393.554 51.5708 384.827 Q51.5708 376.077 54.6264 371.494 Q57.7051 366.888 63.5152 366.888 Z\" fill=\"#000000\" fill-rule=\"evenodd\" fill-opacity=\"1\" /><path clip-path=\"url(#clip560)\" d=\"M83.6771 396.193 L88.5614 396.193 L88.5614 402.073 L83.6771 402.073 L83.6771 396.193 Z\" fill=\"#000000\" fill-rule=\"evenodd\" fill-opacity=\"1\" /><path clip-path=\"url(#clip560)\" d=\"M108.746 385.661 Q105.413 385.661 103.492 387.443 Q101.594 389.225 101.594 392.35 Q101.594 395.475 103.492 397.258 Q105.413 399.04 108.746 399.04 Q112.08 399.04 114.001 397.258 Q115.922 395.452 115.922 392.35 Q115.922 389.225 114.001 387.443 Q112.103 385.661 108.746 385.661 M104.071 383.67 Q101.061 382.929 99.3715 380.869 Q97.7048 378.809 97.7048 375.846 Q97.7048 371.702 100.645 369.295 Q103.608 366.888 108.746 366.888 Q113.908 366.888 116.848 369.295 Q119.788 371.702 119.788 375.846 Q119.788 378.809 118.098 380.869 Q116.432 382.929 113.445 383.67 Q116.825 384.457 118.7 386.749 Q120.598 389.04 120.598 392.35 Q120.598 397.374 117.52 400.059 Q114.464 402.744 108.746 402.744 Q103.029 402.744 99.9502 400.059 Q96.8947 397.374 96.8947 392.35 Q96.8947 389.04 98.7928 386.749 Q100.691 384.457 104.071 383.67 M102.358 376.286 Q102.358 378.971 104.024 380.475 Q105.714 381.98 108.746 381.98 Q111.756 381.98 113.445 380.475 Q115.158 378.971 115.158 376.286 Q115.158 373.6 113.445 372.096 Q111.756 370.591 108.746 370.591 Q105.714 370.591 104.024 372.096 Q102.358 373.6 102.358 376.286 Z\" fill=\"#000000\" fill-rule=\"evenodd\" fill-opacity=\"1\" /><polyline clip-path=\"url(#clip562)\" style=\"stroke:#009af9; stroke-linecap:butt; stroke-linejoin:round; stroke-width:4; stroke-opacity:1; fill:none\" points=\"\n",
       "  218.754,1173.38 448.959,682.988 679.164,1171.82 909.369,87.9763 1139.57,633.518 1369.78,921.867 1599.98,616.204 1830.19,1445.72 2060.4,488.778 2290.6,789.209 \n",
       "  \n",
       "  \"/>\n",
       "<path clip-path=\"url(#clip560)\" d=\"\n",
       "M1983.1 198.898 L2279.55 198.898 L2279.55 95.2176 L1983.1 95.2176  Z\n",
       "  \" fill=\"#ffffff\" fill-rule=\"evenodd\" fill-opacity=\"1\"/>\n",
       "<polyline clip-path=\"url(#clip560)\" style=\"stroke:#000000; stroke-linecap:butt; stroke-linejoin:round; stroke-width:4; stroke-opacity:1; fill:none\" points=\"\n",
       "  1983.1,198.898 2279.55,198.898 2279.55,95.2176 1983.1,95.2176 1983.1,198.898 \n",
       "  \"/>\n",
       "<polyline clip-path=\"url(#clip560)\" style=\"stroke:#009af9; stroke-linecap:butt; stroke-linejoin:round; stroke-width:4; stroke-opacity:1; fill:none\" points=\"\n",
       "  2007.5,147.058 2153.92,147.058 \n",
       "  \"/>\n",
       "<path clip-path=\"url(#clip560)\" d=\"M2192.16 166.745 Q2190.35 171.375 2188.64 172.787 Q2186.93 174.199 2184.06 174.199 L2180.65 174.199 L2180.65 170.634 L2183.15 170.634 Q2184.91 170.634 2185.89 169.8 Q2186.86 168.967 2188.04 165.865 L2188.8 163.921 L2178.32 138.412 L2182.83 138.412 L2190.93 158.689 L2199.03 138.412 L2203.55 138.412 L2192.16 166.745 Z\" fill=\"#000000\" fill-rule=\"evenodd\" fill-opacity=\"1\" /><path clip-path=\"url(#clip560)\" d=\"M2210.84 160.402 L2218.48 160.402 L2218.48 134.037 L2210.17 135.703 L2210.17 131.444 L2218.43 129.778 L2223.11 129.778 L2223.11 160.402 L2230.75 160.402 L2230.75 164.338 L2210.84 164.338 L2210.84 160.402 Z\" fill=\"#000000\" fill-rule=\"evenodd\" fill-opacity=\"1\" /></svg>\n"
      ]
     },
     "execution_count": 30,
     "metadata": {},
     "output_type": "execute_result"
    }
   ],
   "source": [
    "x = 1:10; y = rand(10) # These are the plotting data\n",
    "Plots.plot(x, y)"
   ]
  },
  {
   "cell_type": "markdown",
   "metadata": {},
   "source": [
    "Use plot!() to add another data on top of the above graph"
   ]
  },
  {
   "cell_type": "code",
   "execution_count": 31,
   "metadata": {},
   "outputs": [
    {
     "data": {
      "image/svg+xml": [
       "<?xml version=\"1.0\" encoding=\"utf-8\"?>\n",
       "<svg xmlns=\"http://www.w3.org/2000/svg\" xmlns:xlink=\"http://www.w3.org/1999/xlink\" width=\"600\" height=\"400\" viewBox=\"0 0 2400 1600\">\n",
       "<defs>\n",
       "  <clipPath id=\"clip600\">\n",
       "    <rect x=\"0\" y=\"0\" width=\"2400\" height=\"1600\"/>\n",
       "  </clipPath>\n",
       "</defs>\n",
       "<path clip-path=\"url(#clip600)\" d=\"\n",
       "M0 1600 L2400 1600 L2400 0 L0 0  Z\n",
       "  \" fill=\"#ffffff\" fill-rule=\"evenodd\" fill-opacity=\"1\"/>\n",
       "<defs>\n",
       "  <clipPath id=\"clip601\">\n",
       "    <rect x=\"480\" y=\"0\" width=\"1681\" height=\"1600\"/>\n",
       "  </clipPath>\n",
       "</defs>\n",
       "<path clip-path=\"url(#clip600)\" d=\"\n",
       "M156.598 1486.45 L2352.76 1486.45 L2352.76 47.2441 L156.598 47.2441  Z\n",
       "  \" fill=\"#ffffff\" fill-rule=\"evenodd\" fill-opacity=\"1\"/>\n",
       "<defs>\n",
       "  <clipPath id=\"clip602\">\n",
       "    <rect x=\"156\" y=\"47\" width=\"2197\" height=\"1440\"/>\n",
       "  </clipPath>\n",
       "</defs>\n",
       "<polyline clip-path=\"url(#clip602)\" style=\"stroke:#000000; stroke-linecap:butt; stroke-linejoin:round; stroke-width:2; stroke-opacity:0.1; fill:none\" points=\"\n",
       "  448.959,1486.45 448.959,47.2441 \n",
       "  \"/>\n",
       "<polyline clip-path=\"url(#clip602)\" style=\"stroke:#000000; stroke-linecap:butt; stroke-linejoin:round; stroke-width:2; stroke-opacity:0.1; fill:none\" points=\"\n",
       "  909.369,1486.45 909.369,47.2441 \n",
       "  \"/>\n",
       "<polyline clip-path=\"url(#clip602)\" style=\"stroke:#000000; stroke-linecap:butt; stroke-linejoin:round; stroke-width:2; stroke-opacity:0.1; fill:none\" points=\"\n",
       "  1369.78,1486.45 1369.78,47.2441 \n",
       "  \"/>\n",
       "<polyline clip-path=\"url(#clip602)\" style=\"stroke:#000000; stroke-linecap:butt; stroke-linejoin:round; stroke-width:2; stroke-opacity:0.1; fill:none\" points=\"\n",
       "  1830.19,1486.45 1830.19,47.2441 \n",
       "  \"/>\n",
       "<polyline clip-path=\"url(#clip602)\" style=\"stroke:#000000; stroke-linecap:butt; stroke-linejoin:round; stroke-width:2; stroke-opacity:0.1; fill:none\" points=\"\n",
       "  2290.6,1486.45 2290.6,47.2441 \n",
       "  \"/>\n",
       "<polyline clip-path=\"url(#clip600)\" style=\"stroke:#000000; stroke-linecap:butt; stroke-linejoin:round; stroke-width:4; stroke-opacity:1; fill:none\" points=\"\n",
       "  156.598,1486.45 2352.76,1486.45 \n",
       "  \"/>\n",
       "<polyline clip-path=\"url(#clip600)\" style=\"stroke:#000000; stroke-linecap:butt; stroke-linejoin:round; stroke-width:4; stroke-opacity:1; fill:none\" points=\"\n",
       "  448.959,1486.45 448.959,1467.55 \n",
       "  \"/>\n",
       "<polyline clip-path=\"url(#clip600)\" style=\"stroke:#000000; stroke-linecap:butt; stroke-linejoin:round; stroke-width:4; stroke-opacity:1; fill:none\" points=\"\n",
       "  909.369,1486.45 909.369,1467.55 \n",
       "  \"/>\n",
       "<polyline clip-path=\"url(#clip600)\" style=\"stroke:#000000; stroke-linecap:butt; stroke-linejoin:round; stroke-width:4; stroke-opacity:1; fill:none\" points=\"\n",
       "  1369.78,1486.45 1369.78,1467.55 \n",
       "  \"/>\n",
       "<polyline clip-path=\"url(#clip600)\" style=\"stroke:#000000; stroke-linecap:butt; stroke-linejoin:round; stroke-width:4; stroke-opacity:1; fill:none\" points=\"\n",
       "  1830.19,1486.45 1830.19,1467.55 \n",
       "  \"/>\n",
       "<polyline clip-path=\"url(#clip600)\" style=\"stroke:#000000; stroke-linecap:butt; stroke-linejoin:round; stroke-width:4; stroke-opacity:1; fill:none\" points=\"\n",
       "  2290.6,1486.45 2290.6,1467.55 \n",
       "  \"/>\n",
       "<path clip-path=\"url(#clip600)\" d=\"M443.612 1543.18 L459.931 1543.18 L459.931 1547.12 L437.987 1547.12 L437.987 1543.18 Q440.649 1540.43 445.232 1535.8 Q449.838 1531.15 451.019 1529.81 Q453.264 1527.28 454.144 1525.55 Q455.047 1523.79 455.047 1522.1 Q455.047 1519.34 453.102 1517.61 Q451.181 1515.87 448.079 1515.87 Q445.88 1515.87 443.426 1516.63 Q440.996 1517.4 438.218 1518.95 L438.218 1514.23 Q441.042 1513.09 443.496 1512.51 Q445.95 1511.93 447.987 1511.93 Q453.357 1511.93 456.551 1514.62 Q459.746 1517.31 459.746 1521.8 Q459.746 1523.93 458.936 1525.85 Q458.149 1527.74 456.042 1530.34 Q455.463 1531.01 452.362 1534.23 Q449.26 1537.42 443.612 1543.18 Z\" fill=\"#000000\" fill-rule=\"evenodd\" fill-opacity=\"1\" /><path clip-path=\"url(#clip600)\" d=\"M912.379 1516.63 L900.573 1535.08 L912.379 1535.08 L912.379 1516.63 M911.152 1512.56 L917.031 1512.56 L917.031 1535.08 L921.962 1535.08 L921.962 1538.97 L917.031 1538.97 L917.031 1547.12 L912.379 1547.12 L912.379 1538.97 L896.777 1538.97 L896.777 1534.46 L911.152 1512.56 Z\" fill=\"#000000\" fill-rule=\"evenodd\" fill-opacity=\"1\" /><path clip-path=\"url(#clip600)\" d=\"M1370.18 1527.98 Q1367.04 1527.98 1365.18 1530.13 Q1363.36 1532.28 1363.36 1536.03 Q1363.36 1539.76 1365.18 1541.93 Q1367.04 1544.09 1370.18 1544.09 Q1373.33 1544.09 1375.16 1541.93 Q1377.01 1539.76 1377.01 1536.03 Q1377.01 1532.28 1375.16 1530.13 Q1373.33 1527.98 1370.18 1527.98 M1379.47 1513.32 L1379.47 1517.58 Q1377.71 1516.75 1375.9 1516.31 Q1374.12 1515.87 1372.36 1515.87 Q1367.73 1515.87 1365.28 1519 Q1362.85 1522.12 1362.5 1528.44 Q1363.87 1526.43 1365.93 1525.36 Q1367.99 1524.27 1370.46 1524.27 Q1375.67 1524.27 1378.68 1527.44 Q1381.71 1530.59 1381.71 1536.03 Q1381.71 1541.36 1378.56 1544.57 Q1375.42 1547.79 1370.18 1547.79 Q1364.19 1547.79 1361.02 1543.21 Q1357.85 1538.6 1357.85 1529.87 Q1357.85 1521.68 1361.74 1516.82 Q1365.62 1511.93 1372.18 1511.93 Q1373.93 1511.93 1375.72 1512.28 Q1377.52 1512.63 1379.47 1513.32 Z\" fill=\"#000000\" fill-rule=\"evenodd\" fill-opacity=\"1\" /><path clip-path=\"url(#clip600)\" d=\"M1830.19 1530.71 Q1826.86 1530.71 1824.94 1532.49 Q1823.04 1534.27 1823.04 1537.4 Q1823.04 1540.52 1824.94 1542.31 Q1826.86 1544.09 1830.19 1544.09 Q1833.52 1544.09 1835.44 1542.31 Q1837.37 1540.5 1837.37 1537.4 Q1837.37 1534.27 1835.44 1532.49 Q1833.55 1530.71 1830.19 1530.71 M1825.51 1528.72 Q1822.5 1527.98 1820.82 1525.92 Q1819.15 1523.86 1819.15 1520.89 Q1819.15 1516.75 1822.09 1514.34 Q1825.05 1511.93 1830.19 1511.93 Q1835.35 1511.93 1838.29 1514.34 Q1841.23 1516.75 1841.23 1520.89 Q1841.23 1523.86 1839.54 1525.92 Q1837.88 1527.98 1834.89 1528.72 Q1838.27 1529.5 1840.14 1531.8 Q1842.04 1534.09 1842.04 1537.4 Q1842.04 1542.42 1838.96 1545.11 Q1835.91 1547.79 1830.19 1547.79 Q1824.47 1547.79 1821.39 1545.11 Q1818.34 1542.42 1818.34 1537.4 Q1818.34 1534.09 1820.24 1531.8 Q1822.13 1529.5 1825.51 1528.72 M1823.8 1521.33 Q1823.8 1524.02 1825.47 1525.52 Q1827.16 1527.03 1830.19 1527.03 Q1833.2 1527.03 1834.89 1525.52 Q1836.6 1524.02 1836.6 1521.33 Q1836.6 1518.65 1834.89 1517.14 Q1833.2 1515.64 1830.19 1515.64 Q1827.16 1515.64 1825.47 1517.14 Q1823.8 1518.65 1823.8 1521.33 Z\" fill=\"#000000\" fill-rule=\"evenodd\" fill-opacity=\"1\" /><path clip-path=\"url(#clip600)\" d=\"M2265.29 1543.18 L2272.93 1543.18 L2272.93 1516.82 L2264.62 1518.49 L2264.62 1514.23 L2272.88 1512.56 L2277.56 1512.56 L2277.56 1543.18 L2285.2 1543.18 L2285.2 1547.12 L2265.29 1547.12 L2265.29 1543.18 Z\" fill=\"#000000\" fill-rule=\"evenodd\" fill-opacity=\"1\" /><path clip-path=\"url(#clip600)\" d=\"M2304.64 1515.64 Q2301.03 1515.64 2299.2 1519.2 Q2297.39 1522.75 2297.39 1529.87 Q2297.39 1536.98 2299.2 1540.55 Q2301.03 1544.09 2304.64 1544.09 Q2308.27 1544.09 2310.08 1540.55 Q2311.91 1536.98 2311.91 1529.87 Q2311.91 1522.75 2310.08 1519.2 Q2308.27 1515.64 2304.64 1515.64 M2304.64 1511.93 Q2310.45 1511.93 2313.51 1516.54 Q2316.58 1521.12 2316.58 1529.87 Q2316.58 1538.6 2313.51 1543.21 Q2310.45 1547.79 2304.64 1547.79 Q2298.83 1547.79 2295.75 1543.21 Q2292.7 1538.6 2292.7 1529.87 Q2292.7 1521.12 2295.75 1516.54 Q2298.83 1511.93 2304.64 1511.93 Z\" fill=\"#000000\" fill-rule=\"evenodd\" fill-opacity=\"1\" /><polyline clip-path=\"url(#clip602)\" style=\"stroke:#000000; stroke-linecap:butt; stroke-linejoin:round; stroke-width:2; stroke-opacity:0.1; fill:none\" points=\"\n",
       "  156.598,1467.96 2352.76,1467.96 \n",
       "  \"/>\n",
       "<polyline clip-path=\"url(#clip602)\" style=\"stroke:#000000; stroke-linecap:butt; stroke-linejoin:round; stroke-width:2; stroke-opacity:0.1; fill:none\" points=\"\n",
       "  156.598,1116.91 2352.76,1116.91 \n",
       "  \"/>\n",
       "<polyline clip-path=\"url(#clip602)\" style=\"stroke:#000000; stroke-linecap:butt; stroke-linejoin:round; stroke-width:2; stroke-opacity:0.1; fill:none\" points=\"\n",
       "  156.598,765.848 2352.76,765.848 \n",
       "  \"/>\n",
       "<polyline clip-path=\"url(#clip602)\" style=\"stroke:#000000; stroke-linecap:butt; stroke-linejoin:round; stroke-width:2; stroke-opacity:0.1; fill:none\" points=\"\n",
       "  156.598,414.789 2352.76,414.789 \n",
       "  \"/>\n",
       "<polyline clip-path=\"url(#clip602)\" style=\"stroke:#000000; stroke-linecap:butt; stroke-linejoin:round; stroke-width:2; stroke-opacity:0.1; fill:none\" points=\"\n",
       "  156.598,63.731 2352.76,63.731 \n",
       "  \"/>\n",
       "<polyline clip-path=\"url(#clip600)\" style=\"stroke:#000000; stroke-linecap:butt; stroke-linejoin:round; stroke-width:4; stroke-opacity:1; fill:none\" points=\"\n",
       "  156.598,1486.45 156.598,47.2441 \n",
       "  \"/>\n",
       "<polyline clip-path=\"url(#clip600)\" style=\"stroke:#000000; stroke-linecap:butt; stroke-linejoin:round; stroke-width:4; stroke-opacity:1; fill:none\" points=\"\n",
       "  156.598,1467.96 175.496,1467.96 \n",
       "  \"/>\n",
       "<polyline clip-path=\"url(#clip600)\" style=\"stroke:#000000; stroke-linecap:butt; stroke-linejoin:round; stroke-width:4; stroke-opacity:1; fill:none\" points=\"\n",
       "  156.598,1116.91 175.496,1116.91 \n",
       "  \"/>\n",
       "<polyline clip-path=\"url(#clip600)\" style=\"stroke:#000000; stroke-linecap:butt; stroke-linejoin:round; stroke-width:4; stroke-opacity:1; fill:none\" points=\"\n",
       "  156.598,765.848 175.496,765.848 \n",
       "  \"/>\n",
       "<polyline clip-path=\"url(#clip600)\" style=\"stroke:#000000; stroke-linecap:butt; stroke-linejoin:round; stroke-width:4; stroke-opacity:1; fill:none\" points=\"\n",
       "  156.598,414.789 175.496,414.789 \n",
       "  \"/>\n",
       "<polyline clip-path=\"url(#clip600)\" style=\"stroke:#000000; stroke-linecap:butt; stroke-linejoin:round; stroke-width:4; stroke-opacity:1; fill:none\" points=\"\n",
       "  156.598,63.731 175.496,63.731 \n",
       "  \"/>\n",
       "<path clip-path=\"url(#clip600)\" d=\"M65.0198 1453.76 Q61.4087 1453.76 59.58 1457.33 Q57.7745 1460.87 57.7745 1468 Q57.7745 1475.11 59.58 1478.67 Q61.4087 1482.21 65.0198 1482.21 Q68.6541 1482.21 70.4596 1478.67 Q72.2883 1475.11 72.2883 1468 Q72.2883 1460.87 70.4596 1457.33 Q68.6541 1453.76 65.0198 1453.76 M65.0198 1450.06 Q70.83 1450.06 73.8855 1454.67 Q76.9642 1459.25 76.9642 1468 Q76.9642 1476.73 73.8855 1481.33 Q70.83 1485.92 65.0198 1485.92 Q59.2097 1485.92 56.131 1481.33 Q53.0754 1476.73 53.0754 1468 Q53.0754 1459.25 56.131 1454.67 Q59.2097 1450.06 65.0198 1450.06 Z\" fill=\"#000000\" fill-rule=\"evenodd\" fill-opacity=\"1\" /><path clip-path=\"url(#clip600)\" d=\"M85.1818 1479.37 L90.066 1479.37 L90.066 1485.24 L85.1818 1485.24 L85.1818 1479.37 Z\" fill=\"#000000\" fill-rule=\"evenodd\" fill-opacity=\"1\" /><path clip-path=\"url(#clip600)\" d=\"M104.279 1481.31 L120.598 1481.31 L120.598 1485.24 L98.6539 1485.24 L98.6539 1481.31 Q101.316 1478.56 105.899 1473.93 Q110.506 1469.27 111.686 1467.93 Q113.932 1465.41 114.811 1463.67 Q115.714 1461.91 115.714 1460.22 Q115.714 1457.47 113.77 1455.73 Q111.848 1453.99 108.746 1453.99 Q106.547 1453.99 104.094 1454.76 Q101.663 1455.52 98.8854 1457.07 L98.8854 1452.35 Q101.709 1451.22 104.163 1450.64 Q106.617 1450.06 108.654 1450.06 Q114.024 1450.06 117.219 1452.74 Q120.413 1455.43 120.413 1459.92 Q120.413 1462.05 119.603 1463.97 Q118.816 1465.87 116.709 1468.46 Q116.131 1469.13 113.029 1472.35 Q109.927 1475.55 104.279 1481.31 Z\" fill=\"#000000\" fill-rule=\"evenodd\" fill-opacity=\"1\" /><path clip-path=\"url(#clip600)\" d=\"M62.9365 1102.71 Q59.3254 1102.71 57.4967 1106.27 Q55.6912 1109.81 55.6912 1116.94 Q55.6912 1124.05 57.4967 1127.61 Q59.3254 1131.15 62.9365 1131.15 Q66.5707 1131.15 68.3763 1127.61 Q70.205 1124.05 70.205 1116.94 Q70.205 1109.81 68.3763 1106.27 Q66.5707 1102.71 62.9365 1102.71 M62.9365 1099 Q68.7467 1099 71.8022 1103.61 Q74.8809 1108.19 74.8809 1116.94 Q74.8809 1125.67 71.8022 1130.27 Q68.7467 1134.86 62.9365 1134.86 Q57.1264 1134.86 54.0477 1130.27 Q50.9921 1125.67 50.9921 1116.94 Q50.9921 1108.19 54.0477 1103.61 Q57.1264 1099 62.9365 1099 Z\" fill=\"#000000\" fill-rule=\"evenodd\" fill-opacity=\"1\" /><path clip-path=\"url(#clip600)\" d=\"M83.0984 1128.31 L87.9827 1128.31 L87.9827 1134.19 L83.0984 1134.19 L83.0984 1128.31 Z\" fill=\"#000000\" fill-rule=\"evenodd\" fill-opacity=\"1\" /><path clip-path=\"url(#clip600)\" d=\"M111.015 1103.7 L99.2095 1122.15 L111.015 1122.15 L111.015 1103.7 M109.788 1099.63 L115.668 1099.63 L115.668 1122.15 L120.598 1122.15 L120.598 1126.04 L115.668 1126.04 L115.668 1134.19 L111.015 1134.19 L111.015 1126.04 L95.4132 1126.04 L95.4132 1121.52 L109.788 1099.63 Z\" fill=\"#000000\" fill-rule=\"evenodd\" fill-opacity=\"1\" /><path clip-path=\"url(#clip600)\" d=\"M63.2606 751.647 Q59.6495 751.647 57.8208 755.211 Q56.0152 758.753 56.0152 765.883 Q56.0152 772.989 57.8208 776.554 Q59.6495 780.095 63.2606 780.095 Q66.8948 780.095 68.7004 776.554 Q70.5291 772.989 70.5291 765.883 Q70.5291 758.753 68.7004 755.211 Q66.8948 751.647 63.2606 751.647 M63.2606 747.943 Q69.0707 747.943 72.1263 752.549 Q75.205 757.133 75.205 765.883 Q75.205 774.609 72.1263 779.216 Q69.0707 783.799 63.2606 783.799 Q57.4504 783.799 54.3717 779.216 Q51.3162 774.609 51.3162 765.883 Q51.3162 757.133 54.3717 752.549 Q57.4504 747.943 63.2606 747.943 Z\" fill=\"#000000\" fill-rule=\"evenodd\" fill-opacity=\"1\" /><path clip-path=\"url(#clip600)\" d=\"M83.4225 777.248 L88.3067 777.248 L88.3067 783.128 L83.4225 783.128 L83.4225 777.248 Z\" fill=\"#000000\" fill-rule=\"evenodd\" fill-opacity=\"1\" /><path clip-path=\"url(#clip600)\" d=\"M109.071 763.984 Q105.922 763.984 104.071 766.137 Q102.242 768.29 102.242 772.04 Q102.242 775.767 104.071 777.943 Q105.922 780.095 109.071 780.095 Q112.219 780.095 114.047 777.943 Q115.899 775.767 115.899 772.04 Q115.899 768.29 114.047 766.137 Q112.219 763.984 109.071 763.984 M118.353 749.332 L118.353 753.591 Q116.594 752.758 114.788 752.318 Q113.006 751.878 111.246 751.878 Q106.617 751.878 104.163 755.003 Q101.733 758.128 101.385 764.447 Q102.751 762.434 104.811 761.369 Q106.871 760.281 109.348 760.281 Q114.557 760.281 117.566 763.452 Q120.598 766.6 120.598 772.04 Q120.598 777.364 117.45 780.582 Q114.302 783.799 109.071 783.799 Q103.075 783.799 99.9039 779.216 Q96.7326 774.609 96.7326 765.883 Q96.7326 757.688 100.621 752.827 Q104.51 747.943 111.061 747.943 Q112.82 747.943 114.603 748.29 Q116.408 748.637 118.353 749.332 Z\" fill=\"#000000\" fill-rule=\"evenodd\" fill-opacity=\"1\" /><path clip-path=\"url(#clip600)\" d=\"M63.5152 400.588 Q59.9041 400.588 58.0754 404.153 Q56.2699 407.695 56.2699 414.824 Q56.2699 421.931 58.0754 425.495 Q59.9041 429.037 63.5152 429.037 Q67.1494 429.037 68.955 425.495 Q70.7837 421.931 70.7837 414.824 Q70.7837 407.695 68.955 404.153 Q67.1494 400.588 63.5152 400.588 M63.5152 396.884 Q69.3254 396.884 72.3809 401.491 Q75.4596 406.074 75.4596 414.824 Q75.4596 423.551 72.3809 428.157 Q69.3254 432.741 63.5152 432.741 Q57.7051 432.741 54.6264 428.157 Q51.5708 423.551 51.5708 414.824 Q51.5708 406.074 54.6264 401.491 Q57.7051 396.884 63.5152 396.884 Z\" fill=\"#000000\" fill-rule=\"evenodd\" fill-opacity=\"1\" /><path clip-path=\"url(#clip600)\" d=\"M83.6771 426.19 L88.5614 426.19 L88.5614 432.069 L83.6771 432.069 L83.6771 426.19 Z\" fill=\"#000000\" fill-rule=\"evenodd\" fill-opacity=\"1\" /><path clip-path=\"url(#clip600)\" d=\"M108.746 415.657 Q105.413 415.657 103.492 417.44 Q101.594 419.222 101.594 422.347 Q101.594 425.472 103.492 427.255 Q105.413 429.037 108.746 429.037 Q112.08 429.037 114.001 427.255 Q115.922 425.449 115.922 422.347 Q115.922 419.222 114.001 417.44 Q112.103 415.657 108.746 415.657 M104.071 413.667 Q101.061 412.926 99.3715 410.866 Q97.7048 408.806 97.7048 405.843 Q97.7048 401.699 100.645 399.292 Q103.608 396.884 108.746 396.884 Q113.908 396.884 116.848 399.292 Q119.788 401.699 119.788 405.843 Q119.788 408.806 118.098 410.866 Q116.432 412.926 113.445 413.667 Q116.825 414.454 118.7 416.745 Q120.598 419.037 120.598 422.347 Q120.598 427.37 117.52 430.056 Q114.464 432.741 108.746 432.741 Q103.029 432.741 99.9502 430.056 Q96.8947 427.37 96.8947 422.347 Q96.8947 419.037 98.7928 416.745 Q100.691 414.454 104.071 413.667 M102.358 406.283 Q102.358 408.968 104.024 410.472 Q105.714 411.977 108.746 411.977 Q111.756 411.977 113.445 410.472 Q115.158 408.968 115.158 406.283 Q115.158 403.597 113.445 402.093 Q111.756 400.588 108.746 400.588 Q105.714 400.588 104.024 402.093 Q102.358 403.597 102.358 406.283 Z\" fill=\"#000000\" fill-rule=\"evenodd\" fill-opacity=\"1\" /><path clip-path=\"url(#clip600)\" d=\"M54.2328 77.0758 L61.8717 77.0758 L61.8717 50.7102 L53.5616 52.3769 L53.5616 48.1176 L61.8254 46.451 L66.5013 46.451 L66.5013 77.0758 L74.1402 77.0758 L74.1402 81.011 L54.2328 81.011 L54.2328 77.0758 Z\" fill=\"#000000\" fill-rule=\"evenodd\" fill-opacity=\"1\" /><path clip-path=\"url(#clip600)\" d=\"M83.5845 75.1314 L88.4688 75.1314 L88.4688 81.011 L83.5845 81.011 L83.5845 75.1314 Z\" fill=\"#000000\" fill-rule=\"evenodd\" fill-opacity=\"1\" /><path clip-path=\"url(#clip600)\" d=\"M108.654 49.5297 Q105.043 49.5297 103.214 53.0944 Q101.409 56.6361 101.409 63.7657 Q101.409 70.8721 103.214 74.4369 Q105.043 77.9786 108.654 77.9786 Q112.288 77.9786 114.094 74.4369 Q115.922 70.8721 115.922 63.7657 Q115.922 56.6361 114.094 53.0944 Q112.288 49.5297 108.654 49.5297 M108.654 45.826 Q114.464 45.826 117.52 50.4324 Q120.598 55.0157 120.598 63.7657 Q120.598 72.4925 117.52 77.0989 Q114.464 81.6823 108.654 81.6823 Q102.844 81.6823 99.765 77.0989 Q96.7095 72.4925 96.7095 63.7657 Q96.7095 55.0157 99.765 50.4324 Q102.844 45.826 108.654 45.826 Z\" fill=\"#000000\" fill-rule=\"evenodd\" fill-opacity=\"1\" /><polyline clip-path=\"url(#clip602)\" style=\"stroke:#009af9; stroke-linecap:butt; stroke-linejoin:round; stroke-width:4; stroke-opacity:1; fill:none\" points=\"\n",
       "  218.754,1181.08 448.959,704.554 679.164,1179.57 909.369,126.365 1139.57,656.483 1369.78,936.678 1599.98,639.658 1830.19,1445.72 2060.4,515.835 2290.6,807.771 \n",
       "  \n",
       "  \"/>\n",
       "<polyline clip-path=\"url(#clip602)\" style=\"stroke:#e26f46; stroke-linecap:butt; stroke-linejoin:round; stroke-width:4; stroke-opacity:1; fill:none\" points=\"\n",
       "  218.754,87.9763 448.959,933.131 679.164,1057.17 909.369,794.071 1139.57,1370.86 1369.78,1215.36 1599.98,942.154 1830.19,1303.78 2060.4,167.016 2290.6,755.732 \n",
       "  \n",
       "  \"/>\n",
       "<path clip-path=\"url(#clip600)\" d=\"\n",
       "M1983.1 250.738 L2279.55 250.738 L2279.55 95.2176 L1983.1 95.2176  Z\n",
       "  \" fill=\"#ffffff\" fill-rule=\"evenodd\" fill-opacity=\"1\"/>\n",
       "<polyline clip-path=\"url(#clip600)\" style=\"stroke:#000000; stroke-linecap:butt; stroke-linejoin:round; stroke-width:4; stroke-opacity:1; fill:none\" points=\"\n",
       "  1983.1,250.738 2279.55,250.738 2279.55,95.2176 1983.1,95.2176 1983.1,250.738 \n",
       "  \"/>\n",
       "<polyline clip-path=\"url(#clip600)\" style=\"stroke:#009af9; stroke-linecap:butt; stroke-linejoin:round; stroke-width:4; stroke-opacity:1; fill:none\" points=\"\n",
       "  2007.5,147.058 2153.92,147.058 \n",
       "  \"/>\n",
       "<path clip-path=\"url(#clip600)\" d=\"M2192.16 166.745 Q2190.35 171.375 2188.64 172.787 Q2186.93 174.199 2184.06 174.199 L2180.65 174.199 L2180.65 170.634 L2183.15 170.634 Q2184.91 170.634 2185.89 169.8 Q2186.86 168.967 2188.04 165.865 L2188.8 163.921 L2178.32 138.412 L2182.83 138.412 L2190.93 158.689 L2199.03 138.412 L2203.55 138.412 L2192.16 166.745 Z\" fill=\"#000000\" fill-rule=\"evenodd\" fill-opacity=\"1\" /><path clip-path=\"url(#clip600)\" d=\"M2210.84 160.402 L2218.48 160.402 L2218.48 134.037 L2210.17 135.703 L2210.17 131.444 L2218.43 129.778 L2223.11 129.778 L2223.11 160.402 L2230.75 160.402 L2230.75 164.338 L2210.84 164.338 L2210.84 160.402 Z\" fill=\"#000000\" fill-rule=\"evenodd\" fill-opacity=\"1\" /><polyline clip-path=\"url(#clip600)\" style=\"stroke:#e26f46; stroke-linecap:butt; stroke-linejoin:round; stroke-width:4; stroke-opacity:1; fill:none\" points=\"\n",
       "  2007.5,198.898 2153.92,198.898 \n",
       "  \"/>\n",
       "<path clip-path=\"url(#clip600)\" d=\"M2192.16 218.585 Q2190.35 223.215 2188.64 224.627 Q2186.93 226.039 2184.06 226.039 L2180.65 226.039 L2180.65 222.474 L2183.15 222.474 Q2184.91 222.474 2185.89 221.64 Q2186.86 220.807 2188.04 217.705 L2188.8 215.761 L2178.32 190.252 L2182.83 190.252 L2190.93 210.529 L2199.03 190.252 L2203.55 190.252 L2192.16 218.585 Z\" fill=\"#000000\" fill-rule=\"evenodd\" fill-opacity=\"1\" /><path clip-path=\"url(#clip600)\" d=\"M2214.06 212.242 L2230.38 212.242 L2230.38 216.178 L2208.43 216.178 L2208.43 212.242 Q2211.09 209.488 2215.68 204.858 Q2220.28 200.205 2221.46 198.863 Q2223.71 196.34 2224.59 194.604 Q2225.49 192.844 2225.49 191.155 Q2225.49 188.4 2223.55 186.664 Q2221.63 184.928 2218.52 184.928 Q2216.33 184.928 2213.87 185.692 Q2211.44 186.455 2208.66 188.006 L2208.66 183.284 Q2211.49 182.15 2213.94 181.571 Q2216.4 180.993 2218.43 180.993 Q2223.8 180.993 2227 183.678 Q2230.19 186.363 2230.19 190.854 Q2230.19 192.983 2229.38 194.905 Q2228.59 196.803 2226.49 199.395 Q2225.91 200.067 2222.81 203.284 Q2219.71 206.479 2214.06 212.242 Z\" fill=\"#000000\" fill-rule=\"evenodd\" fill-opacity=\"1\" /></svg>\n"
      ]
     },
     "execution_count": 31,
     "metadata": {},
     "output_type": "execute_result"
    }
   ],
   "source": [
    "x = 1:10; y = rand(10); # These are the plotting data\n",
    "Plots.plot!(x, y)"
   ]
  },
  {
   "cell_type": "markdown",
   "metadata": {},
   "source": [
    "### Plot Attributes\n",
    "We can style our plots by passing the attributes when plotting the graph. In the following example, we passed the title, label and line width when generating the graph"
   ]
  },
  {
   "cell_type": "code",
   "execution_count": 31,
   "metadata": {
    "collapsed": true
   },
   "outputs": [
    {
     "data": {
      "image/svg+xml": [
       "<?xml version=\"1.0\" encoding=\"utf-8\"?>\n",
       "<svg xmlns=\"http://www.w3.org/2000/svg\" xmlns:xlink=\"http://www.w3.org/1999/xlink\" width=\"600\" height=\"400\" viewBox=\"0 0 2400 1600\">\n",
       "<defs>\n",
       "  <clipPath id=\"clip4100\">\n",
       "    <rect x=\"0\" y=\"0\" width=\"2400\" height=\"1600\"/>\n",
       "  </clipPath>\n",
       "</defs>\n",
       "<path clip-path=\"url(#clip4100)\" d=\"\n",
       "M0 1600 L2400 1600 L2400 0 L0 0  Z\n",
       "  \" fill=\"#ffffff\" fill-rule=\"evenodd\" fill-opacity=\"1\"/>\n",
       "<defs>\n",
       "  <clipPath id=\"clip4101\">\n",
       "    <rect x=\"480\" y=\"0\" width=\"1681\" height=\"1600\"/>\n",
       "  </clipPath>\n",
       "</defs>\n",
       "<path clip-path=\"url(#clip4100)\" d=\"\n",
       "M153.898 1487.47 L2352.76 1487.47 L2352.76 121.675 L153.898 121.675  Z\n",
       "  \" fill=\"#ffffff\" fill-rule=\"evenodd\" fill-opacity=\"1\"/>\n",
       "<defs>\n",
       "  <clipPath id=\"clip4102\">\n",
       "    <rect x=\"153\" y=\"121\" width=\"2200\" height=\"1367\"/>\n",
       "  </clipPath>\n",
       "</defs>\n",
       "<polyline clip-path=\"url(#clip4102)\" style=\"stroke:#000000; stroke-width:2; stroke-opacity:0.1; fill:none\" points=\"\n",
       "  446.618,1487.47 446.618,121.675 \n",
       "  \"/>\n",
       "<polyline clip-path=\"url(#clip4102)\" style=\"stroke:#000000; stroke-width:2; stroke-opacity:0.1; fill:none\" points=\"\n",
       "  907.595,1487.47 907.595,121.675 \n",
       "  \"/>\n",
       "<polyline clip-path=\"url(#clip4102)\" style=\"stroke:#000000; stroke-width:2; stroke-opacity:0.1; fill:none\" points=\"\n",
       "  1368.57,1487.47 1368.57,121.675 \n",
       "  \"/>\n",
       "<polyline clip-path=\"url(#clip4102)\" style=\"stroke:#000000; stroke-width:2; stroke-opacity:0.1; fill:none\" points=\"\n",
       "  1829.55,1487.47 1829.55,121.675 \n",
       "  \"/>\n",
       "<polyline clip-path=\"url(#clip4102)\" style=\"stroke:#000000; stroke-width:2; stroke-opacity:0.1; fill:none\" points=\"\n",
       "  2290.52,1487.47 2290.52,121.675 \n",
       "  \"/>\n",
       "<polyline clip-path=\"url(#clip4102)\" style=\"stroke:#000000; stroke-width:2; stroke-opacity:0.1; fill:none\" points=\"\n",
       "  153.898,1476.44 2352.76,1476.44 \n",
       "  \"/>\n",
       "<polyline clip-path=\"url(#clip4102)\" style=\"stroke:#000000; stroke-width:2; stroke-opacity:0.1; fill:none\" points=\"\n",
       "  153.898,1202.24 2352.76,1202.24 \n",
       "  \"/>\n",
       "<polyline clip-path=\"url(#clip4102)\" style=\"stroke:#000000; stroke-width:2; stroke-opacity:0.1; fill:none\" points=\"\n",
       "  153.898,928.044 2352.76,928.044 \n",
       "  \"/>\n",
       "<polyline clip-path=\"url(#clip4102)\" style=\"stroke:#000000; stroke-width:2; stroke-opacity:0.1; fill:none\" points=\"\n",
       "  153.898,653.847 2352.76,653.847 \n",
       "  \"/>\n",
       "<polyline clip-path=\"url(#clip4102)\" style=\"stroke:#000000; stroke-width:2; stroke-opacity:0.1; fill:none\" points=\"\n",
       "  153.898,379.65 2352.76,379.65 \n",
       "  \"/>\n",
       "<polyline clip-path=\"url(#clip4100)\" style=\"stroke:#000000; stroke-width:4; stroke-opacity:1; fill:none\" points=\"\n",
       "  153.898,1487.47 2352.76,1487.47 \n",
       "  \"/>\n",
       "<polyline clip-path=\"url(#clip4100)\" style=\"stroke:#000000; stroke-width:4; stroke-opacity:1; fill:none\" points=\"\n",
       "  153.898,1487.47 153.898,121.675 \n",
       "  \"/>\n",
       "<polyline clip-path=\"url(#clip4100)\" style=\"stroke:#000000; stroke-width:4; stroke-opacity:1; fill:none\" points=\"\n",
       "  446.618,1487.47 446.618,1471.09 \n",
       "  \"/>\n",
       "<polyline clip-path=\"url(#clip4100)\" style=\"stroke:#000000; stroke-width:4; stroke-opacity:1; fill:none\" points=\"\n",
       "  907.595,1487.47 907.595,1471.09 \n",
       "  \"/>\n",
       "<polyline clip-path=\"url(#clip4100)\" style=\"stroke:#000000; stroke-width:4; stroke-opacity:1; fill:none\" points=\"\n",
       "  1368.57,1487.47 1368.57,1471.09 \n",
       "  \"/>\n",
       "<polyline clip-path=\"url(#clip4100)\" style=\"stroke:#000000; stroke-width:4; stroke-opacity:1; fill:none\" points=\"\n",
       "  1829.55,1487.47 1829.55,1471.09 \n",
       "  \"/>\n",
       "<polyline clip-path=\"url(#clip4100)\" style=\"stroke:#000000; stroke-width:4; stroke-opacity:1; fill:none\" points=\"\n",
       "  2290.52,1487.47 2290.52,1471.09 \n",
       "  \"/>\n",
       "<polyline clip-path=\"url(#clip4100)\" style=\"stroke:#000000; stroke-width:4; stroke-opacity:1; fill:none\" points=\"\n",
       "  153.898,1476.44 180.284,1476.44 \n",
       "  \"/>\n",
       "<polyline clip-path=\"url(#clip4100)\" style=\"stroke:#000000; stroke-width:4; stroke-opacity:1; fill:none\" points=\"\n",
       "  153.898,1202.24 180.284,1202.24 \n",
       "  \"/>\n",
       "<polyline clip-path=\"url(#clip4100)\" style=\"stroke:#000000; stroke-width:4; stroke-opacity:1; fill:none\" points=\"\n",
       "  153.898,928.044 180.284,928.044 \n",
       "  \"/>\n",
       "<polyline clip-path=\"url(#clip4100)\" style=\"stroke:#000000; stroke-width:4; stroke-opacity:1; fill:none\" points=\"\n",
       "  153.898,653.847 180.284,653.847 \n",
       "  \"/>\n",
       "<polyline clip-path=\"url(#clip4100)\" style=\"stroke:#000000; stroke-width:4; stroke-opacity:1; fill:none\" points=\"\n",
       "  153.898,379.65 180.284,379.65 \n",
       "  \"/>\n",
       "<g clip-path=\"url(#clip4100)\">\n",
       "<text style=\"fill:#000000; fill-opacity:1; font-family:Arial,Helvetica Neue,Helvetica,sans-serif; font-size:48px; text-anchor:middle;\" transform=\"rotate(0, 446.618, 1541.47)\" x=\"446.618\" y=\"1541.47\">2</text>\n",
       "</g>\n",
       "<g clip-path=\"url(#clip4100)\">\n",
       "<text style=\"fill:#000000; fill-opacity:1; font-family:Arial,Helvetica Neue,Helvetica,sans-serif; font-size:48px; text-anchor:middle;\" transform=\"rotate(0, 907.595, 1541.47)\" x=\"907.595\" y=\"1541.47\">4</text>\n",
       "</g>\n",
       "<g clip-path=\"url(#clip4100)\">\n",
       "<text style=\"fill:#000000; fill-opacity:1; font-family:Arial,Helvetica Neue,Helvetica,sans-serif; font-size:48px; text-anchor:middle;\" transform=\"rotate(0, 1368.57, 1541.47)\" x=\"1368.57\" y=\"1541.47\">6</text>\n",
       "</g>\n",
       "<g clip-path=\"url(#clip4100)\">\n",
       "<text style=\"fill:#000000; fill-opacity:1; font-family:Arial,Helvetica Neue,Helvetica,sans-serif; font-size:48px; text-anchor:middle;\" transform=\"rotate(0, 1829.55, 1541.47)\" x=\"1829.55\" y=\"1541.47\">8</text>\n",
       "</g>\n",
       "<g clip-path=\"url(#clip4100)\">\n",
       "<text style=\"fill:#000000; fill-opacity:1; font-family:Arial,Helvetica Neue,Helvetica,sans-serif; font-size:48px; text-anchor:middle;\" transform=\"rotate(0, 2290.52, 1541.47)\" x=\"2290.52\" y=\"1541.47\">10</text>\n",
       "</g>\n",
       "<g clip-path=\"url(#clip4100)\">\n",
       "<text style=\"fill:#000000; fill-opacity:1; font-family:Arial,Helvetica Neue,Helvetica,sans-serif; font-size:48px; text-anchor:end;\" transform=\"rotate(0, 129.898, 1493.94)\" x=\"129.898\" y=\"1493.94\">0.0</text>\n",
       "</g>\n",
       "<g clip-path=\"url(#clip4100)\">\n",
       "<text style=\"fill:#000000; fill-opacity:1; font-family:Arial,Helvetica Neue,Helvetica,sans-serif; font-size:48px; text-anchor:end;\" transform=\"rotate(0, 129.898, 1219.74)\" x=\"129.898\" y=\"1219.74\">0.2</text>\n",
       "</g>\n",
       "<g clip-path=\"url(#clip4100)\">\n",
       "<text style=\"fill:#000000; fill-opacity:1; font-family:Arial,Helvetica Neue,Helvetica,sans-serif; font-size:48px; text-anchor:end;\" transform=\"rotate(0, 129.898, 945.544)\" x=\"129.898\" y=\"945.544\">0.4</text>\n",
       "</g>\n",
       "<g clip-path=\"url(#clip4100)\">\n",
       "<text style=\"fill:#000000; fill-opacity:1; font-family:Arial,Helvetica Neue,Helvetica,sans-serif; font-size:48px; text-anchor:end;\" transform=\"rotate(0, 129.898, 671.347)\" x=\"129.898\" y=\"671.347\">0.6</text>\n",
       "</g>\n",
       "<g clip-path=\"url(#clip4100)\">\n",
       "<text style=\"fill:#000000; fill-opacity:1; font-family:Arial,Helvetica Neue,Helvetica,sans-serif; font-size:48px; text-anchor:end;\" transform=\"rotate(0, 129.898, 397.15)\" x=\"129.898\" y=\"397.15\">0.8</text>\n",
       "</g>\n",
       "<g clip-path=\"url(#clip4100)\">\n",
       "<text style=\"fill:#000000; fill-opacity:1; font-family:Arial,Helvetica Neue,Helvetica,sans-serif; font-size:84px; text-anchor:middle;\" transform=\"rotate(0, 1253.33, 73.2)\" x=\"1253.33\" y=\"73.2\">Two Lines</text>\n",
       "</g>\n",
       "<polyline clip-path=\"url(#clip4102)\" style=\"stroke:#009af9; stroke-width:12; stroke-opacity:1; fill:none\" points=\"\n",
       "  216.13,1417.54 446.618,861.711 677.106,1255.19 907.595,323.894 1138.08,1415.52 1368.57,670.759 1599.06,499.2 1829.55,787.549 2060.04,1437.34 2290.52,300.278 \n",
       "  \n",
       "  \"/>\n",
       "<polyline clip-path=\"url(#clip4102)\" style=\"stroke:#e26f46; stroke-width:12; stroke-opacity:1; fill:none\" points=\"\n",
       "  216.13,446.077 446.618,160.33 677.106,763.168 907.595,894.966 1138.08,1309.85 1368.57,443.132 1599.06,1448.82 1829.55,240.7 2060.04,1133.42 2290.52,910.077 \n",
       "  \n",
       "  \"/>\n",
       "<path clip-path=\"url(#clip4100)\" d=\"\n",
       "M1909.64 386.635 L2280.76 386.635 L2280.76 205.195 L1909.64 205.195  Z\n",
       "  \" fill=\"#ffffff\" fill-rule=\"evenodd\" fill-opacity=\"1\"/>\n",
       "<polyline clip-path=\"url(#clip4100)\" style=\"stroke:#000000; stroke-width:4; stroke-opacity:1; fill:none\" points=\"\n",
       "  1909.64,386.635 2280.76,386.635 2280.76,205.195 1909.64,205.195 1909.64,386.635 \n",
       "  \"/>\n",
       "<polyline clip-path=\"url(#clip4100)\" style=\"stroke:#009af9; stroke-width:12; stroke-opacity:1; fill:none\" points=\"\n",
       "  1933.64,265.675 2077.64,265.675 \n",
       "  \"/>\n",
       "<g clip-path=\"url(#clip4100)\">\n",
       "<text style=\"fill:#000000; fill-opacity:1; font-family:Arial,Helvetica Neue,Helvetica,sans-serif; font-size:48px; text-anchor:start;\" transform=\"rotate(0, 2101.64, 283.175)\" x=\"2101.64\" y=\"283.175\">Line 1</text>\n",
       "</g>\n",
       "<polyline clip-path=\"url(#clip4100)\" style=\"stroke:#e26f46; stroke-width:12; stroke-opacity:1; fill:none\" points=\"\n",
       "  1933.64,326.155 2077.64,326.155 \n",
       "  \"/>\n",
       "<g clip-path=\"url(#clip4100)\">\n",
       "<text style=\"fill:#000000; fill-opacity:1; font-family:Arial,Helvetica Neue,Helvetica,sans-serif; font-size:48px; text-anchor:start;\" transform=\"rotate(0, 2101.64, 343.655)\" x=\"2101.64\" y=\"343.655\">Line 2</text>\n",
       "</g>\n",
       "</svg>\n"
      ]
     },
     "execution_count": 31,
     "metadata": {},
     "output_type": "execute_result"
    }
   ],
   "source": [
    "x = 1:10; y = rand(10, 2) # 2 columns means two lines\n",
    "Plots.plot(x, y, title = \"Two Lines\", label = [\"Line 1\" \"Line 2\"], lw = 3)"
   ]
  },
  {
   "cell_type": "markdown",
   "metadata": {},
   "source": [
    "and you can add the x,y label by the xlabel!() and ylabel!() function"
   ]
  },
  {
   "cell_type": "code",
   "execution_count": 32,
   "metadata": {
    "collapsed": true
   },
   "outputs": [
    {
     "data": {
      "image/svg+xml": [
       "<?xml version=\"1.0\" encoding=\"utf-8\"?>\n",
       "<svg xmlns=\"http://www.w3.org/2000/svg\" xmlns:xlink=\"http://www.w3.org/1999/xlink\" width=\"600\" height=\"400\" viewBox=\"0 0 2400 1600\">\n",
       "<defs>\n",
       "  <clipPath id=\"clip4500\">\n",
       "    <rect x=\"0\" y=\"0\" width=\"2400\" height=\"1600\"/>\n",
       "  </clipPath>\n",
       "</defs>\n",
       "<path clip-path=\"url(#clip4500)\" d=\"\n",
       "M0 1600 L2400 1600 L2400 0 L0 0  Z\n",
       "  \" fill=\"#ffffff\" fill-rule=\"evenodd\" fill-opacity=\"1\"/>\n",
       "<defs>\n",
       "  <clipPath id=\"clip4501\">\n",
       "    <rect x=\"480\" y=\"0\" width=\"1681\" height=\"1600\"/>\n",
       "  </clipPath>\n",
       "</defs>\n",
       "<path clip-path=\"url(#clip4500)\" d=\"\n",
       "M153.898 1425.62 L2352.76 1425.62 L2352.76 121.675 L153.898 121.675  Z\n",
       "  \" fill=\"#ffffff\" fill-rule=\"evenodd\" fill-opacity=\"1\"/>\n",
       "<defs>\n",
       "  <clipPath id=\"clip4502\">\n",
       "    <rect x=\"153\" y=\"121\" width=\"2200\" height=\"1305\"/>\n",
       "  </clipPath>\n",
       "</defs>\n",
       "<polyline clip-path=\"url(#clip4502)\" style=\"stroke:#000000; stroke-width:2; stroke-opacity:0.1; fill:none\" points=\"\n",
       "  446.618,1425.62 446.618,121.675 \n",
       "  \"/>\n",
       "<polyline clip-path=\"url(#clip4502)\" style=\"stroke:#000000; stroke-width:2; stroke-opacity:0.1; fill:none\" points=\"\n",
       "  907.595,1425.62 907.595,121.675 \n",
       "  \"/>\n",
       "<polyline clip-path=\"url(#clip4502)\" style=\"stroke:#000000; stroke-width:2; stroke-opacity:0.1; fill:none\" points=\"\n",
       "  1368.57,1425.62 1368.57,121.675 \n",
       "  \"/>\n",
       "<polyline clip-path=\"url(#clip4502)\" style=\"stroke:#000000; stroke-width:2; stroke-opacity:0.1; fill:none\" points=\"\n",
       "  1829.55,1425.62 1829.55,121.675 \n",
       "  \"/>\n",
       "<polyline clip-path=\"url(#clip4502)\" style=\"stroke:#000000; stroke-width:2; stroke-opacity:0.1; fill:none\" points=\"\n",
       "  2290.52,1425.62 2290.52,121.675 \n",
       "  \"/>\n",
       "<polyline clip-path=\"url(#clip4502)\" style=\"stroke:#000000; stroke-width:2; stroke-opacity:0.1; fill:none\" points=\"\n",
       "  153.898,1415.08 2352.76,1415.08 \n",
       "  \"/>\n",
       "<polyline clip-path=\"url(#clip4502)\" style=\"stroke:#000000; stroke-width:2; stroke-opacity:0.1; fill:none\" points=\"\n",
       "  153.898,1153.3 2352.76,1153.3 \n",
       "  \"/>\n",
       "<polyline clip-path=\"url(#clip4502)\" style=\"stroke:#000000; stroke-width:2; stroke-opacity:0.1; fill:none\" points=\"\n",
       "  153.898,891.524 2352.76,891.524 \n",
       "  \"/>\n",
       "<polyline clip-path=\"url(#clip4502)\" style=\"stroke:#000000; stroke-width:2; stroke-opacity:0.1; fill:none\" points=\"\n",
       "  153.898,629.745 2352.76,629.745 \n",
       "  \"/>\n",
       "<polyline clip-path=\"url(#clip4502)\" style=\"stroke:#000000; stroke-width:2; stroke-opacity:0.1; fill:none\" points=\"\n",
       "  153.898,367.967 2352.76,367.967 \n",
       "  \"/>\n",
       "<polyline clip-path=\"url(#clip4500)\" style=\"stroke:#000000; stroke-width:4; stroke-opacity:1; fill:none\" points=\"\n",
       "  153.898,1425.62 2352.76,1425.62 \n",
       "  \"/>\n",
       "<polyline clip-path=\"url(#clip4500)\" style=\"stroke:#000000; stroke-width:4; stroke-opacity:1; fill:none\" points=\"\n",
       "  153.898,1425.62 153.898,121.675 \n",
       "  \"/>\n",
       "<polyline clip-path=\"url(#clip4500)\" style=\"stroke:#000000; stroke-width:4; stroke-opacity:1; fill:none\" points=\"\n",
       "  446.618,1425.62 446.618,1409.97 \n",
       "  \"/>\n",
       "<polyline clip-path=\"url(#clip4500)\" style=\"stroke:#000000; stroke-width:4; stroke-opacity:1; fill:none\" points=\"\n",
       "  907.595,1425.62 907.595,1409.97 \n",
       "  \"/>\n",
       "<polyline clip-path=\"url(#clip4500)\" style=\"stroke:#000000; stroke-width:4; stroke-opacity:1; fill:none\" points=\"\n",
       "  1368.57,1425.62 1368.57,1409.97 \n",
       "  \"/>\n",
       "<polyline clip-path=\"url(#clip4500)\" style=\"stroke:#000000; stroke-width:4; stroke-opacity:1; fill:none\" points=\"\n",
       "  1829.55,1425.62 1829.55,1409.97 \n",
       "  \"/>\n",
       "<polyline clip-path=\"url(#clip4500)\" style=\"stroke:#000000; stroke-width:4; stroke-opacity:1; fill:none\" points=\"\n",
       "  2290.52,1425.62 2290.52,1409.97 \n",
       "  \"/>\n",
       "<polyline clip-path=\"url(#clip4500)\" style=\"stroke:#000000; stroke-width:4; stroke-opacity:1; fill:none\" points=\"\n",
       "  153.898,1415.08 180.284,1415.08 \n",
       "  \"/>\n",
       "<polyline clip-path=\"url(#clip4500)\" style=\"stroke:#000000; stroke-width:4; stroke-opacity:1; fill:none\" points=\"\n",
       "  153.898,1153.3 180.284,1153.3 \n",
       "  \"/>\n",
       "<polyline clip-path=\"url(#clip4500)\" style=\"stroke:#000000; stroke-width:4; stroke-opacity:1; fill:none\" points=\"\n",
       "  153.898,891.524 180.284,891.524 \n",
       "  \"/>\n",
       "<polyline clip-path=\"url(#clip4500)\" style=\"stroke:#000000; stroke-width:4; stroke-opacity:1; fill:none\" points=\"\n",
       "  153.898,629.745 180.284,629.745 \n",
       "  \"/>\n",
       "<polyline clip-path=\"url(#clip4500)\" style=\"stroke:#000000; stroke-width:4; stroke-opacity:1; fill:none\" points=\"\n",
       "  153.898,367.967 180.284,367.967 \n",
       "  \"/>\n",
       "<g clip-path=\"url(#clip4500)\">\n",
       "<text style=\"fill:#000000; fill-opacity:1; font-family:Arial,Helvetica Neue,Helvetica,sans-serif; font-size:48px; text-anchor:middle;\" transform=\"rotate(0, 446.618, 1479.62)\" x=\"446.618\" y=\"1479.62\">2</text>\n",
       "</g>\n",
       "<g clip-path=\"url(#clip4500)\">\n",
       "<text style=\"fill:#000000; fill-opacity:1; font-family:Arial,Helvetica Neue,Helvetica,sans-serif; font-size:48px; text-anchor:middle;\" transform=\"rotate(0, 907.595, 1479.62)\" x=\"907.595\" y=\"1479.62\">4</text>\n",
       "</g>\n",
       "<g clip-path=\"url(#clip4500)\">\n",
       "<text style=\"fill:#000000; fill-opacity:1; font-family:Arial,Helvetica Neue,Helvetica,sans-serif; font-size:48px; text-anchor:middle;\" transform=\"rotate(0, 1368.57, 1479.62)\" x=\"1368.57\" y=\"1479.62\">6</text>\n",
       "</g>\n",
       "<g clip-path=\"url(#clip4500)\">\n",
       "<text style=\"fill:#000000; fill-opacity:1; font-family:Arial,Helvetica Neue,Helvetica,sans-serif; font-size:48px; text-anchor:middle;\" transform=\"rotate(0, 1829.55, 1479.62)\" x=\"1829.55\" y=\"1479.62\">8</text>\n",
       "</g>\n",
       "<g clip-path=\"url(#clip4500)\">\n",
       "<text style=\"fill:#000000; fill-opacity:1; font-family:Arial,Helvetica Neue,Helvetica,sans-serif; font-size:48px; text-anchor:middle;\" transform=\"rotate(0, 2290.52, 1479.62)\" x=\"2290.52\" y=\"1479.62\">10</text>\n",
       "</g>\n",
       "<g clip-path=\"url(#clip4500)\">\n",
       "<text style=\"fill:#000000; fill-opacity:1; font-family:Arial,Helvetica Neue,Helvetica,sans-serif; font-size:48px; text-anchor:end;\" transform=\"rotate(0, 129.898, 1432.58)\" x=\"129.898\" y=\"1432.58\">0.0</text>\n",
       "</g>\n",
       "<g clip-path=\"url(#clip4500)\">\n",
       "<text style=\"fill:#000000; fill-opacity:1; font-family:Arial,Helvetica Neue,Helvetica,sans-serif; font-size:48px; text-anchor:end;\" transform=\"rotate(0, 129.898, 1170.8)\" x=\"129.898\" y=\"1170.8\">0.2</text>\n",
       "</g>\n",
       "<g clip-path=\"url(#clip4500)\">\n",
       "<text style=\"fill:#000000; fill-opacity:1; font-family:Arial,Helvetica Neue,Helvetica,sans-serif; font-size:48px; text-anchor:end;\" transform=\"rotate(0, 129.898, 909.024)\" x=\"129.898\" y=\"909.024\">0.4</text>\n",
       "</g>\n",
       "<g clip-path=\"url(#clip4500)\">\n",
       "<text style=\"fill:#000000; fill-opacity:1; font-family:Arial,Helvetica Neue,Helvetica,sans-serif; font-size:48px; text-anchor:end;\" transform=\"rotate(0, 129.898, 647.245)\" x=\"129.898\" y=\"647.245\">0.6</text>\n",
       "</g>\n",
       "<g clip-path=\"url(#clip4500)\">\n",
       "<text style=\"fill:#000000; fill-opacity:1; font-family:Arial,Helvetica Neue,Helvetica,sans-serif; font-size:48px; text-anchor:end;\" transform=\"rotate(0, 129.898, 385.467)\" x=\"129.898\" y=\"385.467\">0.8</text>\n",
       "</g>\n",
       "<g clip-path=\"url(#clip4500)\">\n",
       "<text style=\"fill:#000000; fill-opacity:1; font-family:Arial,Helvetica Neue,Helvetica,sans-serif; font-size:84px; text-anchor:middle;\" transform=\"rotate(0, 1253.33, 73.2)\" x=\"1253.33\" y=\"73.2\">Two Lines</text>\n",
       "</g>\n",
       "<g clip-path=\"url(#clip4500)\">\n",
       "<text style=\"fill:#000000; fill-opacity:1; font-family:Arial,Helvetica Neue,Helvetica,sans-serif; font-size:66px; text-anchor:middle;\" transform=\"rotate(0, 1253.33, 1559.48)\" x=\"1253.33\" y=\"1559.48\">x label</text>\n",
       "</g>\n",
       "<polyline clip-path=\"url(#clip4502)\" style=\"stroke:#009af9; stroke-width:12; stroke-opacity:1; fill:none\" points=\"\n",
       "  216.13,1358.85 446.618,828.195 677.106,1203.85 907.595,314.735 1138.08,1356.93 1368.57,645.891 1599.06,482.102 1829.55,757.392 2060.04,1377.75 2290.52,292.19 \n",
       "  \n",
       "  \"/>\n",
       "<polyline clip-path=\"url(#clip4502)\" style=\"stroke:#e26f46; stroke-width:12; stroke-opacity:1; fill:none\" points=\"\n",
       "  216.13,431.385 446.618,158.579 677.106,734.115 907.595,859.944 1138.08,1256.04 1368.57,428.573 1599.06,1388.71 1829.55,235.31 2060.04,1087.6 2290.52,874.371 \n",
       "  \n",
       "  \"/>\n",
       "<path clip-path=\"url(#clip4500)\" d=\"\n",
       "M1909.64 386.635 L2280.76 386.635 L2280.76 205.195 L1909.64 205.195  Z\n",
       "  \" fill=\"#ffffff\" fill-rule=\"evenodd\" fill-opacity=\"1\"/>\n",
       "<polyline clip-path=\"url(#clip4500)\" style=\"stroke:#000000; stroke-width:4; stroke-opacity:1; fill:none\" points=\"\n",
       "  1909.64,386.635 2280.76,386.635 2280.76,205.195 1909.64,205.195 1909.64,386.635 \n",
       "  \"/>\n",
       "<polyline clip-path=\"url(#clip4500)\" style=\"stroke:#009af9; stroke-width:12; stroke-opacity:1; fill:none\" points=\"\n",
       "  1933.64,265.675 2077.64,265.675 \n",
       "  \"/>\n",
       "<g clip-path=\"url(#clip4500)\">\n",
       "<text style=\"fill:#000000; fill-opacity:1; font-family:Arial,Helvetica Neue,Helvetica,sans-serif; font-size:48px; text-anchor:start;\" transform=\"rotate(0, 2101.64, 283.175)\" x=\"2101.64\" y=\"283.175\">Line 1</text>\n",
       "</g>\n",
       "<polyline clip-path=\"url(#clip4500)\" style=\"stroke:#e26f46; stroke-width:12; stroke-opacity:1; fill:none\" points=\"\n",
       "  1933.64,326.155 2077.64,326.155 \n",
       "  \"/>\n",
       "<g clip-path=\"url(#clip4500)\">\n",
       "<text style=\"fill:#000000; fill-opacity:1; font-family:Arial,Helvetica Neue,Helvetica,sans-serif; font-size:48px; text-anchor:start;\" transform=\"rotate(0, 2101.64, 343.655)\" x=\"2101.64\" y=\"343.655\">Line 2</text>\n",
       "</g>\n",
       "</svg>\n"
      ]
     },
     "execution_count": 32,
     "metadata": {},
     "output_type": "execute_result"
    }
   ],
   "source": [
    "Plots.xlabel!(\"x label\")"
   ]
  },
  {
   "cell_type": "code",
   "execution_count": 33,
   "metadata": {},
   "outputs": [
    {
     "data": {
      "image/svg+xml": [
       "<?xml version=\"1.0\" encoding=\"utf-8\"?>\n",
       "<svg xmlns=\"http://www.w3.org/2000/svg\" xmlns:xlink=\"http://www.w3.org/1999/xlink\" width=\"600\" height=\"400\" viewBox=\"0 0 2400 1600\">\n",
       "<defs>\n",
       "  <clipPath id=\"clip4900\">\n",
       "    <rect x=\"0\" y=\"0\" width=\"2400\" height=\"1600\"/>\n",
       "  </clipPath>\n",
       "</defs>\n",
       "<path clip-path=\"url(#clip4900)\" d=\"\n",
       "M0 1600 L2400 1600 L2400 0 L0 0  Z\n",
       "  \" fill=\"#ffffff\" fill-rule=\"evenodd\" fill-opacity=\"1\"/>\n",
       "<defs>\n",
       "  <clipPath id=\"clip4901\">\n",
       "    <rect x=\"480\" y=\"0\" width=\"1681\" height=\"1600\"/>\n",
       "  </clipPath>\n",
       "</defs>\n",
       "<path clip-path=\"url(#clip4900)\" d=\"\n",
       "M215.754 1425.62 L2352.76 1425.62 L2352.76 121.675 L215.754 121.675  Z\n",
       "  \" fill=\"#ffffff\" fill-rule=\"evenodd\" fill-opacity=\"1\"/>\n",
       "<defs>\n",
       "  <clipPath id=\"clip4902\">\n",
       "    <rect x=\"215\" y=\"121\" width=\"2138\" height=\"1305\"/>\n",
       "  </clipPath>\n",
       "</defs>\n",
       "<polyline clip-path=\"url(#clip4902)\" style=\"stroke:#000000; stroke-width:2; stroke-opacity:0.1; fill:none\" points=\"\n",
       "  500.24,1425.62 500.24,121.675 \n",
       "  \"/>\n",
       "<polyline clip-path=\"url(#clip4902)\" style=\"stroke:#000000; stroke-width:2; stroke-opacity:0.1; fill:none\" points=\"\n",
       "  948.248,1425.62 948.248,121.675 \n",
       "  \"/>\n",
       "<polyline clip-path=\"url(#clip4902)\" style=\"stroke:#000000; stroke-width:2; stroke-opacity:0.1; fill:none\" points=\"\n",
       "  1396.26,1425.62 1396.26,121.675 \n",
       "  \"/>\n",
       "<polyline clip-path=\"url(#clip4902)\" style=\"stroke:#000000; stroke-width:2; stroke-opacity:0.1; fill:none\" points=\"\n",
       "  1844.27,1425.62 1844.27,121.675 \n",
       "  \"/>\n",
       "<polyline clip-path=\"url(#clip4902)\" style=\"stroke:#000000; stroke-width:2; stroke-opacity:0.1; fill:none\" points=\"\n",
       "  2292.27,1425.62 2292.27,121.675 \n",
       "  \"/>\n",
       "<polyline clip-path=\"url(#clip4902)\" style=\"stroke:#000000; stroke-width:2; stroke-opacity:0.1; fill:none\" points=\"\n",
       "  215.754,1415.08 2352.76,1415.08 \n",
       "  \"/>\n",
       "<polyline clip-path=\"url(#clip4902)\" style=\"stroke:#000000; stroke-width:2; stroke-opacity:0.1; fill:none\" points=\"\n",
       "  215.754,1153.3 2352.76,1153.3 \n",
       "  \"/>\n",
       "<polyline clip-path=\"url(#clip4902)\" style=\"stroke:#000000; stroke-width:2; stroke-opacity:0.1; fill:none\" points=\"\n",
       "  215.754,891.524 2352.76,891.524 \n",
       "  \"/>\n",
       "<polyline clip-path=\"url(#clip4902)\" style=\"stroke:#000000; stroke-width:2; stroke-opacity:0.1; fill:none\" points=\"\n",
       "  215.754,629.745 2352.76,629.745 \n",
       "  \"/>\n",
       "<polyline clip-path=\"url(#clip4902)\" style=\"stroke:#000000; stroke-width:2; stroke-opacity:0.1; fill:none\" points=\"\n",
       "  215.754,367.967 2352.76,367.967 \n",
       "  \"/>\n",
       "<polyline clip-path=\"url(#clip4900)\" style=\"stroke:#000000; stroke-width:4; stroke-opacity:1; fill:none\" points=\"\n",
       "  215.754,1425.62 2352.76,1425.62 \n",
       "  \"/>\n",
       "<polyline clip-path=\"url(#clip4900)\" style=\"stroke:#000000; stroke-width:4; stroke-opacity:1; fill:none\" points=\"\n",
       "  215.754,1425.62 215.754,121.675 \n",
       "  \"/>\n",
       "<polyline clip-path=\"url(#clip4900)\" style=\"stroke:#000000; stroke-width:4; stroke-opacity:1; fill:none\" points=\"\n",
       "  500.24,1425.62 500.24,1409.97 \n",
       "  \"/>\n",
       "<polyline clip-path=\"url(#clip4900)\" style=\"stroke:#000000; stroke-width:4; stroke-opacity:1; fill:none\" points=\"\n",
       "  948.248,1425.62 948.248,1409.97 \n",
       "  \"/>\n",
       "<polyline clip-path=\"url(#clip4900)\" style=\"stroke:#000000; stroke-width:4; stroke-opacity:1; fill:none\" points=\"\n",
       "  1396.26,1425.62 1396.26,1409.97 \n",
       "  \"/>\n",
       "<polyline clip-path=\"url(#clip4900)\" style=\"stroke:#000000; stroke-width:4; stroke-opacity:1; fill:none\" points=\"\n",
       "  1844.27,1425.62 1844.27,1409.97 \n",
       "  \"/>\n",
       "<polyline clip-path=\"url(#clip4900)\" style=\"stroke:#000000; stroke-width:4; stroke-opacity:1; fill:none\" points=\"\n",
       "  2292.27,1425.62 2292.27,1409.97 \n",
       "  \"/>\n",
       "<polyline clip-path=\"url(#clip4900)\" style=\"stroke:#000000; stroke-width:4; stroke-opacity:1; fill:none\" points=\"\n",
       "  215.754,1415.08 241.398,1415.08 \n",
       "  \"/>\n",
       "<polyline clip-path=\"url(#clip4900)\" style=\"stroke:#000000; stroke-width:4; stroke-opacity:1; fill:none\" points=\"\n",
       "  215.754,1153.3 241.398,1153.3 \n",
       "  \"/>\n",
       "<polyline clip-path=\"url(#clip4900)\" style=\"stroke:#000000; stroke-width:4; stroke-opacity:1; fill:none\" points=\"\n",
       "  215.754,891.524 241.398,891.524 \n",
       "  \"/>\n",
       "<polyline clip-path=\"url(#clip4900)\" style=\"stroke:#000000; stroke-width:4; stroke-opacity:1; fill:none\" points=\"\n",
       "  215.754,629.745 241.398,629.745 \n",
       "  \"/>\n",
       "<polyline clip-path=\"url(#clip4900)\" style=\"stroke:#000000; stroke-width:4; stroke-opacity:1; fill:none\" points=\"\n",
       "  215.754,367.967 241.398,367.967 \n",
       "  \"/>\n",
       "<g clip-path=\"url(#clip4900)\">\n",
       "<text style=\"fill:#000000; fill-opacity:1; font-family:Arial,Helvetica Neue,Helvetica,sans-serif; font-size:48px; text-anchor:middle;\" transform=\"rotate(0, 500.24, 1479.62)\" x=\"500.24\" y=\"1479.62\">2</text>\n",
       "</g>\n",
       "<g clip-path=\"url(#clip4900)\">\n",
       "<text style=\"fill:#000000; fill-opacity:1; font-family:Arial,Helvetica Neue,Helvetica,sans-serif; font-size:48px; text-anchor:middle;\" transform=\"rotate(0, 948.248, 1479.62)\" x=\"948.248\" y=\"1479.62\">4</text>\n",
       "</g>\n",
       "<g clip-path=\"url(#clip4900)\">\n",
       "<text style=\"fill:#000000; fill-opacity:1; font-family:Arial,Helvetica Neue,Helvetica,sans-serif; font-size:48px; text-anchor:middle;\" transform=\"rotate(0, 1396.26, 1479.62)\" x=\"1396.26\" y=\"1479.62\">6</text>\n",
       "</g>\n",
       "<g clip-path=\"url(#clip4900)\">\n",
       "<text style=\"fill:#000000; fill-opacity:1; font-family:Arial,Helvetica Neue,Helvetica,sans-serif; font-size:48px; text-anchor:middle;\" transform=\"rotate(0, 1844.27, 1479.62)\" x=\"1844.27\" y=\"1479.62\">8</text>\n",
       "</g>\n",
       "<g clip-path=\"url(#clip4900)\">\n",
       "<text style=\"fill:#000000; fill-opacity:1; font-family:Arial,Helvetica Neue,Helvetica,sans-serif; font-size:48px; text-anchor:middle;\" transform=\"rotate(0, 2292.27, 1479.62)\" x=\"2292.27\" y=\"1479.62\">10</text>\n",
       "</g>\n",
       "<g clip-path=\"url(#clip4900)\">\n",
       "<text style=\"fill:#000000; fill-opacity:1; font-family:Arial,Helvetica Neue,Helvetica,sans-serif; font-size:48px; text-anchor:end;\" transform=\"rotate(0, 191.754, 1432.58)\" x=\"191.754\" y=\"1432.58\">0.0</text>\n",
       "</g>\n",
       "<g clip-path=\"url(#clip4900)\">\n",
       "<text style=\"fill:#000000; fill-opacity:1; font-family:Arial,Helvetica Neue,Helvetica,sans-serif; font-size:48px; text-anchor:end;\" transform=\"rotate(0, 191.754, 1170.8)\" x=\"191.754\" y=\"1170.8\">0.2</text>\n",
       "</g>\n",
       "<g clip-path=\"url(#clip4900)\">\n",
       "<text style=\"fill:#000000; fill-opacity:1; font-family:Arial,Helvetica Neue,Helvetica,sans-serif; font-size:48px; text-anchor:end;\" transform=\"rotate(0, 191.754, 909.024)\" x=\"191.754\" y=\"909.024\">0.4</text>\n",
       "</g>\n",
       "<g clip-path=\"url(#clip4900)\">\n",
       "<text style=\"fill:#000000; fill-opacity:1; font-family:Arial,Helvetica Neue,Helvetica,sans-serif; font-size:48px; text-anchor:end;\" transform=\"rotate(0, 191.754, 647.245)\" x=\"191.754\" y=\"647.245\">0.6</text>\n",
       "</g>\n",
       "<g clip-path=\"url(#clip4900)\">\n",
       "<text style=\"fill:#000000; fill-opacity:1; font-family:Arial,Helvetica Neue,Helvetica,sans-serif; font-size:48px; text-anchor:end;\" transform=\"rotate(0, 191.754, 385.467)\" x=\"191.754\" y=\"385.467\">0.8</text>\n",
       "</g>\n",
       "<g clip-path=\"url(#clip4900)\">\n",
       "<text style=\"fill:#000000; fill-opacity:1; font-family:Arial,Helvetica Neue,Helvetica,sans-serif; font-size:84px; text-anchor:middle;\" transform=\"rotate(0, 1284.25, 73.2)\" x=\"1284.25\" y=\"73.2\">Two Lines</text>\n",
       "</g>\n",
       "<g clip-path=\"url(#clip4900)\">\n",
       "<text style=\"fill:#000000; fill-opacity:1; font-family:Arial,Helvetica Neue,Helvetica,sans-serif; font-size:66px; text-anchor:middle;\" transform=\"rotate(0, 1284.25, 1559.48)\" x=\"1284.25\" y=\"1559.48\">x label</text>\n",
       "</g>\n",
       "<g clip-path=\"url(#clip4900)\">\n",
       "<text style=\"fill:#000000; fill-opacity:1; font-family:Arial,Helvetica Neue,Helvetica,sans-serif; font-size:66px; text-anchor:middle;\" transform=\"rotate(-90, 89.2861, 773.647)\" x=\"89.2861\" y=\"773.647\">y label</text>\n",
       "</g>\n",
       "<polyline clip-path=\"url(#clip4902)\" style=\"stroke:#009af9; stroke-width:12; stroke-opacity:1; fill:none\" points=\"\n",
       "  276.235,1358.85 500.24,828.195 724.244,1203.85 948.248,314.735 1172.25,1356.93 1396.26,645.891 1620.26,482.102 1844.27,757.392 2068.27,1377.75 2292.27,292.19 \n",
       "  \n",
       "  \"/>\n",
       "<polyline clip-path=\"url(#clip4902)\" style=\"stroke:#e26f46; stroke-width:12; stroke-opacity:1; fill:none\" points=\"\n",
       "  276.235,431.385 500.24,158.579 724.244,734.115 948.248,859.944 1172.25,1256.04 1396.26,428.573 1620.26,1388.71 1844.27,235.31 2068.27,1087.6 2292.27,874.371 \n",
       "  \n",
       "  \"/>\n",
       "<path clip-path=\"url(#clip4900)\" d=\"\n",
       "M1909.64 386.635 L2280.76 386.635 L2280.76 205.195 L1909.64 205.195  Z\n",
       "  \" fill=\"#ffffff\" fill-rule=\"evenodd\" fill-opacity=\"1\"/>\n",
       "<polyline clip-path=\"url(#clip4900)\" style=\"stroke:#000000; stroke-width:4; stroke-opacity:1; fill:none\" points=\"\n",
       "  1909.64,386.635 2280.76,386.635 2280.76,205.195 1909.64,205.195 1909.64,386.635 \n",
       "  \"/>\n",
       "<polyline clip-path=\"url(#clip4900)\" style=\"stroke:#009af9; stroke-width:12; stroke-opacity:1; fill:none\" points=\"\n",
       "  1933.64,265.675 2077.64,265.675 \n",
       "  \"/>\n",
       "<g clip-path=\"url(#clip4900)\">\n",
       "<text style=\"fill:#000000; fill-opacity:1; font-family:Arial,Helvetica Neue,Helvetica,sans-serif; font-size:48px; text-anchor:start;\" transform=\"rotate(0, 2101.64, 283.175)\" x=\"2101.64\" y=\"283.175\">Line 1</text>\n",
       "</g>\n",
       "<polyline clip-path=\"url(#clip4900)\" style=\"stroke:#e26f46; stroke-width:12; stroke-opacity:1; fill:none\" points=\"\n",
       "  1933.64,326.155 2077.64,326.155 \n",
       "  \"/>\n",
       "<g clip-path=\"url(#clip4900)\">\n",
       "<text style=\"fill:#000000; fill-opacity:1; font-family:Arial,Helvetica Neue,Helvetica,sans-serif; font-size:48px; text-anchor:start;\" transform=\"rotate(0, 2101.64, 343.655)\" x=\"2101.64\" y=\"343.655\">Line 2</text>\n",
       "</g>\n",
       "</svg>\n"
      ]
     },
     "execution_count": 33,
     "metadata": {},
     "output_type": "execute_result"
    }
   ],
   "source": [
    "Plots.ylabel!(\"y label\")"
   ]
  },
  {
   "cell_type": "markdown",
   "metadata": {},
   "source": [
    "### Changing the Plotting Series\n",
    "A scatter plot is another series type which is commonly used\n",
    "\n",
    "You can plot the line plots on the scatter plot"
   ]
  },
  {
   "cell_type": "code",
   "execution_count": 34,
   "metadata": {},
   "outputs": [
    {
     "data": {
      "image/svg+xml": [
       "<?xml version=\"1.0\" encoding=\"utf-8\"?>\n",
       "<svg xmlns=\"http://www.w3.org/2000/svg\" xmlns:xlink=\"http://www.w3.org/1999/xlink\" width=\"600\" height=\"400\" viewBox=\"0 0 2400 1600\">\n",
       "<defs>\n",
       "  <clipPath id=\"clip5300\">\n",
       "    <rect x=\"0\" y=\"0\" width=\"2400\" height=\"1600\"/>\n",
       "  </clipPath>\n",
       "</defs>\n",
       "<path clip-path=\"url(#clip5300)\" d=\"\n",
       "M0 1600 L2400 1600 L2400 0 L0 0  Z\n",
       "  \" fill=\"#ffffff\" fill-rule=\"evenodd\" fill-opacity=\"1\"/>\n",
       "<defs>\n",
       "  <clipPath id=\"clip5301\">\n",
       "    <rect x=\"480\" y=\"0\" width=\"1681\" height=\"1600\"/>\n",
       "  </clipPath>\n",
       "</defs>\n",
       "<path clip-path=\"url(#clip5300)\" d=\"\n",
       "M153.898 1487.47 L2352.76 1487.47 L2352.76 121.675 L153.898 121.675  Z\n",
       "  \" fill=\"#ffffff\" fill-rule=\"evenodd\" fill-opacity=\"1\"/>\n",
       "<defs>\n",
       "  <clipPath id=\"clip5302\">\n",
       "    <rect x=\"153\" y=\"121\" width=\"2200\" height=\"1367\"/>\n",
       "  </clipPath>\n",
       "</defs>\n",
       "<polyline clip-path=\"url(#clip5302)\" style=\"stroke:#000000; stroke-width:2; stroke-opacity:0.1; fill:none\" points=\"\n",
       "  446.618,1487.47 446.618,121.675 \n",
       "  \"/>\n",
       "<polyline clip-path=\"url(#clip5302)\" style=\"stroke:#000000; stroke-width:2; stroke-opacity:0.1; fill:none\" points=\"\n",
       "  907.595,1487.47 907.595,121.675 \n",
       "  \"/>\n",
       "<polyline clip-path=\"url(#clip5302)\" style=\"stroke:#000000; stroke-width:2; stroke-opacity:0.1; fill:none\" points=\"\n",
       "  1368.57,1487.47 1368.57,121.675 \n",
       "  \"/>\n",
       "<polyline clip-path=\"url(#clip5302)\" style=\"stroke:#000000; stroke-width:2; stroke-opacity:0.1; fill:none\" points=\"\n",
       "  1829.55,1487.47 1829.55,121.675 \n",
       "  \"/>\n",
       "<polyline clip-path=\"url(#clip5302)\" style=\"stroke:#000000; stroke-width:2; stroke-opacity:0.1; fill:none\" points=\"\n",
       "  2290.52,1487.47 2290.52,121.675 \n",
       "  \"/>\n",
       "<polyline clip-path=\"url(#clip5302)\" style=\"stroke:#000000; stroke-width:2; stroke-opacity:0.1; fill:none\" points=\"\n",
       "  153.898,1259.28 2352.76,1259.28 \n",
       "  \"/>\n",
       "<polyline clip-path=\"url(#clip5302)\" style=\"stroke:#000000; stroke-width:2; stroke-opacity:0.1; fill:none\" points=\"\n",
       "  153.898,983.354 2352.76,983.354 \n",
       "  \"/>\n",
       "<polyline clip-path=\"url(#clip5302)\" style=\"stroke:#000000; stroke-width:2; stroke-opacity:0.1; fill:none\" points=\"\n",
       "  153.898,707.424 2352.76,707.424 \n",
       "  \"/>\n",
       "<polyline clip-path=\"url(#clip5302)\" style=\"stroke:#000000; stroke-width:2; stroke-opacity:0.1; fill:none\" points=\"\n",
       "  153.898,431.494 2352.76,431.494 \n",
       "  \"/>\n",
       "<polyline clip-path=\"url(#clip5302)\" style=\"stroke:#000000; stroke-width:2; stroke-opacity:0.1; fill:none\" points=\"\n",
       "  153.898,155.564 2352.76,155.564 \n",
       "  \"/>\n",
       "<polyline clip-path=\"url(#clip5300)\" style=\"stroke:#000000; stroke-width:4; stroke-opacity:1; fill:none\" points=\"\n",
       "  153.898,1487.47 2352.76,1487.47 \n",
       "  \"/>\n",
       "<polyline clip-path=\"url(#clip5300)\" style=\"stroke:#000000; stroke-width:4; stroke-opacity:1; fill:none\" points=\"\n",
       "  153.898,1487.47 153.898,121.675 \n",
       "  \"/>\n",
       "<polyline clip-path=\"url(#clip5300)\" style=\"stroke:#000000; stroke-width:4; stroke-opacity:1; fill:none\" points=\"\n",
       "  446.618,1487.47 446.618,1471.09 \n",
       "  \"/>\n",
       "<polyline clip-path=\"url(#clip5300)\" style=\"stroke:#000000; stroke-width:4; stroke-opacity:1; fill:none\" points=\"\n",
       "  907.595,1487.47 907.595,1471.09 \n",
       "  \"/>\n",
       "<polyline clip-path=\"url(#clip5300)\" style=\"stroke:#000000; stroke-width:4; stroke-opacity:1; fill:none\" points=\"\n",
       "  1368.57,1487.47 1368.57,1471.09 \n",
       "  \"/>\n",
       "<polyline clip-path=\"url(#clip5300)\" style=\"stroke:#000000; stroke-width:4; stroke-opacity:1; fill:none\" points=\"\n",
       "  1829.55,1487.47 1829.55,1471.09 \n",
       "  \"/>\n",
       "<polyline clip-path=\"url(#clip5300)\" style=\"stroke:#000000; stroke-width:4; stroke-opacity:1; fill:none\" points=\"\n",
       "  2290.52,1487.47 2290.52,1471.09 \n",
       "  \"/>\n",
       "<polyline clip-path=\"url(#clip5300)\" style=\"stroke:#000000; stroke-width:4; stroke-opacity:1; fill:none\" points=\"\n",
       "  153.898,1259.28 180.284,1259.28 \n",
       "  \"/>\n",
       "<polyline clip-path=\"url(#clip5300)\" style=\"stroke:#000000; stroke-width:4; stroke-opacity:1; fill:none\" points=\"\n",
       "  153.898,983.354 180.284,983.354 \n",
       "  \"/>\n",
       "<polyline clip-path=\"url(#clip5300)\" style=\"stroke:#000000; stroke-width:4; stroke-opacity:1; fill:none\" points=\"\n",
       "  153.898,707.424 180.284,707.424 \n",
       "  \"/>\n",
       "<polyline clip-path=\"url(#clip5300)\" style=\"stroke:#000000; stroke-width:4; stroke-opacity:1; fill:none\" points=\"\n",
       "  153.898,431.494 180.284,431.494 \n",
       "  \"/>\n",
       "<polyline clip-path=\"url(#clip5300)\" style=\"stroke:#000000; stroke-width:4; stroke-opacity:1; fill:none\" points=\"\n",
       "  153.898,155.564 180.284,155.564 \n",
       "  \"/>\n",
       "<g clip-path=\"url(#clip5300)\">\n",
       "<text style=\"fill:#000000; fill-opacity:1; font-family:Arial,Helvetica Neue,Helvetica,sans-serif; font-size:48px; text-anchor:middle;\" transform=\"rotate(0, 446.618, 1541.47)\" x=\"446.618\" y=\"1541.47\">2</text>\n",
       "</g>\n",
       "<g clip-path=\"url(#clip5300)\">\n",
       "<text style=\"fill:#000000; fill-opacity:1; font-family:Arial,Helvetica Neue,Helvetica,sans-serif; font-size:48px; text-anchor:middle;\" transform=\"rotate(0, 907.595, 1541.47)\" x=\"907.595\" y=\"1541.47\">4</text>\n",
       "</g>\n",
       "<g clip-path=\"url(#clip5300)\">\n",
       "<text style=\"fill:#000000; fill-opacity:1; font-family:Arial,Helvetica Neue,Helvetica,sans-serif; font-size:48px; text-anchor:middle;\" transform=\"rotate(0, 1368.57, 1541.47)\" x=\"1368.57\" y=\"1541.47\">6</text>\n",
       "</g>\n",
       "<g clip-path=\"url(#clip5300)\">\n",
       "<text style=\"fill:#000000; fill-opacity:1; font-family:Arial,Helvetica Neue,Helvetica,sans-serif; font-size:48px; text-anchor:middle;\" transform=\"rotate(0, 1829.55, 1541.47)\" x=\"1829.55\" y=\"1541.47\">8</text>\n",
       "</g>\n",
       "<g clip-path=\"url(#clip5300)\">\n",
       "<text style=\"fill:#000000; fill-opacity:1; font-family:Arial,Helvetica Neue,Helvetica,sans-serif; font-size:48px; text-anchor:middle;\" transform=\"rotate(0, 2290.52, 1541.47)\" x=\"2290.52\" y=\"1541.47\">10</text>\n",
       "</g>\n",
       "<g clip-path=\"url(#clip5300)\">\n",
       "<text style=\"fill:#000000; fill-opacity:1; font-family:Arial,Helvetica Neue,Helvetica,sans-serif; font-size:48px; text-anchor:end;\" transform=\"rotate(0, 129.898, 1276.78)\" x=\"129.898\" y=\"1276.78\">0.2</text>\n",
       "</g>\n",
       "<g clip-path=\"url(#clip5300)\">\n",
       "<text style=\"fill:#000000; fill-opacity:1; font-family:Arial,Helvetica Neue,Helvetica,sans-serif; font-size:48px; text-anchor:end;\" transform=\"rotate(0, 129.898, 1000.85)\" x=\"129.898\" y=\"1000.85\">0.4</text>\n",
       "</g>\n",
       "<g clip-path=\"url(#clip5300)\">\n",
       "<text style=\"fill:#000000; fill-opacity:1; font-family:Arial,Helvetica Neue,Helvetica,sans-serif; font-size:48px; text-anchor:end;\" transform=\"rotate(0, 129.898, 724.924)\" x=\"129.898\" y=\"724.924\">0.6</text>\n",
       "</g>\n",
       "<g clip-path=\"url(#clip5300)\">\n",
       "<text style=\"fill:#000000; fill-opacity:1; font-family:Arial,Helvetica Neue,Helvetica,sans-serif; font-size:48px; text-anchor:end;\" transform=\"rotate(0, 129.898, 448.994)\" x=\"129.898\" y=\"448.994\">0.8</text>\n",
       "</g>\n",
       "<g clip-path=\"url(#clip5300)\">\n",
       "<text style=\"fill:#000000; fill-opacity:1; font-family:Arial,Helvetica Neue,Helvetica,sans-serif; font-size:48px; text-anchor:end;\" transform=\"rotate(0, 129.898, 173.064)\" x=\"129.898\" y=\"173.064\">1.0</text>\n",
       "</g>\n",
       "<g clip-path=\"url(#clip5300)\">\n",
       "<text style=\"fill:#000000; fill-opacity:1; font-family:Arial,Helvetica Neue,Helvetica,sans-serif; font-size:84px; text-anchor:middle;\" transform=\"rotate(0, 1253.33, 73.2)\" x=\"1253.33\" y=\"73.2\">My Scatter Plot</text>\n",
       "</g>\n",
       "<circle clip-path=\"url(#clip5302)\" cx=\"216.13\" cy=\"349.673\" r=\"14\" fill=\"#009af9\" fill-rule=\"evenodd\" fill-opacity=\"1\" stroke=\"#000000\" stroke-opacity=\"1\" stroke-width=\"3.2\"/>\n",
       "<circle clip-path=\"url(#clip5302)\" cx=\"446.618\" cy=\"371.455\" r=\"14\" fill=\"#009af9\" fill-rule=\"evenodd\" fill-opacity=\"1\" stroke=\"#000000\" stroke-opacity=\"1\" stroke-width=\"3.2\"/>\n",
       "<circle clip-path=\"url(#clip5302)\" cx=\"677.106\" cy=\"160.33\" r=\"14\" fill=\"#009af9\" fill-rule=\"evenodd\" fill-opacity=\"1\" stroke=\"#000000\" stroke-opacity=\"1\" stroke-width=\"3.2\"/>\n",
       "<circle clip-path=\"url(#clip5302)\" cx=\"907.595\" cy=\"1338.19\" r=\"14\" fill=\"#009af9\" fill-rule=\"evenodd\" fill-opacity=\"1\" stroke=\"#000000\" stroke-opacity=\"1\" stroke-width=\"3.2\"/>\n",
       "<circle clip-path=\"url(#clip5302)\" cx=\"1138.08\" cy=\"548.178\" r=\"14\" fill=\"#009af9\" fill-rule=\"evenodd\" fill-opacity=\"1\" stroke=\"#000000\" stroke-opacity=\"1\" stroke-width=\"3.2\"/>\n",
       "<circle clip-path=\"url(#clip5302)\" cx=\"1368.57\" cy=\"1448.82\" r=\"14\" fill=\"#009af9\" fill-rule=\"evenodd\" fill-opacity=\"1\" stroke=\"#000000\" stroke-opacity=\"1\" stroke-width=\"3.2\"/>\n",
       "<circle clip-path=\"url(#clip5302)\" cx=\"1599.06\" cy=\"1403.43\" r=\"14\" fill=\"#009af9\" fill-rule=\"evenodd\" fill-opacity=\"1\" stroke=\"#000000\" stroke-opacity=\"1\" stroke-width=\"3.2\"/>\n",
       "<circle clip-path=\"url(#clip5302)\" cx=\"1829.55\" cy=\"225.221\" r=\"14\" fill=\"#009af9\" fill-rule=\"evenodd\" fill-opacity=\"1\" stroke=\"#000000\" stroke-opacity=\"1\" stroke-width=\"3.2\"/>\n",
       "<circle clip-path=\"url(#clip5302)\" cx=\"2060.04\" cy=\"771.3\" r=\"14\" fill=\"#009af9\" fill-rule=\"evenodd\" fill-opacity=\"1\" stroke=\"#000000\" stroke-opacity=\"1\" stroke-width=\"3.2\"/>\n",
       "<circle clip-path=\"url(#clip5302)\" cx=\"2290.52\" cy=\"666.478\" r=\"14\" fill=\"#009af9\" fill-rule=\"evenodd\" fill-opacity=\"1\" stroke=\"#000000\" stroke-opacity=\"1\" stroke-width=\"3.2\"/>\n",
       "<path clip-path=\"url(#clip5300)\" d=\"\n",
       "M1989.93 326.155 L2280.76 326.155 L2280.76 205.195 L1989.93 205.195  Z\n",
       "  \" fill=\"#ffffff\" fill-rule=\"evenodd\" fill-opacity=\"1\"/>\n",
       "<polyline clip-path=\"url(#clip5300)\" style=\"stroke:#000000; stroke-width:4; stroke-opacity:1; fill:none\" points=\"\n",
       "  1989.93,326.155 2280.76,326.155 2280.76,205.195 1989.93,205.195 1989.93,326.155 \n",
       "  \"/>\n",
       "<circle clip-path=\"url(#clip5300)\" cx=\"2097.93\" cy=\"265.675\" r=\"21\" fill=\"#009af9\" fill-rule=\"evenodd\" fill-opacity=\"1\" stroke=\"#000000\" stroke-opacity=\"1\" stroke-width=\"3.2\"/>\n",
       "<g clip-path=\"url(#clip5300)\">\n",
       "<text style=\"fill:#000000; fill-opacity:1; font-family:Arial,Helvetica Neue,Helvetica,sans-serif; font-size:48px; text-anchor:start;\" transform=\"rotate(0, 2181.93, 283.175)\" x=\"2181.93\" y=\"283.175\">y1</text>\n",
       "</g>\n",
       "</svg>\n"
      ]
     },
     "execution_count": 34,
     "metadata": {},
     "output_type": "execute_result"
    }
   ],
   "source": [
    "x = 1:10; y = rand(10)\n",
    "Plots.plot(x, y, seriestype = :scatter, title = \"My Scatter Plot\")"
   ]
  },
  {
   "cell_type": "code",
   "execution_count": 35,
   "metadata": {},
   "outputs": [
    {
     "data": {
      "image/svg+xml": [
       "<?xml version=\"1.0\" encoding=\"utf-8\"?>\n",
       "<svg xmlns=\"http://www.w3.org/2000/svg\" xmlns:xlink=\"http://www.w3.org/1999/xlink\" width=\"600\" height=\"400\" viewBox=\"0 0 2400 1600\">\n",
       "<defs>\n",
       "  <clipPath id=\"clip5700\">\n",
       "    <rect x=\"0\" y=\"0\" width=\"2400\" height=\"1600\"/>\n",
       "  </clipPath>\n",
       "</defs>\n",
       "<path clip-path=\"url(#clip5700)\" d=\"\n",
       "M0 1600 L2400 1600 L2400 0 L0 0  Z\n",
       "  \" fill=\"#ffffff\" fill-rule=\"evenodd\" fill-opacity=\"1\"/>\n",
       "<defs>\n",
       "  <clipPath id=\"clip5701\">\n",
       "    <rect x=\"480\" y=\"0\" width=\"1681\" height=\"1600\"/>\n",
       "  </clipPath>\n",
       "</defs>\n",
       "<path clip-path=\"url(#clip5700)\" d=\"\n",
       "M153.898 1487.47 L2352.76 1487.47 L2352.76 121.675 L153.898 121.675  Z\n",
       "  \" fill=\"#ffffff\" fill-rule=\"evenodd\" fill-opacity=\"1\"/>\n",
       "<defs>\n",
       "  <clipPath id=\"clip5702\">\n",
       "    <rect x=\"153\" y=\"121\" width=\"2200\" height=\"1367\"/>\n",
       "  </clipPath>\n",
       "</defs>\n",
       "<polyline clip-path=\"url(#clip5702)\" style=\"stroke:#000000; stroke-width:2; stroke-opacity:0.1; fill:none\" points=\"\n",
       "  446.618,1487.47 446.618,121.675 \n",
       "  \"/>\n",
       "<polyline clip-path=\"url(#clip5702)\" style=\"stroke:#000000; stroke-width:2; stroke-opacity:0.1; fill:none\" points=\"\n",
       "  907.595,1487.47 907.595,121.675 \n",
       "  \"/>\n",
       "<polyline clip-path=\"url(#clip5702)\" style=\"stroke:#000000; stroke-width:2; stroke-opacity:0.1; fill:none\" points=\"\n",
       "  1368.57,1487.47 1368.57,121.675 \n",
       "  \"/>\n",
       "<polyline clip-path=\"url(#clip5702)\" style=\"stroke:#000000; stroke-width:2; stroke-opacity:0.1; fill:none\" points=\"\n",
       "  1829.55,1487.47 1829.55,121.675 \n",
       "  \"/>\n",
       "<polyline clip-path=\"url(#clip5702)\" style=\"stroke:#000000; stroke-width:2; stroke-opacity:0.1; fill:none\" points=\"\n",
       "  2290.52,1487.47 2290.52,121.675 \n",
       "  \"/>\n",
       "<polyline clip-path=\"url(#clip5702)\" style=\"stroke:#000000; stroke-width:2; stroke-opacity:0.1; fill:none\" points=\"\n",
       "  153.898,1254.3 2352.76,1254.3 \n",
       "  \"/>\n",
       "<polyline clip-path=\"url(#clip5702)\" style=\"stroke:#000000; stroke-width:2; stroke-opacity:0.1; fill:none\" points=\"\n",
       "  153.898,979.62 2352.76,979.62 \n",
       "  \"/>\n",
       "<polyline clip-path=\"url(#clip5702)\" style=\"stroke:#000000; stroke-width:2; stroke-opacity:0.1; fill:none\" points=\"\n",
       "  153.898,704.942 2352.76,704.942 \n",
       "  \"/>\n",
       "<polyline clip-path=\"url(#clip5702)\" style=\"stroke:#000000; stroke-width:2; stroke-opacity:0.1; fill:none\" points=\"\n",
       "  153.898,430.263 2352.76,430.263 \n",
       "  \"/>\n",
       "<polyline clip-path=\"url(#clip5702)\" style=\"stroke:#000000; stroke-width:2; stroke-opacity:0.1; fill:none\" points=\"\n",
       "  153.898,155.585 2352.76,155.585 \n",
       "  \"/>\n",
       "<polyline clip-path=\"url(#clip5700)\" style=\"stroke:#000000; stroke-width:4; stroke-opacity:1; fill:none\" points=\"\n",
       "  153.898,1487.47 2352.76,1487.47 \n",
       "  \"/>\n",
       "<polyline clip-path=\"url(#clip5700)\" style=\"stroke:#000000; stroke-width:4; stroke-opacity:1; fill:none\" points=\"\n",
       "  153.898,1487.47 153.898,121.675 \n",
       "  \"/>\n",
       "<polyline clip-path=\"url(#clip5700)\" style=\"stroke:#000000; stroke-width:4; stroke-opacity:1; fill:none\" points=\"\n",
       "  446.618,1487.47 446.618,1471.09 \n",
       "  \"/>\n",
       "<polyline clip-path=\"url(#clip5700)\" style=\"stroke:#000000; stroke-width:4; stroke-opacity:1; fill:none\" points=\"\n",
       "  907.595,1487.47 907.595,1471.09 \n",
       "  \"/>\n",
       "<polyline clip-path=\"url(#clip5700)\" style=\"stroke:#000000; stroke-width:4; stroke-opacity:1; fill:none\" points=\"\n",
       "  1368.57,1487.47 1368.57,1471.09 \n",
       "  \"/>\n",
       "<polyline clip-path=\"url(#clip5700)\" style=\"stroke:#000000; stroke-width:4; stroke-opacity:1; fill:none\" points=\"\n",
       "  1829.55,1487.47 1829.55,1471.09 \n",
       "  \"/>\n",
       "<polyline clip-path=\"url(#clip5700)\" style=\"stroke:#000000; stroke-width:4; stroke-opacity:1; fill:none\" points=\"\n",
       "  2290.52,1487.47 2290.52,1471.09 \n",
       "  \"/>\n",
       "<polyline clip-path=\"url(#clip5700)\" style=\"stroke:#000000; stroke-width:4; stroke-opacity:1; fill:none\" points=\"\n",
       "  153.898,1254.3 180.284,1254.3 \n",
       "  \"/>\n",
       "<polyline clip-path=\"url(#clip5700)\" style=\"stroke:#000000; stroke-width:4; stroke-opacity:1; fill:none\" points=\"\n",
       "  153.898,979.62 180.284,979.62 \n",
       "  \"/>\n",
       "<polyline clip-path=\"url(#clip5700)\" style=\"stroke:#000000; stroke-width:4; stroke-opacity:1; fill:none\" points=\"\n",
       "  153.898,704.942 180.284,704.942 \n",
       "  \"/>\n",
       "<polyline clip-path=\"url(#clip5700)\" style=\"stroke:#000000; stroke-width:4; stroke-opacity:1; fill:none\" points=\"\n",
       "  153.898,430.263 180.284,430.263 \n",
       "  \"/>\n",
       "<polyline clip-path=\"url(#clip5700)\" style=\"stroke:#000000; stroke-width:4; stroke-opacity:1; fill:none\" points=\"\n",
       "  153.898,155.585 180.284,155.585 \n",
       "  \"/>\n",
       "<g clip-path=\"url(#clip5700)\">\n",
       "<text style=\"fill:#000000; fill-opacity:1; font-family:Arial,Helvetica Neue,Helvetica,sans-serif; font-size:48px; text-anchor:middle;\" transform=\"rotate(0, 446.618, 1541.47)\" x=\"446.618\" y=\"1541.47\">2</text>\n",
       "</g>\n",
       "<g clip-path=\"url(#clip5700)\">\n",
       "<text style=\"fill:#000000; fill-opacity:1; font-family:Arial,Helvetica Neue,Helvetica,sans-serif; font-size:48px; text-anchor:middle;\" transform=\"rotate(0, 907.595, 1541.47)\" x=\"907.595\" y=\"1541.47\">4</text>\n",
       "</g>\n",
       "<g clip-path=\"url(#clip5700)\">\n",
       "<text style=\"fill:#000000; fill-opacity:1; font-family:Arial,Helvetica Neue,Helvetica,sans-serif; font-size:48px; text-anchor:middle;\" transform=\"rotate(0, 1368.57, 1541.47)\" x=\"1368.57\" y=\"1541.47\">6</text>\n",
       "</g>\n",
       "<g clip-path=\"url(#clip5700)\">\n",
       "<text style=\"fill:#000000; fill-opacity:1; font-family:Arial,Helvetica Neue,Helvetica,sans-serif; font-size:48px; text-anchor:middle;\" transform=\"rotate(0, 1829.55, 1541.47)\" x=\"1829.55\" y=\"1541.47\">8</text>\n",
       "</g>\n",
       "<g clip-path=\"url(#clip5700)\">\n",
       "<text style=\"fill:#000000; fill-opacity:1; font-family:Arial,Helvetica Neue,Helvetica,sans-serif; font-size:48px; text-anchor:middle;\" transform=\"rotate(0, 2290.52, 1541.47)\" x=\"2290.52\" y=\"1541.47\">10</text>\n",
       "</g>\n",
       "<g clip-path=\"url(#clip5700)\">\n",
       "<text style=\"fill:#000000; fill-opacity:1; font-family:Arial,Helvetica Neue,Helvetica,sans-serif; font-size:48px; text-anchor:end;\" transform=\"rotate(0, 129.898, 1271.8)\" x=\"129.898\" y=\"1271.8\">0.2</text>\n",
       "</g>\n",
       "<g clip-path=\"url(#clip5700)\">\n",
       "<text style=\"fill:#000000; fill-opacity:1; font-family:Arial,Helvetica Neue,Helvetica,sans-serif; font-size:48px; text-anchor:end;\" transform=\"rotate(0, 129.898, 997.12)\" x=\"129.898\" y=\"997.12\">0.4</text>\n",
       "</g>\n",
       "<g clip-path=\"url(#clip5700)\">\n",
       "<text style=\"fill:#000000; fill-opacity:1; font-family:Arial,Helvetica Neue,Helvetica,sans-serif; font-size:48px; text-anchor:end;\" transform=\"rotate(0, 129.898, 722.442)\" x=\"129.898\" y=\"722.442\">0.6</text>\n",
       "</g>\n",
       "<g clip-path=\"url(#clip5700)\">\n",
       "<text style=\"fill:#000000; fill-opacity:1; font-family:Arial,Helvetica Neue,Helvetica,sans-serif; font-size:48px; text-anchor:end;\" transform=\"rotate(0, 129.898, 447.763)\" x=\"129.898\" y=\"447.763\">0.8</text>\n",
       "</g>\n",
       "<g clip-path=\"url(#clip5700)\">\n",
       "<text style=\"fill:#000000; fill-opacity:1; font-family:Arial,Helvetica Neue,Helvetica,sans-serif; font-size:48px; text-anchor:end;\" transform=\"rotate(0, 129.898, 173.085)\" x=\"129.898\" y=\"173.085\">1.0</text>\n",
       "</g>\n",
       "<g clip-path=\"url(#clip5700)\">\n",
       "<text style=\"fill:#000000; fill-opacity:1; font-family:Arial,Helvetica Neue,Helvetica,sans-serif; font-size:84px; text-anchor:middle;\" transform=\"rotate(0, 1253.33, 73.2)\" x=\"1253.33\" y=\"73.2\">My Scatter Plot</text>\n",
       "</g>\n",
       "<circle clip-path=\"url(#clip5702)\" cx=\"216.13\" cy=\"348.814\" r=\"14\" fill=\"#009af9\" fill-rule=\"evenodd\" fill-opacity=\"1\" stroke=\"#000000\" stroke-opacity=\"1\" stroke-width=\"3.2\"/>\n",
       "<circle clip-path=\"url(#clip5702)\" cx=\"446.618\" cy=\"370.497\" r=\"14\" fill=\"#009af9\" fill-rule=\"evenodd\" fill-opacity=\"1\" stroke=\"#000000\" stroke-opacity=\"1\" stroke-width=\"3.2\"/>\n",
       "<circle clip-path=\"url(#clip5702)\" cx=\"677.106\" cy=\"160.33\" r=\"14\" fill=\"#009af9\" fill-rule=\"evenodd\" fill-opacity=\"1\" stroke=\"#000000\" stroke-opacity=\"1\" stroke-width=\"3.2\"/>\n",
       "<circle clip-path=\"url(#clip5702)\" cx=\"907.595\" cy=\"1332.84\" r=\"14\" fill=\"#009af9\" fill-rule=\"evenodd\" fill-opacity=\"1\" stroke=\"#000000\" stroke-opacity=\"1\" stroke-width=\"3.2\"/>\n",
       "<circle clip-path=\"url(#clip5702)\" cx=\"1138.08\" cy=\"546.418\" r=\"14\" fill=\"#009af9\" fill-rule=\"evenodd\" fill-opacity=\"1\" stroke=\"#000000\" stroke-opacity=\"1\" stroke-width=\"3.2\"/>\n",
       "<circle clip-path=\"url(#clip5702)\" cx=\"1368.57\" cy=\"1442.97\" r=\"14\" fill=\"#009af9\" fill-rule=\"evenodd\" fill-opacity=\"1\" stroke=\"#000000\" stroke-opacity=\"1\" stroke-width=\"3.2\"/>\n",
       "<circle clip-path=\"url(#clip5702)\" cx=\"1599.06\" cy=\"1397.79\" r=\"14\" fill=\"#009af9\" fill-rule=\"evenodd\" fill-opacity=\"1\" stroke=\"#000000\" stroke-opacity=\"1\" stroke-width=\"3.2\"/>\n",
       "<circle clip-path=\"url(#clip5702)\" cx=\"1829.55\" cy=\"224.927\" r=\"14\" fill=\"#009af9\" fill-rule=\"evenodd\" fill-opacity=\"1\" stroke=\"#000000\" stroke-opacity=\"1\" stroke-width=\"3.2\"/>\n",
       "<circle clip-path=\"url(#clip5702)\" cx=\"2060.04\" cy=\"768.528\" r=\"14\" fill=\"#009af9\" fill-rule=\"evenodd\" fill-opacity=\"1\" stroke=\"#000000\" stroke-opacity=\"1\" stroke-width=\"3.2\"/>\n",
       "<circle clip-path=\"url(#clip5702)\" cx=\"2290.52\" cy=\"664.181\" r=\"14\" fill=\"#009af9\" fill-rule=\"evenodd\" fill-opacity=\"1\" stroke=\"#000000\" stroke-opacity=\"1\" stroke-width=\"3.2\"/>\n",
       "<polyline clip-path=\"url(#clip5702)\" style=\"stroke:#e26f46; stroke-width:4; stroke-opacity:1; fill:none\" points=\"\n",
       "  216.13,1181.11 446.618,1448.82 677.106,1436.49 907.595,447.867 1138.08,911.455 1368.57,414.452 1599.06,517.967 1829.55,199.057 2060.04,920.435 2290.52,1064.81 \n",
       "  \n",
       "  \"/>\n",
       "<path clip-path=\"url(#clip5700)\" d=\"\n",
       "M1989.93 386.635 L2280.76 386.635 L2280.76 205.195 L1989.93 205.195  Z\n",
       "  \" fill=\"#ffffff\" fill-rule=\"evenodd\" fill-opacity=\"1\"/>\n",
       "<polyline clip-path=\"url(#clip5700)\" style=\"stroke:#000000; stroke-width:4; stroke-opacity:1; fill:none\" points=\"\n",
       "  1989.93,386.635 2280.76,386.635 2280.76,205.195 1989.93,205.195 1989.93,386.635 \n",
       "  \"/>\n",
       "<circle clip-path=\"url(#clip5700)\" cx=\"2097.93\" cy=\"265.675\" r=\"21\" fill=\"#009af9\" fill-rule=\"evenodd\" fill-opacity=\"1\" stroke=\"#000000\" stroke-opacity=\"1\" stroke-width=\"3.2\"/>\n",
       "<g clip-path=\"url(#clip5700)\">\n",
       "<text style=\"fill:#000000; fill-opacity:1; font-family:Arial,Helvetica Neue,Helvetica,sans-serif; font-size:48px; text-anchor:start;\" transform=\"rotate(0, 2181.93, 283.175)\" x=\"2181.93\" y=\"283.175\">y1</text>\n",
       "</g>\n",
       "<polyline clip-path=\"url(#clip5700)\" style=\"stroke:#e26f46; stroke-width:4; stroke-opacity:1; fill:none\" points=\"\n",
       "  2013.93,326.155 2157.93,326.155 \n",
       "  \"/>\n",
       "<g clip-path=\"url(#clip5700)\">\n",
       "<text style=\"fill:#000000; fill-opacity:1; font-family:Arial,Helvetica Neue,Helvetica,sans-serif; font-size:48px; text-anchor:start;\" transform=\"rotate(0, 2181.93, 343.655)\" x=\"2181.93\" y=\"343.655\">y2</text>\n",
       "</g>\n",
       "</svg>\n"
      ]
     },
     "execution_count": 35,
     "metadata": {},
     "output_type": "execute_result"
    }
   ],
   "source": [
    "x = 1:10; y = rand(10); # These are the plotting data\n",
    "Plots.plot!(x, y)"
   ]
  },
  {
   "cell_type": "markdown",
   "metadata": {},
   "source": [
    "#### Short cut for DataFrame object\n",
    "StatsPlots.jl thus has a macro @df which allows you to plot a DataFrame directly by using the column names.\n",
    "\n",
    "Run the following cell to install StatsPlots.jl"
   ]
  },
  {
   "cell_type": "code",
   "execution_count": null,
   "metadata": {
    "collapsed": true
   },
   "outputs": [],
   "source": [
    "import Pkg\n",
    "Pkg.add(\"StatsPlots\")\n",
    "using StatsPlots"
   ]
  },
  {
   "cell_type": "markdown",
   "metadata": {},
   "source": [
    "Use @df df plot() or scatter() to plot the graph"
   ]
  },
  {
   "cell_type": "code",
   "execution_count": 25,
   "metadata": {
    "collapsed": true
   },
   "outputs": [
    {
     "data": {
      "image/svg+xml": [
       "<?xml version=\"1.0\" encoding=\"utf-8\"?>\n",
       "<svg xmlns=\"http://www.w3.org/2000/svg\" xmlns:xlink=\"http://www.w3.org/1999/xlink\" width=\"600\" height=\"400\" viewBox=\"0 0 2400 1600\">\n",
       "<defs>\n",
       "  <clipPath id=\"clip1700\">\n",
       "    <rect x=\"0\" y=\"0\" width=\"2400\" height=\"1600\"/>\n",
       "  </clipPath>\n",
       "</defs>\n",
       "<path clip-path=\"url(#clip1700)\" d=\"\n",
       "M0 1600 L2400 1600 L2400 0 L0 0  Z\n",
       "  \" fill=\"#ffffff\" fill-rule=\"evenodd\" fill-opacity=\"1\"/>\n",
       "<defs>\n",
       "  <clipPath id=\"clip1701\">\n",
       "    <rect x=\"480\" y=\"0\" width=\"1681\" height=\"1600\"/>\n",
       "  </clipPath>\n",
       "</defs>\n",
       "<path clip-path=\"url(#clip1700)\" d=\"\n",
       "M113.754 1487.47 L2352.76 1487.47 L2352.76 47.2441 L113.754 47.2441  Z\n",
       "  \" fill=\"#ffffff\" fill-rule=\"evenodd\" fill-opacity=\"1\"/>\n",
       "<defs>\n",
       "  <clipPath id=\"clip1702\">\n",
       "    <rect x=\"113\" y=\"47\" width=\"2240\" height=\"1441\"/>\n",
       "  </clipPath>\n",
       "</defs>\n",
       "<polyline clip-path=\"url(#clip1702)\" style=\"stroke:#000000; stroke-width:2; stroke-opacity:0.1; fill:none\" points=\"\n",
       "  411.819,1487.47 411.819,47.2441 \n",
       "  \"/>\n",
       "<polyline clip-path=\"url(#clip1702)\" style=\"stroke:#000000; stroke-width:2; stroke-opacity:0.1; fill:none\" points=\"\n",
       "  881.211,1487.47 881.211,47.2441 \n",
       "  \"/>\n",
       "<polyline clip-path=\"url(#clip1702)\" style=\"stroke:#000000; stroke-width:2; stroke-opacity:0.1; fill:none\" points=\"\n",
       "  1350.6,1487.47 1350.6,47.2441 \n",
       "  \"/>\n",
       "<polyline clip-path=\"url(#clip1702)\" style=\"stroke:#000000; stroke-width:2; stroke-opacity:0.1; fill:none\" points=\"\n",
       "  1820,1487.47 1820,47.2441 \n",
       "  \"/>\n",
       "<polyline clip-path=\"url(#clip1702)\" style=\"stroke:#000000; stroke-width:2; stroke-opacity:0.1; fill:none\" points=\"\n",
       "  2289.39,1487.47 2289.39,47.2441 \n",
       "  \"/>\n",
       "<polyline clip-path=\"url(#clip1702)\" style=\"stroke:#000000; stroke-width:2; stroke-opacity:0.1; fill:none\" points=\"\n",
       "  113.754,1307.68 2352.76,1307.68 \n",
       "  \"/>\n",
       "<polyline clip-path=\"url(#clip1702)\" style=\"stroke:#000000; stroke-width:2; stroke-opacity:0.1; fill:none\" points=\"\n",
       "  113.754,982.271 2352.76,982.271 \n",
       "  \"/>\n",
       "<polyline clip-path=\"url(#clip1702)\" style=\"stroke:#000000; stroke-width:2; stroke-opacity:0.1; fill:none\" points=\"\n",
       "  113.754,656.865 2352.76,656.865 \n",
       "  \"/>\n",
       "<polyline clip-path=\"url(#clip1702)\" style=\"stroke:#000000; stroke-width:2; stroke-opacity:0.1; fill:none\" points=\"\n",
       "  113.754,331.459 2352.76,331.459 \n",
       "  \"/>\n",
       "<polyline clip-path=\"url(#clip1700)\" style=\"stroke:#000000; stroke-width:4; stroke-opacity:1; fill:none\" points=\"\n",
       "  113.754,1487.47 2352.76,1487.47 \n",
       "  \"/>\n",
       "<polyline clip-path=\"url(#clip1700)\" style=\"stroke:#000000; stroke-width:4; stroke-opacity:1; fill:none\" points=\"\n",
       "  113.754,1487.47 113.754,47.2441 \n",
       "  \"/>\n",
       "<polyline clip-path=\"url(#clip1700)\" style=\"stroke:#000000; stroke-width:4; stroke-opacity:1; fill:none\" points=\"\n",
       "  411.819,1487.47 411.819,1470.19 \n",
       "  \"/>\n",
       "<polyline clip-path=\"url(#clip1700)\" style=\"stroke:#000000; stroke-width:4; stroke-opacity:1; fill:none\" points=\"\n",
       "  881.211,1487.47 881.211,1470.19 \n",
       "  \"/>\n",
       "<polyline clip-path=\"url(#clip1700)\" style=\"stroke:#000000; stroke-width:4; stroke-opacity:1; fill:none\" points=\"\n",
       "  1350.6,1487.47 1350.6,1470.19 \n",
       "  \"/>\n",
       "<polyline clip-path=\"url(#clip1700)\" style=\"stroke:#000000; stroke-width:4; stroke-opacity:1; fill:none\" points=\"\n",
       "  1820,1487.47 1820,1470.19 \n",
       "  \"/>\n",
       "<polyline clip-path=\"url(#clip1700)\" style=\"stroke:#000000; stroke-width:4; stroke-opacity:1; fill:none\" points=\"\n",
       "  2289.39,1487.47 2289.39,1470.19 \n",
       "  \"/>\n",
       "<polyline clip-path=\"url(#clip1700)\" style=\"stroke:#000000; stroke-width:4; stroke-opacity:1; fill:none\" points=\"\n",
       "  113.754,1307.68 140.622,1307.68 \n",
       "  \"/>\n",
       "<polyline clip-path=\"url(#clip1700)\" style=\"stroke:#000000; stroke-width:4; stroke-opacity:1; fill:none\" points=\"\n",
       "  113.754,982.271 140.622,982.271 \n",
       "  \"/>\n",
       "<polyline clip-path=\"url(#clip1700)\" style=\"stroke:#000000; stroke-width:4; stroke-opacity:1; fill:none\" points=\"\n",
       "  113.754,656.865 140.622,656.865 \n",
       "  \"/>\n",
       "<polyline clip-path=\"url(#clip1700)\" style=\"stroke:#000000; stroke-width:4; stroke-opacity:1; fill:none\" points=\"\n",
       "  113.754,331.459 140.622,331.459 \n",
       "  \"/>\n",
       "<g clip-path=\"url(#clip1700)\">\n",
       "<text style=\"fill:#000000; fill-opacity:1; font-family:Arial,Helvetica Neue,Helvetica,sans-serif; font-size:48px; text-anchor:middle;\" transform=\"rotate(0, 411.819, 1541.47)\" x=\"411.819\" y=\"1541.47\">2</text>\n",
       "</g>\n",
       "<g clip-path=\"url(#clip1700)\">\n",
       "<text style=\"fill:#000000; fill-opacity:1; font-family:Arial,Helvetica Neue,Helvetica,sans-serif; font-size:48px; text-anchor:middle;\" transform=\"rotate(0, 881.211, 1541.47)\" x=\"881.211\" y=\"1541.47\">4</text>\n",
       "</g>\n",
       "<g clip-path=\"url(#clip1700)\">\n",
       "<text style=\"fill:#000000; fill-opacity:1; font-family:Arial,Helvetica Neue,Helvetica,sans-serif; font-size:48px; text-anchor:middle;\" transform=\"rotate(0, 1350.6, 1541.47)\" x=\"1350.6\" y=\"1541.47\">6</text>\n",
       "</g>\n",
       "<g clip-path=\"url(#clip1700)\">\n",
       "<text style=\"fill:#000000; fill-opacity:1; font-family:Arial,Helvetica Neue,Helvetica,sans-serif; font-size:48px; text-anchor:middle;\" transform=\"rotate(0, 1820, 1541.47)\" x=\"1820\" y=\"1541.47\">8</text>\n",
       "</g>\n",
       "<g clip-path=\"url(#clip1700)\">\n",
       "<text style=\"fill:#000000; fill-opacity:1; font-family:Arial,Helvetica Neue,Helvetica,sans-serif; font-size:48px; text-anchor:middle;\" transform=\"rotate(0, 2289.39, 1541.47)\" x=\"2289.39\" y=\"1541.47\">10</text>\n",
       "</g>\n",
       "<g clip-path=\"url(#clip1700)\">\n",
       "<text style=\"fill:#000000; fill-opacity:1; font-family:Arial,Helvetica Neue,Helvetica,sans-serif; font-size:48px; text-anchor:end;\" transform=\"rotate(0, 89.7545, 1325.18)\" x=\"89.7545\" y=\"1325.18\">2</text>\n",
       "</g>\n",
       "<g clip-path=\"url(#clip1700)\">\n",
       "<text style=\"fill:#000000; fill-opacity:1; font-family:Arial,Helvetica Neue,Helvetica,sans-serif; font-size:48px; text-anchor:end;\" transform=\"rotate(0, 89.7545, 999.771)\" x=\"89.7545\" y=\"999.771\">4</text>\n",
       "</g>\n",
       "<g clip-path=\"url(#clip1700)\">\n",
       "<text style=\"fill:#000000; fill-opacity:1; font-family:Arial,Helvetica Neue,Helvetica,sans-serif; font-size:48px; text-anchor:end;\" transform=\"rotate(0, 89.7545, 674.365)\" x=\"89.7545\" y=\"674.365\">6</text>\n",
       "</g>\n",
       "<g clip-path=\"url(#clip1700)\">\n",
       "<text style=\"fill:#000000; fill-opacity:1; font-family:Arial,Helvetica Neue,Helvetica,sans-serif; font-size:48px; text-anchor:end;\" transform=\"rotate(0, 89.7545, 348.959)\" x=\"89.7545\" y=\"348.959\">8</text>\n",
       "</g>\n",
       "<polyline clip-path=\"url(#clip1702)\" style=\"stroke:#009af9; stroke-width:4; stroke-opacity:1; fill:none\" points=\"\n",
       "  177.122,1148.78 411.819,854.244 646.515,857.588 881.211,1261.68 1115.91,404.943 1350.6,161.151 1585.3,1176.82 1820,692.893 2054.69,88.0053 2289.39,1446.71 \n",
       "  \n",
       "  \"/>\n",
       "<polyline clip-path=\"url(#clip1702)\" style=\"stroke:#e26f46; stroke-width:4; stroke-opacity:1; fill:none\" points=\"\n",
       "  177.122,332.696 411.819,172.187 646.515,518.429 881.211,540.548 1115.91,1297.08 1350.6,1227.72 1585.3,806.388 1820,1043.03 2054.69,571.745 2289.39,865.251 \n",
       "  \n",
       "  \"/>\n",
       "<path clip-path=\"url(#clip1700)\" d=\"\n",
       "M2013.99 312.204 L2280.76 312.204 L2280.76 130.764 L2013.99 130.764  Z\n",
       "  \" fill=\"#ffffff\" fill-rule=\"evenodd\" fill-opacity=\"1\"/>\n",
       "<polyline clip-path=\"url(#clip1700)\" style=\"stroke:#000000; stroke-width:4; stroke-opacity:1; fill:none\" points=\"\n",
       "  2013.99,312.204 2280.76,312.204 2280.76,130.764 2013.99,130.764 2013.99,312.204 \n",
       "  \"/>\n",
       "<polyline clip-path=\"url(#clip1700)\" style=\"stroke:#009af9; stroke-width:4; stroke-opacity:1; fill:none\" points=\"\n",
       "  2037.99,191.244 2181.99,191.244 \n",
       "  \"/>\n",
       "<g clip-path=\"url(#clip1700)\">\n",
       "<text style=\"fill:#000000; fill-opacity:1; font-family:Arial,Helvetica Neue,Helvetica,sans-serif; font-size:48px; text-anchor:start;\" transform=\"rotate(0, 2205.99, 208.744)\" x=\"2205.99\" y=\"208.744\">b</text>\n",
       "</g>\n",
       "<polyline clip-path=\"url(#clip1700)\" style=\"stroke:#e26f46; stroke-width:4; stroke-opacity:1; fill:none\" points=\"\n",
       "  2037.99,251.724 2181.99,251.724 \n",
       "  \"/>\n",
       "<g clip-path=\"url(#clip1700)\">\n",
       "<text style=\"fill:#000000; fill-opacity:1; font-family:Arial,Helvetica Neue,Helvetica,sans-serif; font-size:48px; text-anchor:start;\" transform=\"rotate(0, 2205.99, 269.224)\" x=\"2205.99\" y=\"269.224\">c</text>\n",
       "</g>\n",
       "</svg>\n"
      ]
     },
     "execution_count": 25,
     "metadata": {},
     "output_type": "execute_result"
    }
   ],
   "source": [
    "df = DataFrame(a = 1:10, b = 10 * rand(10), c = 10 * rand(10))\n",
    "@df df plot(:a, [:b :c])"
   ]
  },
  {
   "cell_type": "code",
   "execution_count": 26,
   "metadata": {
    "collapsed": true
   },
   "outputs": [
    {
     "data": {
      "image/svg+xml": [
       "<?xml version=\"1.0\" encoding=\"utf-8\"?>\n",
       "<svg xmlns=\"http://www.w3.org/2000/svg\" xmlns:xlink=\"http://www.w3.org/1999/xlink\" width=\"600\" height=\"400\" viewBox=\"0 0 2400 1600\">\n",
       "<defs>\n",
       "  <clipPath id=\"clip2100\">\n",
       "    <rect x=\"0\" y=\"0\" width=\"2400\" height=\"1600\"/>\n",
       "  </clipPath>\n",
       "</defs>\n",
       "<path clip-path=\"url(#clip2100)\" d=\"\n",
       "M0 1600 L2400 1600 L2400 0 L0 0  Z\n",
       "  \" fill=\"#ffffff\" fill-rule=\"evenodd\" fill-opacity=\"1\"/>\n",
       "<defs>\n",
       "  <clipPath id=\"clip2101\">\n",
       "    <rect x=\"480\" y=\"0\" width=\"1681\" height=\"1600\"/>\n",
       "  </clipPath>\n",
       "</defs>\n",
       "<path clip-path=\"url(#clip2100)\" d=\"\n",
       "M113.754 1487.47 L2352.76 1487.47 L2352.76 47.2441 L113.754 47.2441  Z\n",
       "  \" fill=\"#ffffff\" fill-rule=\"evenodd\" fill-opacity=\"1\"/>\n",
       "<defs>\n",
       "  <clipPath id=\"clip2102\">\n",
       "    <rect x=\"113\" y=\"47\" width=\"2240\" height=\"1441\"/>\n",
       "  </clipPath>\n",
       "</defs>\n",
       "<polyline clip-path=\"url(#clip2102)\" style=\"stroke:#000000; stroke-width:2; stroke-opacity:0.1; fill:none\" points=\"\n",
       "  411.819,1487.47 411.819,47.2441 \n",
       "  \"/>\n",
       "<polyline clip-path=\"url(#clip2102)\" style=\"stroke:#000000; stroke-width:2; stroke-opacity:0.1; fill:none\" points=\"\n",
       "  881.211,1487.47 881.211,47.2441 \n",
       "  \"/>\n",
       "<polyline clip-path=\"url(#clip2102)\" style=\"stroke:#000000; stroke-width:2; stroke-opacity:0.1; fill:none\" points=\"\n",
       "  1350.6,1487.47 1350.6,47.2441 \n",
       "  \"/>\n",
       "<polyline clip-path=\"url(#clip2102)\" style=\"stroke:#000000; stroke-width:2; stroke-opacity:0.1; fill:none\" points=\"\n",
       "  1820,1487.47 1820,47.2441 \n",
       "  \"/>\n",
       "<polyline clip-path=\"url(#clip2102)\" style=\"stroke:#000000; stroke-width:2; stroke-opacity:0.1; fill:none\" points=\"\n",
       "  2289.39,1487.47 2289.39,47.2441 \n",
       "  \"/>\n",
       "<polyline clip-path=\"url(#clip2102)\" style=\"stroke:#000000; stroke-width:2; stroke-opacity:0.1; fill:none\" points=\"\n",
       "  113.754,1307.68 2352.76,1307.68 \n",
       "  \"/>\n",
       "<polyline clip-path=\"url(#clip2102)\" style=\"stroke:#000000; stroke-width:2; stroke-opacity:0.1; fill:none\" points=\"\n",
       "  113.754,982.271 2352.76,982.271 \n",
       "  \"/>\n",
       "<polyline clip-path=\"url(#clip2102)\" style=\"stroke:#000000; stroke-width:2; stroke-opacity:0.1; fill:none\" points=\"\n",
       "  113.754,656.865 2352.76,656.865 \n",
       "  \"/>\n",
       "<polyline clip-path=\"url(#clip2102)\" style=\"stroke:#000000; stroke-width:2; stroke-opacity:0.1; fill:none\" points=\"\n",
       "  113.754,331.459 2352.76,331.459 \n",
       "  \"/>\n",
       "<polyline clip-path=\"url(#clip2100)\" style=\"stroke:#000000; stroke-width:4; stroke-opacity:1; fill:none\" points=\"\n",
       "  113.754,1487.47 2352.76,1487.47 \n",
       "  \"/>\n",
       "<polyline clip-path=\"url(#clip2100)\" style=\"stroke:#000000; stroke-width:4; stroke-opacity:1; fill:none\" points=\"\n",
       "  113.754,1487.47 113.754,47.2441 \n",
       "  \"/>\n",
       "<polyline clip-path=\"url(#clip2100)\" style=\"stroke:#000000; stroke-width:4; stroke-opacity:1; fill:none\" points=\"\n",
       "  411.819,1487.47 411.819,1470.19 \n",
       "  \"/>\n",
       "<polyline clip-path=\"url(#clip2100)\" style=\"stroke:#000000; stroke-width:4; stroke-opacity:1; fill:none\" points=\"\n",
       "  881.211,1487.47 881.211,1470.19 \n",
       "  \"/>\n",
       "<polyline clip-path=\"url(#clip2100)\" style=\"stroke:#000000; stroke-width:4; stroke-opacity:1; fill:none\" points=\"\n",
       "  1350.6,1487.47 1350.6,1470.19 \n",
       "  \"/>\n",
       "<polyline clip-path=\"url(#clip2100)\" style=\"stroke:#000000; stroke-width:4; stroke-opacity:1; fill:none\" points=\"\n",
       "  1820,1487.47 1820,1470.19 \n",
       "  \"/>\n",
       "<polyline clip-path=\"url(#clip2100)\" style=\"stroke:#000000; stroke-width:4; stroke-opacity:1; fill:none\" points=\"\n",
       "  2289.39,1487.47 2289.39,1470.19 \n",
       "  \"/>\n",
       "<polyline clip-path=\"url(#clip2100)\" style=\"stroke:#000000; stroke-width:4; stroke-opacity:1; fill:none\" points=\"\n",
       "  113.754,1307.68 140.622,1307.68 \n",
       "  \"/>\n",
       "<polyline clip-path=\"url(#clip2100)\" style=\"stroke:#000000; stroke-width:4; stroke-opacity:1; fill:none\" points=\"\n",
       "  113.754,982.271 140.622,982.271 \n",
       "  \"/>\n",
       "<polyline clip-path=\"url(#clip2100)\" style=\"stroke:#000000; stroke-width:4; stroke-opacity:1; fill:none\" points=\"\n",
       "  113.754,656.865 140.622,656.865 \n",
       "  \"/>\n",
       "<polyline clip-path=\"url(#clip2100)\" style=\"stroke:#000000; stroke-width:4; stroke-opacity:1; fill:none\" points=\"\n",
       "  113.754,331.459 140.622,331.459 \n",
       "  \"/>\n",
       "<g clip-path=\"url(#clip2100)\">\n",
       "<text style=\"fill:#000000; fill-opacity:1; font-family:Arial,Helvetica Neue,Helvetica,sans-serif; font-size:48px; text-anchor:middle;\" transform=\"rotate(0, 411.819, 1541.47)\" x=\"411.819\" y=\"1541.47\">2</text>\n",
       "</g>\n",
       "<g clip-path=\"url(#clip2100)\">\n",
       "<text style=\"fill:#000000; fill-opacity:1; font-family:Arial,Helvetica Neue,Helvetica,sans-serif; font-size:48px; text-anchor:middle;\" transform=\"rotate(0, 881.211, 1541.47)\" x=\"881.211\" y=\"1541.47\">4</text>\n",
       "</g>\n",
       "<g clip-path=\"url(#clip2100)\">\n",
       "<text style=\"fill:#000000; fill-opacity:1; font-family:Arial,Helvetica Neue,Helvetica,sans-serif; font-size:48px; text-anchor:middle;\" transform=\"rotate(0, 1350.6, 1541.47)\" x=\"1350.6\" y=\"1541.47\">6</text>\n",
       "</g>\n",
       "<g clip-path=\"url(#clip2100)\">\n",
       "<text style=\"fill:#000000; fill-opacity:1; font-family:Arial,Helvetica Neue,Helvetica,sans-serif; font-size:48px; text-anchor:middle;\" transform=\"rotate(0, 1820, 1541.47)\" x=\"1820\" y=\"1541.47\">8</text>\n",
       "</g>\n",
       "<g clip-path=\"url(#clip2100)\">\n",
       "<text style=\"fill:#000000; fill-opacity:1; font-family:Arial,Helvetica Neue,Helvetica,sans-serif; font-size:48px; text-anchor:middle;\" transform=\"rotate(0, 2289.39, 1541.47)\" x=\"2289.39\" y=\"1541.47\">10</text>\n",
       "</g>\n",
       "<g clip-path=\"url(#clip2100)\">\n",
       "<text style=\"fill:#000000; fill-opacity:1; font-family:Arial,Helvetica Neue,Helvetica,sans-serif; font-size:48px; text-anchor:end;\" transform=\"rotate(0, 89.7545, 1325.18)\" x=\"89.7545\" y=\"1325.18\">2</text>\n",
       "</g>\n",
       "<g clip-path=\"url(#clip2100)\">\n",
       "<text style=\"fill:#000000; fill-opacity:1; font-family:Arial,Helvetica Neue,Helvetica,sans-serif; font-size:48px; text-anchor:end;\" transform=\"rotate(0, 89.7545, 999.771)\" x=\"89.7545\" y=\"999.771\">4</text>\n",
       "</g>\n",
       "<g clip-path=\"url(#clip2100)\">\n",
       "<text style=\"fill:#000000; fill-opacity:1; font-family:Arial,Helvetica Neue,Helvetica,sans-serif; font-size:48px; text-anchor:end;\" transform=\"rotate(0, 89.7545, 674.365)\" x=\"89.7545\" y=\"674.365\">6</text>\n",
       "</g>\n",
       "<g clip-path=\"url(#clip2100)\">\n",
       "<text style=\"fill:#000000; fill-opacity:1; font-family:Arial,Helvetica Neue,Helvetica,sans-serif; font-size:48px; text-anchor:end;\" transform=\"rotate(0, 89.7545, 348.959)\" x=\"89.7545\" y=\"348.959\">8</text>\n",
       "</g>\n",
       "<circle clip-path=\"url(#clip2102)\" cx=\"177.122\" cy=\"1148.78\" r=\"14\" fill=\"#009af9\" fill-rule=\"evenodd\" fill-opacity=\"1\" stroke=\"#000000\" stroke-opacity=\"1\" stroke-width=\"3.2\"/>\n",
       "<circle clip-path=\"url(#clip2102)\" cx=\"411.819\" cy=\"854.244\" r=\"14\" fill=\"#009af9\" fill-rule=\"evenodd\" fill-opacity=\"1\" stroke=\"#000000\" stroke-opacity=\"1\" stroke-width=\"3.2\"/>\n",
       "<circle clip-path=\"url(#clip2102)\" cx=\"646.515\" cy=\"857.588\" r=\"14\" fill=\"#009af9\" fill-rule=\"evenodd\" fill-opacity=\"1\" stroke=\"#000000\" stroke-opacity=\"1\" stroke-width=\"3.2\"/>\n",
       "<circle clip-path=\"url(#clip2102)\" cx=\"881.211\" cy=\"1261.68\" r=\"14\" fill=\"#009af9\" fill-rule=\"evenodd\" fill-opacity=\"1\" stroke=\"#000000\" stroke-opacity=\"1\" stroke-width=\"3.2\"/>\n",
       "<circle clip-path=\"url(#clip2102)\" cx=\"1115.91\" cy=\"404.943\" r=\"14\" fill=\"#009af9\" fill-rule=\"evenodd\" fill-opacity=\"1\" stroke=\"#000000\" stroke-opacity=\"1\" stroke-width=\"3.2\"/>\n",
       "<circle clip-path=\"url(#clip2102)\" cx=\"1350.6\" cy=\"161.151\" r=\"14\" fill=\"#009af9\" fill-rule=\"evenodd\" fill-opacity=\"1\" stroke=\"#000000\" stroke-opacity=\"1\" stroke-width=\"3.2\"/>\n",
       "<circle clip-path=\"url(#clip2102)\" cx=\"1585.3\" cy=\"1176.82\" r=\"14\" fill=\"#009af9\" fill-rule=\"evenodd\" fill-opacity=\"1\" stroke=\"#000000\" stroke-opacity=\"1\" stroke-width=\"3.2\"/>\n",
       "<circle clip-path=\"url(#clip2102)\" cx=\"1820\" cy=\"692.893\" r=\"14\" fill=\"#009af9\" fill-rule=\"evenodd\" fill-opacity=\"1\" stroke=\"#000000\" stroke-opacity=\"1\" stroke-width=\"3.2\"/>\n",
       "<circle clip-path=\"url(#clip2102)\" cx=\"2054.69\" cy=\"88.0053\" r=\"14\" fill=\"#009af9\" fill-rule=\"evenodd\" fill-opacity=\"1\" stroke=\"#000000\" stroke-opacity=\"1\" stroke-width=\"3.2\"/>\n",
       "<circle clip-path=\"url(#clip2102)\" cx=\"2289.39\" cy=\"1446.71\" r=\"14\" fill=\"#009af9\" fill-rule=\"evenodd\" fill-opacity=\"1\" stroke=\"#000000\" stroke-opacity=\"1\" stroke-width=\"3.2\"/>\n",
       "<circle clip-path=\"url(#clip2102)\" cx=\"177.122\" cy=\"332.696\" r=\"14\" fill=\"#e26f46\" fill-rule=\"evenodd\" fill-opacity=\"1\" stroke=\"#000000\" stroke-opacity=\"1\" stroke-width=\"3.2\"/>\n",
       "<circle clip-path=\"url(#clip2102)\" cx=\"411.819\" cy=\"172.187\" r=\"14\" fill=\"#e26f46\" fill-rule=\"evenodd\" fill-opacity=\"1\" stroke=\"#000000\" stroke-opacity=\"1\" stroke-width=\"3.2\"/>\n",
       "<circle clip-path=\"url(#clip2102)\" cx=\"646.515\" cy=\"518.429\" r=\"14\" fill=\"#e26f46\" fill-rule=\"evenodd\" fill-opacity=\"1\" stroke=\"#000000\" stroke-opacity=\"1\" stroke-width=\"3.2\"/>\n",
       "<circle clip-path=\"url(#clip2102)\" cx=\"881.211\" cy=\"540.548\" r=\"14\" fill=\"#e26f46\" fill-rule=\"evenodd\" fill-opacity=\"1\" stroke=\"#000000\" stroke-opacity=\"1\" stroke-width=\"3.2\"/>\n",
       "<circle clip-path=\"url(#clip2102)\" cx=\"1115.91\" cy=\"1297.08\" r=\"14\" fill=\"#e26f46\" fill-rule=\"evenodd\" fill-opacity=\"1\" stroke=\"#000000\" stroke-opacity=\"1\" stroke-width=\"3.2\"/>\n",
       "<circle clip-path=\"url(#clip2102)\" cx=\"1350.6\" cy=\"1227.72\" r=\"14\" fill=\"#e26f46\" fill-rule=\"evenodd\" fill-opacity=\"1\" stroke=\"#000000\" stroke-opacity=\"1\" stroke-width=\"3.2\"/>\n",
       "<circle clip-path=\"url(#clip2102)\" cx=\"1585.3\" cy=\"806.388\" r=\"14\" fill=\"#e26f46\" fill-rule=\"evenodd\" fill-opacity=\"1\" stroke=\"#000000\" stroke-opacity=\"1\" stroke-width=\"3.2\"/>\n",
       "<circle clip-path=\"url(#clip2102)\" cx=\"1820\" cy=\"1043.03\" r=\"14\" fill=\"#e26f46\" fill-rule=\"evenodd\" fill-opacity=\"1\" stroke=\"#000000\" stroke-opacity=\"1\" stroke-width=\"3.2\"/>\n",
       "<circle clip-path=\"url(#clip2102)\" cx=\"2054.69\" cy=\"571.745\" r=\"14\" fill=\"#e26f46\" fill-rule=\"evenodd\" fill-opacity=\"1\" stroke=\"#000000\" stroke-opacity=\"1\" stroke-width=\"3.2\"/>\n",
       "<circle clip-path=\"url(#clip2102)\" cx=\"2289.39\" cy=\"865.251\" r=\"14\" fill=\"#e26f46\" fill-rule=\"evenodd\" fill-opacity=\"1\" stroke=\"#000000\" stroke-opacity=\"1\" stroke-width=\"3.2\"/>\n",
       "<path clip-path=\"url(#clip2100)\" d=\"\n",
       "M2013.99 312.204 L2280.76 312.204 L2280.76 130.764 L2013.99 130.764  Z\n",
       "  \" fill=\"#ffffff\" fill-rule=\"evenodd\" fill-opacity=\"1\"/>\n",
       "<polyline clip-path=\"url(#clip2100)\" style=\"stroke:#000000; stroke-width:4; stroke-opacity:1; fill:none\" points=\"\n",
       "  2013.99,312.204 2280.76,312.204 2280.76,130.764 2013.99,130.764 2013.99,312.204 \n",
       "  \"/>\n",
       "<circle clip-path=\"url(#clip2100)\" cx=\"2121.99\" cy=\"191.244\" r=\"21\" fill=\"#009af9\" fill-rule=\"evenodd\" fill-opacity=\"1\" stroke=\"#000000\" stroke-opacity=\"1\" stroke-width=\"3.2\"/>\n",
       "<g clip-path=\"url(#clip2100)\">\n",
       "<text style=\"fill:#000000; fill-opacity:1; font-family:Arial,Helvetica Neue,Helvetica,sans-serif; font-size:48px; text-anchor:start;\" transform=\"rotate(0, 2205.99, 208.744)\" x=\"2205.99\" y=\"208.744\">b</text>\n",
       "</g>\n",
       "<circle clip-path=\"url(#clip2100)\" cx=\"2121.99\" cy=\"251.724\" r=\"21\" fill=\"#e26f46\" fill-rule=\"evenodd\" fill-opacity=\"1\" stroke=\"#000000\" stroke-opacity=\"1\" stroke-width=\"3.2\"/>\n",
       "<g clip-path=\"url(#clip2100)\">\n",
       "<text style=\"fill:#000000; fill-opacity:1; font-family:Arial,Helvetica Neue,Helvetica,sans-serif; font-size:48px; text-anchor:start;\" transform=\"rotate(0, 2205.99, 269.224)\" x=\"2205.99\" y=\"269.224\">c</text>\n",
       "</g>\n",
       "</svg>\n"
      ]
     },
     "execution_count": 26,
     "metadata": {},
     "output_type": "execute_result"
    }
   ],
   "source": [
    "@df df scatter(:a, [:b :c])"
   ]
  },
  {
   "cell_type": "code",
   "execution_count": null,
   "metadata": {
    "collapsed": true
   },
   "outputs": [],
   "source": []
  }
 ],
 "metadata": {
  "kernelspec": {
   "display_name": "Julia 1.6.2",
   "language": "julia",
   "name": "julia-1.6"
  },
  "language_info": {
   "file_extension": ".jl",
   "mimetype": "application/julia",
   "name": "julia",
   "version": "1.6.2"
  }
 },
 "nbformat": 4,
 "nbformat_minor": 2
}
