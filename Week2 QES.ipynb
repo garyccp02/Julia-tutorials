{
 "cells": [
  {
   "cell_type": "markdown",
   "metadata": {
    "id": "h_byTrxs47DG"
   },
   "source": [
    "# Welcome to the week 2 tutorial!\n",
    "This jupyter notebook will contains examples, tutorials and execises.\n",
    "\n",
    "The order of the code cell is refering to the text tutorials and lecture video. Please execute the cells one-by-one instead of run the whole notebook"
   ]
  },
  {
   "cell_type": "markdown",
   "metadata": {
    "id": "tITbmsNK47DH"
   },
   "source": [
    "## 2.1 Control flow\n",
    "### 2.1.1 Introdunction to Control flow\n",
    "Control flow is the order function calls, instructions, and statements are executed or evaluated when a program is running.\n",
    "\n"
   ]
  },
  {
   "cell_type": "markdown",
   "metadata": {
    "id": "CvnMR2Yg47DI"
   },
   "source": [
    "### 2.1.2 Comparison operator\n",
    "Julia supports following operators"
   ]
  },
  {
   "cell_type": "code",
   "execution_count": 4,
   "metadata": {
    "id": "LTH0eMRM47DJ",
    "outputId": "ad5e3e7e-fe55-480e-fecb-732e94b5ca13"
   },
   "outputs": [
    {
     "data": {
      "text/plain": [
       "10"
      ]
     },
     "execution_count": 4,
     "metadata": {},
     "output_type": "execute_result"
    }
   ],
   "source": [
    "a = 1\n",
    "b = 5\n",
    "c = 10"
   ]
  },
  {
   "cell_type": "code",
   "execution_count": null,
   "metadata": {
    "id": "bC1TZNEe47DK",
    "outputId": "081b6264-d8a3-4b38-a163-352c8ddfd577"
   },
   "outputs": [
    {
     "name": "stdout",
     "output_type": "stream",
     "text": [
      "Equality: ==\n",
      "true\n",
      "\n",
      "Inequality: != or ≠\n",
      "true\n",
      "true\n",
      "\n",
      "Less than: <\n",
      "true\n",
      "\n",
      "Less than or equal to: <=, ≤\n",
      "true\n",
      "true\n",
      "\n",
      "Greater than: >\n",
      "true\n",
      "\n",
      "Greater than or equal to: >=, ≥\n",
      "true\n",
      "true\n",
      "\n",
      "Not: !\n",
      "true\n",
      "\n"
     ]
    }
   ],
   "source": [
    "#Equality\n",
    "println(\"Equality: ==\")\n",
    "println(b == b)\n",
    "println(\"\")\n",
    "\n",
    "#Inequality\n",
    "println(\"Inequality: != or ≠\")\n",
    "println(a ≠ b)\n",
    "println(a != b)\n",
    "println(\"\")\n",
    "\n",
    "#Less than\n",
    "println(\"Less than: <\")\n",
    "println(a < b)\n",
    "println(\"\")\n",
    "\n",
    "#Less than or equal to\n",
    "println(\"Less than or equal to: <=, ≤\")\n",
    "println(a <= b)\n",
    "println(b ≤ b)\n",
    "println(\"\")\n",
    "\n",
    "#Greater than\n",
    "println(\"Greater than: >\")\n",
    "println(c > b)\n",
    "println(\"\")\n",
    "\n",
    "#Greater than or equal to\n",
    "println(\"Greater than or equal to: >=, ≥\")\n",
    "println(c >= b)\n",
    "println(b ≥ b)\n",
    "println(\"\")\n",
    "\n",
    "#Not\n",
    "println(\"Not: !\")\n",
    "println(!(a == b))"
   ]
  },
  {
   "cell_type": "markdown",
   "metadata": {
    "id": "zlFQ_FN147DM"
   },
   "source": [
    "It is allowed to use dot syntax of array in comparison operators. It will return a boolean array"
   ]
  },
  {
   "cell_type": "code",
   "execution_count": null,
   "metadata": {
    "id": "uAcK55v_47DM",
    "outputId": "d23bac08-fc50-4c6d-c627-5c3494d416b5"
   },
   "outputs": [
    {
     "name": "stdout",
     "output_type": "stream",
     "text": [
      "Bool[1, 1, 1, 1, 0]"
     ]
    }
   ],
   "source": [
    "a = [1,2,3,4,5,x,y,z\n",
    "print(a.<5)"
   ]
  },
  {
   "cell_type": "code",
   "execution_count": null,
   "metadata": {
    "id": "fAJp4AG347DN"
   },
   "outputs": [],
   "source": [
    "### 2.1.3 Special numbers in Julia"
   ]
  }
 ],
 "metadata": {
  "colab": {
   "name": "Week2.ipynb",
   "provenance": []
  },
  "kernelspec": {
   "display_name": "Julia 1.6.2",
   "language": "julia",
   "name": "julia-1.6"
  },
  "language_info": {
   "file_extension": ".jl",
   "mimetype": "application/julia",
   "name": "julia",
   "version": "1.6.2"
  }
 },
 "nbformat": 4,
 "nbformat_minor": 1
}
